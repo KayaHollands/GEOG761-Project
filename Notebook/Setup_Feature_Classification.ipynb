{
 "cells": [
  {
   "cell_type": "markdown",
   "metadata": {
    "id": "IBVUkJ7slKp6"
   },
   "source": [
    "# Building Damage Assessment from High-resolutoin Remote Sensing Images"
   ]
  },
  {
   "cell_type": "markdown",
   "metadata": {
    "id": "zSLNdS3ylSEK"
   },
   "source": [
    "In this project, I tested several machine learning methods on classifying fire-induced building damages from high-resolution remote sensing images and analyzed important features related to the predictions. Specifically, I used annotations of fire-related damages from the xView 2 Building Damage Assessment dataset and trained the classification model on high resolution NAIP remote sensing images (0.6 meter resolution with RGB and NIR bands) of corresponding fire events.\n",
    "<br>Main Pipeline:\n",
    "<br>**Data Preprocessing**: As both XView building annotations and NAIP images include geograohic information, XView data was converted to shapefiles to filter out corresponding NAIP images in the same location through GEE API. Both pre-fire and post-fire images were used.\n",
    "<br>**Feature Calculation:** Based on the four channels of NAIP images, features were further calculated through band math, convolutoinal filters and unsupervised methods.\n",
    "<br>**Classification Model:** Decision tree, SVM, random forest, xgboost, and simple neural networks were built to test their predictability of buliding damage types. The dicision tree, SVM, and random forest were run directly on the server provided by GEE API. XGBoost and neural net were run locally on images extracted through GEE from Google Colab. Feature effects on predictions were also evaluated (detailed analysis based on XGBoost results)"
   ]
  },
  {
   "cell_type": "markdown",
   "metadata": {
    "id": "0wv-6InVlTVM"
   },
   "source": [
    "## Table of Content\n",
    "(1) __Preprocessing XView Data__ (See *xview_preprocessing.py*): extract geographic coordinates and fire-related annotations as geojson and shapefilesfrom XView json files\n",
    "<br>(2) __Set up__: Load API and packages. Connect to Google Drive, GEE API, and load annotations\n",
    "<br>(3) __Visualize Dataset__: use GEE API and leaflet to visualize ground truth labels and acquire NAIP images based on the locations of these labels\n",
    "<br>(4) __Features Calculation__: calculate several useful features for classification, including remote sensing indices, texture metrics, and some layers filtered by convolutional filters\n",
    "<br>(5) __Unsupervised Clustering Features__: use some unsupervised methods to get clusters, superpixels, or segmentations as features; summarize characteristics of unsupervised features\n",
    "<br>(6) __Image Extraction__: using the extent of buildings with the same image id as the boundary to extract NAIP images from the GEE API. Exported images were saved on Google Drive\n",
    "<br>(7) __Supervised Classification (server-end)__: GEE provide some fuctions for machine learning method (*Decision Tree, SVM, and Random Forest*) to do the classification directly on its server. Test these methods on the NAIP images and summarize their results\n",
    "<br>(8) __Supervised Classificatoin (client-end, XGBoost)__: See notebook *BuildingProj_XGBoost*. Based on images extracted from (6), tune and train XGboost models locally on Google Colab for classification. Analysis features to quantify effects of important features on building damage prediction\n",
    "<br>(9) __Supervised Classification (client-end, Simple Neural Network)__: See notebook *BuildingProj_NN*. Based on images extracted from (6), tune and train 5-layer neural network locally on Google Colab for classification.\n"
   ]
  },
  {
   "cell_type": "markdown",
   "metadata": {
    "id": "y5E6ssk7lDxr"
   },
   "source": [
    "## Setting Up"
   ]
  },
  {
   "cell_type": "markdown",
   "metadata": {
    "id": "laoiJ3tpf9Vv"
   },
   "source": [
    "In this section, connect to the Google drive and read pre-processed bounding boxes for buildings"
   ]
  },
  {
   "cell_type": "markdown",
   "metadata": {
    "id": "VidR_9pSN4di"
   },
   "source": [
    "### Connect to Drive & Set Directory"
   ]
  },
  {
   "cell_type": "code",
   "execution_count": null,
   "metadata": {},
   "outputs": [],
   "source": [
    "# !pip install earthengine-api"
   ]
  },
  {
   "cell_type": "code",
   "execution_count": null,
   "metadata": {
    "colab": {
     "base_uri": "https://localhost:8080/"
    },
    "id": "BF4nkBgBR5W9",
    "outputId": "933d721e-4784-4e35-c3c9-1a1196f0e910"
   },
   "outputs": [],
   "source": [
    "# from google.colab import drive # import drive from google colab\n",
    "# ROOT = \"/content/drive\"     # default location for the drive\n",
    "# print(ROOT)                 # print content of ROOT (Optional)\n",
    "\n",
    "# drive.mount(ROOT)           # we mount the google drive at /content/drive"
   ]
  },
  {
   "cell_type": "code",
   "execution_count": null,
   "metadata": {
    "colab": {
     "base_uri": "https://localhost:8080/"
    },
    "id": "tU9C-qfuVX7H",
    "outputId": "b22f11e0-7b74-44d9-88de-8301e7a86fd8"
   },
   "outputs": [],
   "source": [
    "# install dependencies and packages\n",
    "# ! pip install geopandas"
   ]
  },
  {
   "cell_type": "code",
   "execution_count": 1,
   "metadata": {},
   "outputs": [],
   "source": [
    "USER_NAME = \"amun830\"\n",
    "OUTPUT_BUCKET = 'ml-satdata-aqeel'"
   ]
  },
  {
   "cell_type": "code",
   "execution_count": 2,
   "metadata": {},
   "outputs": [],
   "source": [
    "import ee\n",
    "from google.auth import compute_engine\n",
    "\n",
    "scopes = [\"https://www.googleapis.com/auth/earthengine\"\n",
    "]\n",
    "\n",
    "credentials = compute_engine.Credentials(scopes=scopes)\n",
    "ee.Initialize(credentials)"
   ]
  },
  {
   "cell_type": "code",
   "execution_count": 3,
   "metadata": {
    "colab": {
     "base_uri": "https://localhost:8080/"
    },
    "id": "Omn5x960NbTD",
    "outputId": "bf5521c2-941d-4350-9ddb-61f11ba6c5a6"
   },
   "outputs": [
    {
     "name": "stdout",
     "output_type": "stream",
     "text": [
      "Updated property [core/account].\n"
     ]
    }
   ],
   "source": [
    "# Connect to google cloud\n",
    "# CHANGE TO YOUR UPI\n",
    "!gcloud config set account amun830"
   ]
  },
  {
   "cell_type": "code",
   "execution_count": 4,
   "metadata": {},
   "outputs": [
    {
     "name": "stdout",
     "output_type": "stream",
     "text": [
      "merged_test_hurricane-michael.cpg  merged_train_hurricane-michael.cpg\n",
      "merged_test_hurricane-michael.dbf  merged_train_hurricane-michael.dbf\n",
      "merged_test_hurricane-michael.prj  merged_train_hurricane-michael.prj\n",
      "merged_test_hurricane-michael.shp  merged_train_hurricane-michael.shp\n",
      "merged_test_hurricane-michael.shx  merged_train_hurricane-michael.shx\n"
     ]
    }
   ],
   "source": [
    "!ls \"Data/\""
   ]
  },
  {
   "cell_type": "code",
   "execution_count": 5,
   "metadata": {
    "colab": {
     "base_uri": "https://localhost:8080/"
    },
    "id": "RHWwCh03SDet",
    "outputId": "b7760438-a702-4c90-cebb-3a0fb7ba104b"
   },
   "outputs": [],
   "source": [
    "# %cd \"/content/drive/My Drive/FinalProj\"\n",
    "# %ls \"/content/Data\""
   ]
  },
  {
   "cell_type": "code",
   "execution_count": 6,
   "metadata": {},
   "outputs": [],
   "source": [
    "disaster_of_choice = \"hurricane-michael\" # Change based on disaster selected\n",
    "location_coords = [30.1588, -85.6602]"
   ]
  },
  {
   "cell_type": "code",
   "execution_count": 7,
   "metadata": {},
   "outputs": [],
   "source": [
    "# import feature collection asset\n",
    "train_data = ee.FeatureCollection('projects/nodal-keyword-398723/assets/merged_train_hurricane-michael')\n",
    "test_data = ee.FeatureCollection('projects/nodal-keyword-398723/assets/merged_test_hurricane-michael')"
   ]
  },
  {
   "cell_type": "markdown",
   "metadata": {
    "id": "IDkoc4k6OCkZ"
   },
   "source": [
    "### Load Data"
   ]
  },
  {
   "cell_type": "code",
   "execution_count": 10,
   "metadata": {
    "id": "474vsZBMUsDD"
   },
   "outputs": [],
   "source": [
    "import os\n",
    "import numpy as np\n",
    "import pandas as pd\n",
    "import geopandas as gpd\n",
    "import matplotlib.pyplot as plt\n",
    "import matplotlib.image as mpimg"
   ]
  },
  {
   "cell_type": "code",
   "execution_count": 11,
   "metadata": {
    "id": "2aTL_1kuVHIJ"
   },
   "outputs": [],
   "source": [
    "def lstFiles(rootPath, ext):\n",
    "    '''\n",
    "    retrieve file path + names based on extension\n",
    "    '''\n",
    "    file_list = []\n",
    "    root = rootPath\n",
    "    for path, subdirs, files in os.walk(root):\n",
    "        for names in files:\n",
    "            if names.endswith(ext) and not names.startswith(\"._\"):\n",
    "                file_list.append(path  +\"/\" + names)\n",
    "    return(file_list)"
   ]
  },
  {
   "cell_type": "code",
   "execution_count": 12,
   "metadata": {
    "id": "C29yOf7Mes3c"
   },
   "outputs": [],
   "source": [
    "# access training dataset (i.e. geojson, shpfiles)\n",
    "# traingeo_path = \"./Data/FireDataset/train_geo\"\n",
    "# gjsn_files = lstFiles(traingeo_path, '.geojson')\n",
    "# shp_files = lstFiles(traingeo_path, '.shp')"
   ]
  },
  {
   "cell_type": "code",
   "execution_count": 13,
   "metadata": {
    "id": "53cGx6aDh0L9"
   },
   "outputs": [],
   "source": [
    "merged_path = \"Data/\"\n",
    "merged_files = lstFiles(merged_path, '.shp')"
   ]
  },
  {
   "cell_type": "code",
   "execution_count": 14,
   "metadata": {
    "colab": {
     "base_uri": "https://localhost:8080/"
    },
    "id": "GSRiRI9pu-Hl",
    "outputId": "0b0458cb-2890-40ea-a26d-647760310ca1"
   },
   "outputs": [
    {
     "data": {
      "text/plain": [
       "['Data//merged_test_hurricane-michael.shp',\n",
       " 'Data//merged_train_hurricane-michael.shp']"
      ]
     },
     "execution_count": 14,
     "metadata": {},
     "output_type": "execute_result"
    }
   ],
   "source": [
    "merged_files # CHECK YOU'RE REFERRING TO THE CORRECT FILES"
   ]
  },
  {
   "cell_type": "code",
   "execution_count": 15,
   "metadata": {},
   "outputs": [],
   "source": [
    "train_shp = merged_files[1]\n",
    "test_shp = merged_files[0]"
   ]
  },
  {
   "cell_type": "code",
   "execution_count": 16,
   "metadata": {
    "colab": {
     "base_uri": "https://localhost:8080/"
    },
    "id": "7j6G2n1DvglS",
    "outputId": "cbc42b42-b49a-4f6f-f329-afac27cac6b8"
   },
   "outputs": [
    {
     "data": {
      "text/plain": [
       "array(['hurricane-michael'], dtype=object)"
      ]
     },
     "execution_count": 16,
     "metadata": {},
     "output_type": "execute_result"
    }
   ],
   "source": [
    "gdf = gpd.read_file(train_shp)\n",
    "np.unique(gdf[\"location_n\"])"
   ]
  },
  {
   "cell_type": "code",
   "execution_count": 17,
   "metadata": {
    "colab": {
     "base_uri": "https://localhost:8080/",
     "height": 485
    },
    "id": "RysgWND-fN3y",
    "outputId": "94e39df0-057f-4eb8-932b-4e81809bb980"
   },
   "outputs": [
    {
     "data": {
      "text/plain": [
       "Text(0.5, 1.0, '(Training) Ground Truth Labels for hurricane-michael')"
      ]
     },
     "execution_count": 17,
     "metadata": {},
     "output_type": "execute_result"
    },
    {
     "data": {
      "image/png": "[encoded data removed]",
      "text/plain": [
       "<Figure size 1000x500 with 1 Axes>"
      ]
     },
     "metadata": {},
     "output_type": "display_data"
    }
   ],
   "source": [
    "#get ground truth labels and check sample distributions\n",
    "plt.figure(figsize=(10,5))\n",
    "plt.bar(x=gdf.groupby('damage').count().index,height=gdf.groupby('damage').count()['ID'])\n",
    "plt.title(f\"(Training) Ground Truth Labels for {''.join(np.unique(gdf['location_n']))}\")"
   ]
  },
  {
   "cell_type": "code",
   "execution_count": 18,
   "metadata": {},
   "outputs": [
    {
     "data": {
      "text/plain": [
       "Index(['properties', 'properti_1', 'properti_2', 'date', 'pre_post_d',\n",
       "       'disaster_t', 'location_n', 'ID', 'damage', 'dmg_code', 'geometry'],\n",
       "      dtype='object')"
      ]
     },
     "execution_count": 18,
     "metadata": {},
     "output_type": "execute_result"
    }
   ],
   "source": [
    "gdf.columns"
   ]
  },
  {
   "cell_type": "code",
   "execution_count": 19,
   "metadata": {
    "id": "8TnOG_3aFDcI"
   },
   "outputs": [],
   "source": [
    "#convert categorical labels to int\n",
    "# gdf['dmg_code']=0\n",
    "# for value in gdf.damage.unique():\n",
    "#     if value=='no-damage':\n",
    "#         gdf.loc[gdf['damage']==value,'dmg_code']=1\n",
    "#     elif value=='minor-damage':\n",
    "#         gdf.loc[gdf['damage']==value,'dmg_code']=2\n",
    "#     elif value=='major-damage':\n",
    "#         gdf.loc[gdf['damage']==value,'dmg_code']=3\n",
    "#     elif value=='destroyed':\n",
    "#         gdf.loc[gdf['damage']==value,'dmg_code']=4\n",
    "#     else:\n",
    "#         gdf.loc[gdf['damage']==value,'dmg_code']=0"
   ]
  },
  {
   "cell_type": "markdown",
   "metadata": {
    "id": "Ag6HtRJpNNWC"
   },
   "source": [
    "### Connect to GEE API & Load Asset"
   ]
  },
  {
   "cell_type": "code",
   "execution_count": 20,
   "metadata": {
    "colab": {
     "base_uri": "https://localhost:8080/"
    },
    "id": "9P_WfKSZNbJ4",
    "outputId": "e97beb1e-f814-49b2-b042-dddcd43d9fae"
   },
   "outputs": [],
   "source": [
    "# # initialize and connect to GEE\n",
    "# from google.colab import auth\n",
    "# auth.authenticate_user()\n",
    "# !earthengine authenticate\n",
    "# import ee\n",
    "# ee.Initialize()"
   ]
  },
  {
   "cell_type": "code",
   "execution_count": 21,
   "metadata": {
    "id": "OaUQbtDpNbPB"
   },
   "outputs": [],
   "source": [
    "# Installs geemap package\n",
    "import subprocess\n",
    "\n",
    "try:\n",
    "    import geemap\n",
    "except ImportError:\n",
    "    print('geemap package not installed. Installing ...')\n",
    "    subprocess.check_call([\"python\", '-m', 'pip', 'install', 'geemap'])\n",
    "\n",
    "# Checks whether this notebook is running on Google Colab\n",
    "# try:\n",
    "#     import google.colab\n",
    "#     import geemap.eefolium as emap\n",
    "# except:\n",
    "import geemap as emap"
   ]
  },
  {
   "cell_type": "markdown",
   "metadata": {
    "id": "gpm0jmD5Cmqb",
    "tags": []
   },
   "source": [
    "## Visualize Datasets\n",
    "Interactively visualization using GEE API & leaflet"
   ]
  },
  {
   "cell_type": "markdown",
   "metadata": {
    "id": "c4exh8HqOii2"
   },
   "source": [
    "### Building Geometry and Attributes\n",
    "\n",
    "Note: one building might be shown as no-damage and destroyed at the same time on map as both pre- and post- fire labels were included"
   ]
  },
  {
   "cell_type": "code",
   "execution_count": 22,
   "metadata": {
    "colab": {
     "base_uri": "https://localhost:8080/",
     "height": 621,
     "referenced_widgets": [
      "6993ff453fc6419e894d0233c1d2c7eb",
      "8f122eaa06ba438dadb194a9ac1adfad",
      "0d27bc345a3942ccb6cd0146a487390f",
      "4575d0f888324041b33f82445de66c39",
      "2500750a99a64621a026acbbfd16755d",
      "7a4649911a164119b430696e00aeaff1",
      "e5c818051d034abbac6364859c2a9450",
      "7aea1b9eb47a477bbf7f214b6b9b91a6",
      "65d2e400bb0e4103b23f4366abaa8e26",
      "936932d4bcb94952818e92e87d1901f9",
      "bf07b0e824e64d1c8ec604d5c4328316",
      "aaae66cbf92943b39f4c7d80da6c7765",
      "1af41199ba5b45abbbff2a03791f8e1d",
      "4c6e4711d4ef4720ad050408b09c4221",
      "0376325016024b26b6078cb991c81f35",
      "4775108a018d4acfa81597b8861a1e4a",
      "c761e2243e7b4d83a1969fdaf4b93a24",
      "d2eec675f6ab4c44a77d0752bd7418e7",
      "8b22d7b13bef4bd3b011cccdb5a29eb2",
      "a1b7669cf289404689f00b27aaffb833",
      "66fc9e4d39a44a668d092ab30cf127c6",
      "1ff4248465f9472b9cd66b196204473d",
      "7fcc8d9c503f49bcb899221bb695ef01",
      "30a1c09c50d84c44bd59adde18199bb7",
      "a054e5a249ee496d9a08ce1a0fc57cae",
      "aad8d5ec9a7e4561894118f068f04cf2"
     ]
    },
    "id": "LPiOoT_B80RH",
    "outputId": "b15f5ab2-c6df-4b53-b97d-0f4090390f2c"
   },
   "outputs": [
    {
     "data": {
      "application/vnd.jupyter.widget-view+json": {
       "model_id": "2d2341ca4ed2467eb41e7787d962eb69",
       "version_major": 2,
       "version_minor": 0
      },
      "text/plain": [
       "Map(center=[30.1588, -85.6602], controls=(WidgetControl(options=['position', 'transparent_bg'], widget=HBox(ch…"
      ]
     },
     "execution_count": 22,
     "metadata": {},
     "output_type": "execute_result"
    }
   ],
   "source": [
    "def visualizeByAttribute(fc, className):\n",
    "    '''\n",
    "    visualize building polygon based on damage type 'class' (0,1)\n",
    "    '''\n",
    "    empty = ee.Image().byte()\n",
    "    feature = empty.paint(**{\n",
    "    'featureCollection': fc,\n",
    "    'color': className,\n",
    "    'width': 1\n",
    "    })\n",
    "    return feature\n",
    "\n",
    "train_palette = ['black', # unclassified/Non-building (0)\n",
    "                 'blue', # no-damage (1)\n",
    "                 'green', # minor-damage(2)\n",
    "                 'yellow', # major-damage (3)\n",
    "                 'red' # destryoed (4)\n",
    "                 ]\n",
    "# test_palette = ['yellow', # no-damage(0)\n",
    "#                'blue' # destroyed (1)\n",
    "#                ]\n",
    "\n",
    "Map = emap.Map(center=location_coords, zoom=16)\n",
    "Map.addLayer(visualizeByAttribute(train_data, 'dmg_code'), {'palette': train_palette, 'min': 0, 'max':4}, 'train')\n",
    "Map.addLayer(visualizeByAttribute(test_data, 'dmg_code'), {'palette': train_palette,'min': 0, 'max':4}, 'test')\n",
    "Map.addLayerControl()\n",
    "Map"
   ]
  },
  {
   "cell_type": "markdown",
   "metadata": {
    "id": "hbJBMGCgf0ZC"
   },
   "source": [
    "### Load NAIP Imagery\n",
    "- Get the geographic coordinates of polygons from local geo-dataframe variable\n",
    "- Convert geographic extent to GEE format boundary\n",
    "- filter NAIP images from the database from the converted boundary"
   ]
  },
  {
   "cell_type": "code",
   "execution_count": 23,
   "metadata": {
    "id": "dMcaRuwAeYFe"
   },
   "outputs": [],
   "source": [
    "def extract_coords(geom):\n",
    "    '''\n",
    "    takes one polygon from geopandas and converts it to the GEE geometry format\n",
    "    input: geom from each row of the 'geometry' column in the gpd dataframe\n",
    "    output: coordinate list of the GEE geometry\n",
    "    '''\n",
    "    try:\n",
    "        coords=geom.__geo_interface__['coordinates']\n",
    "        geom_extr=[list(map(list,coord)) for coord in coords]\n",
    "        return geom_extr\n",
    "    except:\n",
    "        pass\n",
    "\n",
    "def get_bounds(gdf):\n",
    "    '''\n",
    "    takes a geo data frame get convert its bounding extent to a GEE format rectangle\n",
    "    '''\n",
    "    bounds=gdf.total_bounds\n",
    "    geom_bound=[[ [bounds[0],bounds[1]], [bounds[2],bounds[1]], [bounds[2],bounds[3]], [bounds[0],bounds[3]]]]\n",
    "    return geom_bound"
   ]
  },
  {
   "cell_type": "code",
   "execution_count": 24,
   "metadata": {
    "id": "IjAAOXJbf5fq"
   },
   "outputs": [],
   "source": [
    "#filter data by site (2 fire locations)\n",
    "santaRosa = gdf[(gdf['location_n'] == disaster_of_choice)]\n",
    "\n",
    "#get image bound for each site\n",
    "SR_bounds=get_bounds(santaRosa)"
   ]
  },
  {
   "cell_type": "code",
   "execution_count": 25,
   "metadata": {
    "id": "7Kv5OkTVf727"
   },
   "outputs": [],
   "source": [
    "#convert each building polygon to GEE format feature\n",
    "sr_geom=[extract_coords(pol) for pol in santaRosa['geometry']]\n",
    "SR_ROI = ee.Geometry.MultiPolygon(sr_geom)\n",
    "SR_Bound_Box=ee.Geometry.Polygon(SR_bounds)"
   ]
  },
  {
   "cell_type": "code",
   "execution_count": 26,
   "metadata": {
    "id": "jOTd4N21tLtk"
   },
   "outputs": [],
   "source": [
    "# combine the bounding boxes from above into feature collection\n",
    "features = [\n",
    "  ee.Feature(SR_Bound_Box)\n",
    "]\n",
    "\n",
    "finalBounds = ee.FeatureCollection(features);"
   ]
  },
  {
   "cell_type": "code",
   "execution_count": 27,
   "metadata": {
    "id": "YDygMnsUgBGg"
   },
   "outputs": [],
   "source": [
    "#get pre- and post- fire images by geographic polygons\n",
    "preFire = ee.Image(ee.ImageCollection('USDA/NAIP/DOQQ')\n",
    "                  .filter(ee.Filter.date('2014-01-01', '2018-10-01'))\n",
    "                  .select(['R', 'G', 'B', 'N'])\n",
    "                  .filterBounds(finalBounds)\n",
    "                  .mosaic());\n",
    "\n",
    "postFire = ee.Image(ee.ImageCollection('USDA/NAIP/DOQQ')\n",
    "                  .filter(ee.Filter.date('2018-10-31', '2019-12-31'))\n",
    "                  .select(['R', 'G', 'B', 'N'])\n",
    "                  .filterBounds(finalBounds)\n",
    "                  .mosaic());\n",
    "\n",
    "preFire = preFire.clip(finalBounds)\n",
    "postFire = postFire.clip(finalBounds)\n",
    "\n",
    "trueColorVis = {\n",
    "  min: 0.0,\n",
    "  max: 255.0,\n",
    "}"
   ]
  },
  {
   "cell_type": "code",
   "execution_count": 28,
   "metadata": {
    "colab": {
     "base_uri": "https://localhost:8080/",
     "height": 621,
     "referenced_widgets": [
      "a88fea8915744d55a95658d3000ffad2",
      "510856fc22414daeb7b19f7b9a087f6d",
      "65d6758914e14778b09a0e3595b27feb",
      "5a568597813547ca95dd370790a66316",
      "6b4b0c1b7f8e4015b3ae01f2c62942d6",
      "7706d089a6b141019a37f44f370ec70a",
      "abe7ce99eff64d269e5a5969946e956b",
      "3392c398b1c84d59bb57357561225bc3",
      "498aac1c478d44db9b96c5eb0f7ae40e",
      "54ed6ef00be949638b5ffc79f266b8ca",
      "69e7eb91072248ccbb28739427bd022a",
      "01b09054c95244078cec61a947429067",
      "594862fb00a0483eb53201c67cd08572",
      "a66cdecebf8f46fea3da5bf87898916c",
      "499687036bb4491bb6bc15746d3c1448",
      "05f8165000294a598ec881692f6b1c64",
      "3bb0060a696848f0b4576634b1d80f67",
      "a05f4a6cf152423f88f215cf487ca04d",
      "36dbeb7b553c4ff5a97c5715dec8adf2",
      "e8d833df8396441f9c38ceca00e71b7b",
      "c99ae595fb6f48bb951e8765034c1401",
      "5f50c9cc01614e2fa681b06b1ec52338",
      "8cfce8b96a164882baeb732da8d92a7a",
      "fe75a589c48242d9a319e7a60d04c540",
      "eb454b004c27400aafad054ef640bb64",
      "77476878f8454cb88a327475478916d5",
      "e309470379644ddda638c4413ac66688",
      "74c3dfb6696547a1b4217d5358e54034",
      "a7e2b23309ed453b912c53a02b1384a3",
      "5ae3c170301246e18ce1343664a44ba3"
     ]
    },
    "id": "OoTGnbSsgWJs",
    "outputId": "634066f5-e796-48f8-869c-0ca9985fb9f8"
   },
   "outputs": [
    {
     "data": {
      "application/vnd.jupyter.widget-view+json": {
       "model_id": "8c7d1520eeaf45228f6f1faf107c18e5",
       "version_major": 2,
       "version_minor": 0
      },
      "text/plain": [
       "Map(center=[30.1588, -85.6602], controls=(WidgetControl(options=['position', 'transparent_bg'], widget=HBox(ch…"
      ]
     },
     "execution_count": 28,
     "metadata": {},
     "output_type": "execute_result"
    }
   ],
   "source": [
    "# visualize building dataset overlaid on NAIP\n",
    "Map = emap.Map(center=location_coords, zoom=11)\n",
    "Map.add_basemap('TERRAIN')\n",
    "Map.addLayer(preFire.select(['R', 'G', 'B']), trueColorVis, ' PreFire')\n",
    "Map.addLayer(postFire.select(['R', 'G', 'B']), trueColorVis, 'Postfire')\n",
    "Map.addLayer(finalBounds, {'color': 'white'}, 'bound', True, opacity=0.4)\n",
    "Map.addLayer(visualizeByAttribute(train_data, 'dmg_code'), {'palette': train_palette, 'min': 0, 'max':4}, 'train')\n",
    "Map.addLayer(visualizeByAttribute(test_data, 'dmg_code'), {'palette': train_palette,'min': 0, 'max':4}, 'test')\n",
    "Map.addLayerControl()\n",
    "Map"
   ]
  },
  {
   "cell_type": "markdown",
   "metadata": {
    "id": "JsOB0TIgWIVq"
   },
   "source": [
    "## Feature Calculation\n",
    "\n",
    "__Remote Sensing Indices:__\n",
    "\n",
    "NDVI: (NIR-R)/(NIR+R)\n",
    "\n",
    "Bare Soil Index: (R+B-G)/(R+G+B)\n",
    "\n",
    "Shadow Index: $\\sqrt {(256-B)*(256-G)}$\n",
    "\n",
    "__Texture Information:__\n",
    "\n",
    " GLCM and spatial association of neighborhood\n",
    "\n",
    "__Convolutional Filters:__\n",
    "\n",
    "Canny edge detection, shape-sensitive filters, and some other convolutional filters"
   ]
  },
  {
   "cell_type": "markdown",
   "metadata": {
    "id": "gvBtF2Y7gwmP"
   },
   "source": [
    "###NDVI"
   ]
  },
  {
   "cell_type": "code",
   "execution_count": 29,
   "metadata": {
    "colab": {
     "base_uri": "https://localhost:8080/"
    },
    "id": "drQUhnMrWNqa",
    "outputId": "afa9e1ef-061d-4aa6-c0b6-e7e6a70f77cb"
   },
   "outputs": [
    {
     "name": "stdout",
     "output_type": "stream",
     "text": [
      "['R', 'G', 'B', 'N', 'NDVI']\n"
     ]
    }
   ],
   "source": [
    "def getNDVI(image):\n",
    "    '''\n",
    "    Add Normalized Differenced Vegetation Index using NIR and Red bands\n",
    "    '''\n",
    "    nir = image.select('N')\n",
    "    red = image.select('R')\n",
    "    ndvi = nir.subtract(red).divide(nir.add(red)).rename('NDVI')\n",
    "    new_image = image.addBands(ndvi)\n",
    "    return new_image\n",
    "\n",
    "preFire = getNDVI(preFire)\n",
    "postFire = getNDVI(postFire)\n",
    "print(preFire.bandNames().getInfo())"
   ]
  },
  {
   "cell_type": "markdown",
   "metadata": {
    "id": "fjmPvRbigy7m"
   },
   "source": [
    "### Edge Detection\n",
    "to extract structural information from different vision objects and dramatically reduce the amount of data to be processed."
   ]
  },
  {
   "cell_type": "code",
   "execution_count": 30,
   "metadata": {
    "colab": {
     "base_uri": "https://localhost:8080/"
    },
    "id": "DwxEMDN8WXmw",
    "outputId": "1891d6cd-ec28-4c34-92fb-6184d5074775"
   },
   "outputs": [
    {
     "name": "stdout",
     "output_type": "stream",
     "text": [
      "['R', 'G', 'B', 'N', 'NDVI', 'edge']\n"
     ]
    }
   ],
   "source": [
    "def edgeDetection(image, band):\n",
    "    '''\n",
    "    Perform Canny edge detection and add to image.\n",
    "    '''\n",
    "    canny = ee.Algorithms.CannyEdgeDetector(**{\n",
    "    'image': image.select(band), 'threshold': 50, 'sigma': 1\n",
    "    })\n",
    "    new_image = image.addBands(canny.rename('edge'))\n",
    "    return new_image\n",
    "\n",
    "\n",
    "preFire = edgeDetection(preFire, 'R')\n",
    "postFire = edgeDetection(postFire, 'R')\n",
    "print(preFire.bandNames().getInfo())\n"
   ]
  },
  {
   "cell_type": "code",
   "execution_count": 31,
   "metadata": {
    "colab": {
     "base_uri": "https://localhost:8080/",
     "height": 215
    },
    "id": "jku_JLRSQjL0",
    "outputId": "06efcbc5-195c-464c-f51e-28ddbe2a32e0"
   },
   "outputs": [
    {
     "data": {
      "text/html": [
       "<pre>&lt;ee.image.Image object at 0x7f62ef0e2ce0&gt;</pre>"
      ],
      "text/plain": [
       "<ee.image.Image at 0x7f62ef0e2ce0>"
      ]
     },
     "execution_count": 31,
     "metadata": {},
     "output_type": "execute_result"
    }
   ],
   "source": [
    "preFire.select('SI')"
   ]
  },
  {
   "cell_type": "markdown",
   "metadata": {
    "id": "kPXPkqMHg3io"
   },
   "source": [
    "### Bare Soil Index (BSI)"
   ]
  },
  {
   "cell_type": "code",
   "execution_count": 32,
   "metadata": {
    "colab": {
     "base_uri": "https://localhost:8080/"
    },
    "id": "JDpc2J9JfkK8",
    "outputId": "993efd4a-d206-4047-c397-c673134ed8ef"
   },
   "outputs": [
    {
     "name": "stdout",
     "output_type": "stream",
     "text": [
      "['R', 'G', 'B', 'N', 'NDVI', 'edge', 'BSI']\n"
     ]
    }
   ],
   "source": [
    "def bareSoil(image):\n",
    "    '''\n",
    "    Add Bare Soil Index Index using the Red, Blue, and Green bands\n",
    "    '''\n",
    "    red = image.select('R')\n",
    "    blue = image.select('B')\n",
    "    green = image.select('G')\n",
    "    BSI = red.add(blue).subtract(green).divide(red.add(blue).add(green)).rename('BSI')\n",
    "    new_image = image.addBands(BSI)\n",
    "    return new_image\n",
    "\n",
    "preFire = bareSoil(preFire)\n",
    "postFire = bareSoil(postFire)\n",
    "print(preFire.bandNames().getInfo())"
   ]
  },
  {
   "cell_type": "markdown",
   "metadata": {
    "id": "Q-XrQNeWhqEz"
   },
   "source": [
    "### Shadow Index"
   ]
  },
  {
   "cell_type": "code",
   "execution_count": 33,
   "metadata": {
    "colab": {
     "base_uri": "https://localhost:8080/"
    },
    "id": "b9_lntEQikdK",
    "outputId": "8f5254bd-6eec-4886-9fc5-e3cc52412392"
   },
   "outputs": [
    {
     "name": "stdout",
     "output_type": "stream",
     "text": [
      "['R', 'G', 'B', 'N', 'NDVI', 'edge', 'BSI', 'SI']\n"
     ]
    }
   ],
   "source": [
    "def shadowIndex(image):\n",
    "    '''\n",
    "    Add Shadow Index using Blue and Green bands\n",
    "    '''\n",
    "    SI = image.expression(\n",
    "      'sqrt((2.56 - B) * (2.56 - G))', {\n",
    "        'B': image.select('B'),\n",
    "        'G': image.select('G')\n",
    "      }).rename('SI');\n",
    "    new_image = image.addBands(SI)\n",
    "    return new_image\n",
    "\n",
    "preFire = shadowIndex(preFire)\n",
    "postFire = shadowIndex(postFire)\n",
    "print(preFire.bandNames().getInfo())"
   ]
  },
  {
   "cell_type": "markdown",
   "metadata": {
    "id": "w9OQYQ7obT1j"
   },
   "source": [
    "### Texture\n",
    "1) measure spatial association of neighborhood\n",
    "2) calculate gray-level co-occurrence matrix (GLCM)\n"
   ]
  },
  {
   "cell_type": "markdown",
   "metadata": {
    "id": "WTmY-ya7q0tz"
   },
   "source": [
    "GLCM Texture list (selection in bold):\n",
    "- Angular Second Moment: # of repeated pairs\n",
    "- **Contrast**: local contrast\n",
    "- **Correlation**: correlation between pairs of pixels\n",
    "- **Variance**: spreat-out of the Grayscale\n",
    "-**Inverse Difference Moment**: homogeneity\n",
    "- sum average\n",
    "- sum variance\n",
    "- sum entropy\n",
    "- entropy: randomness of the grayscale\n",
    "- difference variance\n",
    "- difference entropy\n",
    "- information measure of correlation 1, 2 , and Max Corr. Coefficient.\n",
    "- **dissimilarity**\n",
    "- inertia\n",
    "- **cluster shade**\n",
    "- cluster prominence"
   ]
  },
  {
   "cell_type": "code",
   "execution_count": 34,
   "metadata": {
    "colab": {
     "base_uri": "https://localhost:8080/"
    },
    "id": "On9ogettbVfZ",
    "outputId": "ee39f968-0380-4296-8391-783c9189970b"
   },
   "outputs": [
    {
     "name": "stdout",
     "output_type": "stream",
     "text": [
      "['R', 'G', 'B', 'N', 'NDVI', 'edge', 'BSI', 'SI', 'texture', 'R_contrast', 'N_contrast', 'R_corr', 'G_corr', 'B_corr', 'N_corr', 'R_var', 'N_var', 'R_idm', 'G_idm', 'B_idm', 'N_idm', 'R_diss', 'N_diss', 'R_shade', 'G_shade', 'B_shade', 'N_shade']\n"
     ]
    }
   ],
   "source": [
    "import math\n",
    "\n",
    "def association(image):\n",
    "    '''\n",
    "    Get association values with NIR band.\n",
    "    (1) compute entropy w. defined neighborhood\n",
    "    (2) local Geary's C, measure of spatial association\n",
    "    '''\n",
    "    # Get the NIR band.\n",
    "    nir = image.select('N')\n",
    "    # Define a neighborhood with a kernel.\n",
    "    square = ee.Kernel.square(**{'radius': 4})\n",
    "    # Compute entropy and display.\n",
    "    entropy = nir.entropy(square)\n",
    "    # Create a list of weights for a 9x9 kernel.\n",
    "    list = [1, 1, 1, 1, 1, 1, 1, 1, 1]\n",
    "    # The center of the kernel is zero.\n",
    "    centerList = [1, 1, 1, 1, 0, 1, 1, 1, 1]\n",
    "    # Assemble a list of lists: the 9x9 kernel weights as a 2-D matrix.\n",
    "    lists = [list, list, list, list, centerList, list, list, list, list]\n",
    "    # Create the kernel from the weights.\n",
    "    # Non-zero weights represent the spatial neighborhood.\n",
    "    kernel = ee.Kernel.fixed(9, 9, lists, -4, -4, False)\n",
    "    \n",
    "    # Convert the neighborhood into multiple bands.\n",
    "    neighs = nir.neighborhoodToBands(kernel)\n",
    "    \n",
    "    # Compute local Geary's C, a measure of spatial association.\n",
    "    gearys = nir.subtract(neighs).pow(2).reduce(ee.Reducer.sum()) \\\n",
    "             .divide(math.pow(9, 2)).rename('texture');\n",
    "    new_image = image.addBands(gearys)\n",
    "    return new_image\n",
    "\n",
    "\n",
    "def glcm_texture(image):\n",
    "    '''\n",
    "    calculate GLCM for each spectral band (contrast and variance only for NIR and Red band)\n",
    "    '''\n",
    "    #average all the directional bands\n",
    "    #consider a neighborhood of 4 pixels\n",
    "    texture_img=image.select(['R','G','B','N']).glcmTexture(size=4,average=True)\n",
    "    #select some useful textures :\n",
    "    selection=['R_contrast','N_contrast','R_corr','G_corr','B_corr','N_corr','R_var','N_var',\n",
    "               'R_idm','G_idm','B_idm','N_idm','R_diss','N_diss','R_shade','G_shade','B_shade','N_shade']\n",
    "    new_image = image.addBands(texture_img.select(selection))\n",
    "    return new_image\n",
    "\n",
    "preFire = association(preFire)\n",
    "preFire = glcm_texture(preFire)\n",
    "postFire = association(postFire)\n",
    "postFire = glcm_texture(postFire)\n",
    "print(preFire.bandNames().getInfo())"
   ]
  },
  {
   "cell_type": "markdown",
   "metadata": {
    "id": "NWx79mRFsLA8"
   },
   "source": [
    "### Other selected convolutional filters\n",
    "(tuned with best visual performance)\n",
    "- low-pass convolutional filter (Gaussian)\n",
    "- high-pass filter and gradient (has been represented by canny edge detection above)\n",
    "- shape-sensitive filter (rectangle, octagon)\n",
    "- manhattan kernel based on rectilinear (city-block) distance"
   ]
  },
  {
   "cell_type": "code",
   "execution_count": 35,
   "metadata": {
    "colab": {
     "base_uri": "https://localhost:8080/"
    },
    "id": "QQbGyxtMsGiE",
    "outputId": "ec89bc2f-373c-4ca1-f15b-e33ec02aed40"
   },
   "outputs": [
    {
     "name": "stdout",
     "output_type": "stream",
     "text": [
      "['R', 'G', 'B', 'N', 'NDVI', 'edge', 'BSI', 'SI', 'texture', 'R_contrast', 'N_contrast', 'R_corr', 'G_corr', 'B_corr', 'N_corr', 'R_var', 'N_var', 'R_idm', 'G_idm', 'B_idm', 'N_idm', 'R_diss', 'N_diss', 'R_shade', 'G_shade', 'B_shade', 'N_shade', 'R_gauss', 'G_gauss', 'B_gauss', 'N_gauss', 'R_low_oct', 'G_low_oct', 'B_low_oct', 'N_low_oct', 'R_manha', 'G_manha', 'B_manha', 'N_manha']\n"
     ]
    }
   ],
   "source": [
    "def conv_filter(image):\n",
    "    '''\n",
    "    apply gaussian, octagon, and mangattan convolutional filters to the image\n",
    "    '''\n",
    "    #define filters\n",
    "    #Gaussian\n",
    "    gauss=ee.Kernel.gaussian(radius=7, sigma=2, units='pixels', normalize=True)\n",
    "    # #define a 19 by 11 rectangle low pass filter\n",
    "    # low_pass_rect1 = ee.Kernel.rectangle(xRadius=9,yRadius=5, units='pixels', normalize=True);\n",
    "    # #the opposite way\n",
    "    # low_pass_rect2 = ee.Kernel.rectangle(xRadius=5,yRadius=9, units='pixels', normalize=True);\n",
    "    #octagon\n",
    "    low_oct = ee.Kernel.octagon(radius=5, units='pixels', normalize=True);\n",
    "    #manhattan\n",
    "    manha=ee.Kernel.manhattan(radius=4, units='pixels', normalize=True)\n",
    "    new_image=image\n",
    "    filt_dict={'gauss':gauss,'low_oct':low_oct,'manha':manha}\n",
    "    for name,filt in filt_dict.items():\n",
    "        smooth=image.select(['R','G','B','N']).convolve(filt).rename(['R_'+name,'G_'+name,'B_'+name,'N_'+name])\n",
    "        new_image = new_image.addBands(smooth)\n",
    "    return new_image\n",
    "\n",
    "preFire = conv_filter(preFire)\n",
    "postFire = conv_filter(postFire)\n",
    "print(preFire.bandNames().getInfo())"
   ]
  },
  {
   "cell_type": "markdown",
   "metadata": {
    "id": "u4mXrDw0eRc5"
   },
   "source": [
    "### Visualize Some Features"
   ]
  },
  {
   "cell_type": "code",
   "execution_count": 36,
   "metadata": {
    "colab": {
     "base_uri": "https://localhost:8080/",
     "height": 621,
     "referenced_widgets": [
      "0277c38de54e4a95b2f7332b61b2360a",
      "658177d2a5574c8db168fd51ebe96ef1",
      "15961bad754c4a3aa6eb65a68407d8c5",
      "ca96b2695d4945dd888356d57bc1ff12",
      "2eb10eafe059411c8df5e277026bfc82",
      "be8be9bca22c4b9281b9f86cf0675d89",
      "fd280af874464168a06a7ed19dbc6707",
      "c7897d004b4343508123f52974f1678f",
      "4e40a03b388d40d083ce6c6c2ce99377",
      "90e3de7fee0c41529ffa815abdb77f85",
      "c7806e38f2334958a9d95db9dc68e6ae",
      "8178dad4cd704483ade30f85bef2c94d",
      "6a932769e2ed4c21848bef3b0c53d0cf",
      "72487e7337a84c8cb8bb6c469647c5aa",
      "358d821af7ee4ab59f4c6d14078d5801",
      "354d8bf836914d3a9de6e4f79aaa4881",
      "27c6e091a5f94bfb88b2d60672ca717e",
      "33cdc93958fb413fb141dce1c690d328",
      "edacdec63c4a44169d99fe94bcd8faad",
      "d2cd36f82ec54616b3ced26bb709a35b",
      "9a20647d62034e238eb276e879f710f6",
      "754543562c254a1bb4eb0be89c82715d",
      "ca8a28a0545a47bfb12d78163bcf2753",
      "c53a7c073e4e49a6860548fee0a17fa4",
      "260db86ef09b4913855150c21cff9749",
      "c5e5cc538af84384b8430dab33dcb161",
      "501d059f544e463e9cf2cf29d9a93999",
      "a1a95a0bf8244328aefea9c0b6d96d6c",
      "d115f3540f1848e389c4e76147c9326f",
      "5c0e15cb07194caaadfbff0bb6121167",
      "781cb590019e4ab790d529f9adca8db0",
      "863e929a3d0641cba7d1b518d1da17a0",
      "b7150b13a8804c969064edbf221ba340",
      "5e9c6e2da81d429f9e18ea059ce9df6a",
      "fbcbc9c5bf19430f8d1a2d41301925cf",
      "529ffaebdc0a4f06bbd3f9bb1ef21376"
     ]
    },
    "id": "GOfkYQwdkK3O",
    "outputId": "46f90f7c-ed90-4043-fb2b-3f6c201a80bd"
   },
   "outputs": [
    {
     "data": {
      "application/vnd.jupyter.widget-view+json": {
       "model_id": "6393b78d836643f5b1b835a693494e32",
       "version_major": 2,
       "version_minor": 0
      },
      "text/plain": [
       "Map(center=[30.1588, -85.6602], controls=(WidgetControl(options=['position', 'transparent_bg'], widget=HBox(ch…"
      ]
     },
     "execution_count": 36,
     "metadata": {},
     "output_type": "execute_result"
    }
   ],
   "source": [
    "siViz = {'min': 0, 'max': 100, 'palette': ['ffff00', '330033']}\n",
    "bsiViz = {'min': 0.0, 'max': 0.3, 'palette': ['7fffd4', 'b99879']}\n",
    "ndviViz = {'min': -0.5, 'max': 0.5, 'palette': ['cc8e7f', '268b07']}\n",
    "texViz = {'min': 0, 'max': 4000, 'palette': ['fe6b73', '7fffd4']}\n",
    "\n",
    "Map = emap.Map(center=location_coords, zoom=16)\n",
    "Map.addLayer(preFire.select(['R', 'G', 'B']), trueColorVis, 'preFire')\n",
    "Map.addLayer(preFire.select(['NDVI']),ndviViz, 'NDVI')\n",
    "Map.addLayer(preFire.select(['SI']),siViz, 'SI')\n",
    "Map.addLayer(preFire.select(['edge']),{}, 'Canny')\n",
    "Map.addLayer(preFire.select(['BSI']),bsiViz, 'BSI')\n",
    "Map.addLayer(preFire.select(['texture']),texViz, 'texture')\n",
    "Map.addLayer(postFire.select('B_corr'), {'palette': ['cc8e7f', '268b07']}, 'corB')\n",
    "Map.addLayer(postFire.select('R_corr'), {'palette': ['cc8e7f', '268b07']}, 'corR')\n",
    "Map.addLayer(postFire.select('G_shade'), {'palette': ['cc8e7f', '268b07']}, 'shadeG')\n",
    "Map.addLayer(postFire.select('N_shade'), {'palette': ['cc8e7f', '268b07']}, 'shadeN')\n",
    "Map.addLayer(train_data, {'color': 'yellow'}, 'training')\n",
    "Map.addLayer(test_data, {'color': 'blue'}, 'testing')\n",
    "Map.addLayerControl()\n",
    "Map"
   ]
  },
  {
   "cell_type": "markdown",
   "metadata": {
    "id": "VxN9gDRal2Xu"
   },
   "source": [
    "## Unsupervised Clustering Features"
   ]
  },
  {
   "cell_type": "markdown",
   "metadata": {
    "id": "Km4mUDhcnmDx"
   },
   "source": [
    "### KMeans Clustering"
   ]
  },
  {
   "cell_type": "code",
   "execution_count": 37,
   "metadata": {
    "id": "ZMUCqv-2l6QV"
   },
   "outputs": [],
   "source": [
    "# Make the training dataset.\n",
    "training = postFire.sample(**{\n",
    "  'region': finalBounds,\n",
    "  'scale': 10,\n",
    "  'numPixels': 5000\n",
    "})\n",
    "\n",
    "# Instantiate the clusterer and train it.\n",
    "clusterer = ee.Clusterer.wekaKMeans(15).train(training)\n",
    "\n",
    "# Cluster the input using the trained clusterer.\n",
    "preFire_result = preFire.cluster(clusterer).rename('KMeans')\n",
    "postFire_result = postFire.cluster(clusterer).rename('KMeans')"
   ]
  },
  {
   "cell_type": "code",
   "execution_count": 38,
   "metadata": {
    "colab": {
     "base_uri": "https://localhost:8080/"
    },
    "id": "DnWiolp6jwpn",
    "outputId": "65dcc93d-864a-4fcb-f334-9000054b8ef4"
   },
   "outputs": [
    {
     "name": "stdout",
     "output_type": "stream",
     "text": [
      "['R', 'G', 'B', 'N', 'NDVI', 'edge', 'BSI', 'SI', 'texture', 'R_contrast', 'N_contrast', 'R_corr', 'G_corr', 'B_corr', 'N_corr', 'R_var', 'N_var', 'R_idm', 'G_idm', 'B_idm', 'N_idm', 'R_diss', 'N_diss', 'R_shade', 'G_shade', 'B_shade', 'N_shade', 'R_gauss', 'G_gauss', 'B_gauss', 'N_gauss', 'R_low_oct', 'G_low_oct', 'B_low_oct', 'N_low_oct', 'R_manha', 'G_manha', 'B_manha', 'N_manha', 'KMeans']\n"
     ]
    }
   ],
   "source": [
    "# add KMeans clustering\n",
    "postFire = postFire.addBands(postFire_result)\n",
    "preFire = preFire.addBands(preFire_result)\n",
    "print(postFire.bandNames().getInfo())"
   ]
  },
  {
   "cell_type": "code",
   "execution_count": 39,
   "metadata": {
    "colab": {
     "base_uri": "https://localhost:8080/",
     "height": 621,
     "referenced_widgets": [
      "8eac7c8730274547801235ed01cb94be",
      "5430285ded044282b22c160b1211fe58",
      "caae665d010e4ff79859f17110ac574b",
      "1106cc01acd049fabf73fad788b278c4",
      "f27f8f9d689947f9ad0ea928474d7950",
      "2a070909070c473fa0d835b719f13d8d",
      "3768442ae4ba46c58a84809a4442e9d7",
      "f2801ec8634148d7aca23ec6b4d8c4ef",
      "0db12e7936f8483ca80639b76b7b79a4",
      "ec0988bd9b4f4ca98d8b364ae7009e78",
      "c84b735af856485c8d6a1c440ebee8f1",
      "d1f780d58962428ea7060827a1c804c4",
      "c8bd1dc128894cf79c5d8000cc752ebc",
      "9999149b8e0940a0a77176d1f66ac32a",
      "22bdb65ef4b2441aa96b3fb506fbf5fb",
      "6ea6de6b26fc435f87ae8cc089a1afea",
      "ee08022502694217aceedfc57169eff9",
      "d76f1be06e5c4b558752c27ab40ab49f",
      "f5edbf6b53504503a894e220b6d16c81",
      "6f87cb470c3446eb85511120f69f215a",
      "ae6c0fdc9bce43e5a49f7ef5eef0fa31",
      "b8e71c4b44c04c038395d94c98b67319",
      "757dbbc7079941f3b32d825c13d75cff",
      "d1ba51c445234d3c9054941bb65efedd",
      "dde7f71511d14952a1fc95ae260302a4",
      "b3930fe36143494bb278497981b8b2a0",
      "3bf0e4b07e344295accf1ab93aaed7d4",
      "d04b8aa3c7da4a26993b6200c3a54aba",
      "a96c18c555f145169c3dcdef14471637",
      "987a2dd14f9242e2857bab5aba7bcc93"
     ]
    },
    "id": "-S_SUpHS2MIE",
    "outputId": "2669a525-b3f4-4aa8-beab-9c6ce62399eb"
   },
   "outputs": [
    {
     "data": {
      "application/vnd.jupyter.widget-view+json": {
       "model_id": "cb7b5dcc2b6247569cc36d3f85f622d0",
       "version_major": 2,
       "version_minor": 0
      },
      "text/plain": [
       "Map(center=[30.1588, -85.6602], controls=(WidgetControl(options=['position', 'transparent_bg'], widget=HBox(ch…"
      ]
     },
     "execution_count": 39,
     "metadata": {},
     "output_type": "execute_result"
    }
   ],
   "source": [
    "Map = emap.Map(center=location_coords, zoom=19)\n",
    "Map.addLayer(preFire.select(['R', 'G', 'B']), trueColorVis, 'preFire')\n",
    "Map.addLayer(postFire.select(['R', 'G', 'B']), trueColorVis, 'postFire')\n",
    "Map.addLayer(postFire_result.randomVisualizer(),{}, 'postFire_Kmeans',opacity=0.6)\n",
    "Map.addLayer(preFire_result.randomVisualizer(),{}, 'preFire_Kmeans', opacity=0.6)\n",
    "Map.addLayer(train_data, {'color': 'yellow'}, 'training',opacity=0.4)\n",
    "Map.addLayer(test_data, {'color': 'blue'}, 'testing',opacity=0.4)\n",
    "Map.addLayerControl()\n",
    "Map"
   ]
  },
  {
   "cell_type": "markdown",
   "metadata": {
    "id": "9DnShWw0xhBa"
   },
   "source": [
    "__Feature Description__\n",
    "<br> Buildings seem to be assigned as the same clusters from a simple k-means clustering method. For postfire clusters, there are also showing the tendencying of classifying one building into several several different components, possibly due to the partial damage from the postfire image."
   ]
  },
  {
   "cell_type": "markdown",
   "metadata": {
    "id": "3RCUTKxpf4dS"
   },
   "source": [
    "### Learning Vector Quantization (LVQ) Clustering"
   ]
  },
  {
   "cell_type": "code",
   "execution_count": 40,
   "metadata": {
    "id": "st0Q7lAgf811"
   },
   "outputs": [],
   "source": [
    "# Make the training dataset.\n",
    "training = postFire.select(['R','G','B','N','NDVI','BSI','SI','edge','texture']).sample(**{\n",
    "  'region': finalBounds,\n",
    "  'scale': 10,\n",
    "  'numPixels': 5000\n",
    "})\n",
    "\n",
    "# Instantiate the clusterer and train it.\n",
    "clusterer = ee.Clusterer.wekaLVQ(15).train(training)\n",
    "\n",
    "# Cluster the input using the trained clusterer.\n",
    "preFire_result = preFire.select(['R','G','B','N','NDVI','BSI','SI','edge','texture']).cluster(clusterer).rename('LVQ')\n",
    "postFire_result = postFire.select(['R','G','B','N','NDVI','BSI','SI','edge','texture']).cluster(clusterer).rename('LVQ')"
   ]
  },
  {
   "cell_type": "code",
   "execution_count": 41,
   "metadata": {
    "colab": {
     "base_uri": "https://localhost:8080/"
    },
    "id": "tPK144J5hzeg",
    "outputId": "f96230f3-55a6-4eb4-9eb8-d2ac52e22050"
   },
   "outputs": [
    {
     "name": "stdout",
     "output_type": "stream",
     "text": [
      "['R', 'G', 'B', 'N', 'NDVI', 'edge', 'BSI', 'SI', 'texture', 'R_contrast', 'N_contrast', 'R_corr', 'G_corr', 'B_corr', 'N_corr', 'R_var', 'N_var', 'R_idm', 'G_idm', 'B_idm', 'N_idm', 'R_diss', 'N_diss', 'R_shade', 'G_shade', 'B_shade', 'N_shade', 'R_gauss', 'G_gauss', 'B_gauss', 'N_gauss', 'R_low_oct', 'G_low_oct', 'B_low_oct', 'N_low_oct', 'R_manha', 'G_manha', 'B_manha', 'N_manha', 'KMeans', 'LVQ']\n"
     ]
    }
   ],
   "source": [
    "# add layer\n",
    "postFire = postFire.addBands(postFire_result)\n",
    "preFire = preFire.addBands(preFire_result)\n",
    "print(postFire.bandNames().getInfo())"
   ]
  },
  {
   "cell_type": "code",
   "execution_count": 42,
   "metadata": {
    "colab": {
     "base_uri": "https://localhost:8080/",
     "height": 621,
     "referenced_widgets": [
      "92520206748247ab84a405673559cb61",
      "fc8b2fb8ad834943b91a51f1ca666e7d",
      "9998526c4ebc47dda316b47523b25b04",
      "7339eb16e0b841c9be0250a992194e97",
      "dc17ea32b7f64d3fb867c2d8c5dc212c",
      "23153677e13e4e5b8071f96cfb1b8aee",
      "16c0af3a21134fe7913e4922b3fcfb6a",
      "184260d296ed4dba9deb68a9b71d1ae2",
      "b0a1456b6aca4871aaae06625ebe33d6",
      "eceffdd0088f42d3a2efac0dd410fddd",
      "01cd1d5856dc43f9af169ef309aedd71",
      "1319b34553dc4626a9e35625f2a2c148",
      "add07dd823714a25a1821c1d7b8749e4",
      "ee4dc65bd6384d789ac3348a771da2fb",
      "f486ad123ba04214aba5bd3ae0a20ed8",
      "17beb225a5ac4d9cba0033091009871a",
      "6450d734a541483f8f7d5292bc2667f2",
      "a214ad74d0f140b9b8b6e3fb9cdd51e1",
      "42535f653ee94ea9a2a9fb65fc5e34d8",
      "023246ab0d0142ceb5501e61cafcccb9",
      "dd21ff1cd54b4749b2db136d2c0bf37d",
      "f8c36804d0fa436b91cd98bd691359ac",
      "9af0166774ce4c9a890bb99fa06ae345",
      "90c24ba9f8314b2dafb944896306a3aa",
      "903031c55f11412c85c5f419f9340bd3",
      "015e5b6712184278897f683e3db4828c",
      "ffea14964fbd4da2a7989eb4caf6a170",
      "c703e1cd35a744809fb731528118d40f",
      "2e509ecb52904d1bb228fba441183a6d"
     ]
    },
    "id": "cBnTv1vHf86h",
    "outputId": "df7f82b3-beca-4dd9-8b79-995f02abb955"
   },
   "outputs": [
    {
     "data": {
      "application/vnd.jupyter.widget-view+json": {
       "model_id": "db1624b6ee884d2e8b60af57357a0248",
       "version_major": 2,
       "version_minor": 0
      },
      "text/plain": [
       "Map(center=[30.1588, -85.6602], controls=(WidgetControl(options=['position', 'transparent_bg'], widget=HBox(ch…"
      ]
     },
     "execution_count": 42,
     "metadata": {},
     "output_type": "execute_result"
    }
   ],
   "source": [
    "Map = emap.Map(center=location_coords, zoom=18)\n",
    "Map.addLayer(postFire.select(['R', 'G', 'B']), trueColorVis, 'postFire')\n",
    "Map.addLayer(postFire_result.randomVisualizer(),{}, 'postFire_LVQ',opacity=0.6)\n",
    "Map.addLayer(preFire_result.randomVisualizer(),{}, 'preFire_LVQ', opacity=0.6)\n",
    "#Map.addLayer(train_data, {'color': 'yellow'}, 'training',opacity=0.4)\n",
    "#Map.addLayer(test_data, {'color': 'blue'}, 'testing',opacity=0.4)\n",
    "Map.addLayer(visualizeByAttribute(train_data, 'dmg_code'), {'palette': train_palette, 'min': 0, 'max':4}, 'train')\n",
    "Map.addLayer(visualizeByAttribute(test_data, 'dmg_code'), {'palette': train_palette,'min': 0, 'max':4}, 'test')\n",
    "Map.addLayerControl()\n",
    "Map"
   ]
  },
  {
   "cell_type": "markdown",
   "metadata": {
    "id": "vBv06EsYBxPc"
   },
   "source": [
    "__Feature Description__\n",
    "<br>For LVQ, it seems mainly grouping those non-building areas into different clusters. Although in this way, some building can be easily identified, it has a large problem of combining building, road, and all other impervious surfaces together as one large cluster"
   ]
  },
  {
   "cell_type": "markdown",
   "metadata": {
    "id": "oBXeSd0roc7J"
   },
   "source": [
    "###  KMeans Segmentation\n",
    "\n",
    "Performs K-Means clustering on the input image. Outputs a 1-band image containing the ID of the cluster that each pixel belongs to.\n",
    "\n"
   ]
  },
  {
   "cell_type": "code",
   "execution_count": 43,
   "metadata": {
    "id": "kxY1vI40KxNR"
   },
   "outputs": [],
   "source": [
    "pre_kmeans = ee.Algorithms.Image.Segmentation.KMeans(preFire, 15, 1000, 20, 0, False, False)\n",
    "pre_clusters = pre_kmeans.select('clusters').rename('KMeans_Seg')\n",
    "\n",
    "post_kmeans = ee.Algorithms.Image.Segmentation.KMeans(postFire, 15, 1000, 20,0, False, False)\n",
    "post_clusters = post_kmeans.select('clusters').rename('KMeans_Seg')"
   ]
  },
  {
   "cell_type": "code",
   "execution_count": 44,
   "metadata": {
    "colab": {
     "base_uri": "https://localhost:8080/"
    },
    "id": "KlsFSu8Ok7l1",
    "outputId": "4cdc9abb-a0f4-4c13-bfd2-dc1146a89732"
   },
   "outputs": [
    {
     "name": "stdout",
     "output_type": "stream",
     "text": [
      "['R', 'G', 'B', 'N', 'NDVI', 'edge', 'BSI', 'SI', 'texture', 'R_contrast', 'N_contrast', 'R_corr', 'G_corr', 'B_corr', 'N_corr', 'R_var', 'N_var', 'R_idm', 'G_idm', 'B_idm', 'N_idm', 'R_diss', 'N_diss', 'R_shade', 'G_shade', 'B_shade', 'N_shade', 'R_gauss', 'G_gauss', 'B_gauss', 'N_gauss', 'R_low_oct', 'G_low_oct', 'B_low_oct', 'N_low_oct', 'R_manha', 'G_manha', 'B_manha', 'N_manha', 'KMeans', 'LVQ', 'KMeans_Seg']\n"
     ]
    }
   ],
   "source": [
    "# add layer\n",
    "postFire = postFire.addBands(post_clusters)\n",
    "preFire = preFire.addBands(pre_clusters)\n",
    "print(preFire.bandNames().getInfo())"
   ]
  },
  {
   "cell_type": "code",
   "execution_count": 45,
   "metadata": {
    "colab": {
     "base_uri": "https://localhost:8080/",
     "height": 621,
     "referenced_widgets": [
      "ef592c46b9ec4efd9c92cdd2dc8fba7e",
      "c50068e5391b4754bd6fff2e3cf5fe9f",
      "ec6e031f093e4980b94351dc0438f335",
      "b10bb7cc21b3458f80173e1c8389b1a5",
      "fdde928df0174803a028e9202befb70b",
      "136c8b89d7dc4546b105458c7f088e4d",
      "74d999d7d24347bc8b3d512329336a76",
      "783128da1be8462aa17ad9039de61b9d",
      "5cf7e5b3a1844abb95b4572c14a95407",
      "7b9b67ca79774e57880465e4a72014ea",
      "2b9169728d3c40258395f1459fab83fa",
      "1a208577de4a4f039ec4399a6074dc15",
      "bc022d0185ce4e469bf6261a1cd080b8",
      "f7908188cb0243b1980bf42b692422c6",
      "fd6e4d4b19814013beb5f8d560600460",
      "494797fb77ad47ccac72c1c596758b8e",
      "bbe386888be749eeaac405fb3d3fcf34",
      "f3fea32fcb7242ab8bf0f8d71be0b001",
      "32718714ea854064a9ff0dfc0bbdf3d9",
      "8a29c06bb16a418da4924fc627ca43e6",
      "36e85a2332354f538d3c2b264948d0cc",
      "ed8c17843c2c4d12bd703f775b108901",
      "afb11b52121143768eda9b78b6fee94f",
      "633098e41af148b2bbb42d26bc6075b6",
      "687f1a7a8fb74f4cb07a82349e56aa12",
      "8b25406c388d42e1bca61dcac8380c3a",
      "8a6838ea07b5415993247236856ed7e5",
      "1ac06520db094b78a3f14f62659fc6e3",
      "835c9477187b402e974df29894ffc691",
      "37261ce186f14928a098f87573e91231"
     ]
    },
    "id": "MHsxUtNjfc25",
    "outputId": "88c41ac5-48b8-41f3-ec32-72fd02ecdb09"
   },
   "outputs": [
    {
     "data": {
      "application/vnd.jupyter.widget-view+json": {
       "model_id": "aa1f02cbea35401f9baa305d49a7b5fc",
       "version_major": 2,
       "version_minor": 0
      },
      "text/plain": [
       "Map(center=[30.1588, -85.6602], controls=(WidgetControl(options=['position', 'transparent_bg'], widget=HBox(ch…"
      ]
     },
     "execution_count": 45,
     "metadata": {},
     "output_type": "execute_result"
    }
   ],
   "source": [
    "Map = emap.Map(center=location_coords, zoom=18)\n",
    "Map.addLayer(preFire.select(['R', 'G', 'B']), trueColorVis, 'preFire')\n",
    "Map.addLayer(postFire.select(['R', 'G', 'B']), trueColorVis, 'postFire')\n",
    "Map.addLayer(pre_clusters.randomVisualizer(),{}, 'pre_clusters', opacity=0.6)\n",
    "Map.addLayer(post_clusters.randomVisualizer(),{}, 'post_clusters', opacity=0.6)\n",
    "Map.addLayer(train_data, {'color': 'yellow'}, 'training',opacity=0.4)\n",
    "Map.addLayer(test_data, {'color': 'blue'}, 'testing',opacity=0.4)\n",
    "Map.addLayerControl()\n",
    "Map"
   ]
  },
  {
   "cell_type": "markdown",
   "metadata": {
    "id": "R8_lY3HZLmYP"
   },
   "source": [
    "### Simple Non-Iterative Clustering (SNIC) Segmentation\n",
    "\n",
    "An improved version of non-parametric SLIC. Superpixel clustering based on SNIC (Simple Non-Iterative Clustering). Outputs a band of cluster IDs and the per-cluster averages for each of the input bands.\n",
    "\n",
    "\n"
   ]
  },
  {
   "cell_type": "code",
   "execution_count": 46,
   "metadata": {
    "id": "ShzKuBl_rBSa"
   },
   "outputs": [],
   "source": [
    "def expandSeeds(seeds):\n",
    "    seeds = seeds.unmask(0).focal_max()\n",
    "    return seeds.updateMask(seeds)"
   ]
  },
  {
   "cell_type": "code",
   "execution_count": 47,
   "metadata": {
    "id": "NKy_U7t9lzDj"
   },
   "outputs": [],
   "source": [
    "seeds = ee.Algorithms.Image.Segmentation.seedGrid(30)\n",
    "\n",
    "pre_snic = ee.Algorithms.Image.Segmentation.SNIC(preFire, 30, 15, 8, 200, seeds).select([\"R_mean\", \"G_mean\", \"B_mean\", \"N_mean\", \"clusters\"], [\"R\", \"G\", \"B\", \"N\", \"clusters\"])\n",
    "pre_clusters = pre_snic.select('clusters').rename('SNIC')\n",
    "\n",
    "post_snic = ee.Algorithms.Image.Segmentation.SNIC(postFire, 30, 15, 8)\n",
    "post_clusters = post_snic.select('clusters').rename('SNIC')"
   ]
  },
  {
   "cell_type": "code",
   "execution_count": 48,
   "metadata": {
    "colab": {
     "base_uri": "https://localhost:8080/"
    },
    "id": "ST1hXVjklTQb",
    "outputId": "3ba0e10a-48c1-4623-8dd8-1b832428228b"
   },
   "outputs": [
    {
     "name": "stdout",
     "output_type": "stream",
     "text": [
      "['R', 'G', 'B', 'N', 'NDVI', 'edge', 'BSI', 'SI', 'texture', 'R_contrast', 'N_contrast', 'R_corr', 'G_corr', 'B_corr', 'N_corr', 'R_var', 'N_var', 'R_idm', 'G_idm', 'B_idm', 'N_idm', 'R_diss', 'N_diss', 'R_shade', 'G_shade', 'B_shade', 'N_shade', 'R_gauss', 'G_gauss', 'B_gauss', 'N_gauss', 'R_low_oct', 'G_low_oct', 'B_low_oct', 'N_low_oct', 'R_manha', 'G_manha', 'B_manha', 'N_manha', 'KMeans', 'LVQ', 'KMeans_Seg', 'SNIC']\n"
     ]
    }
   ],
   "source": [
    "# add layer\n",
    "postFire = postFire.addBands(post_clusters)\n",
    "preFire = preFire.addBands(pre_clusters)\n",
    "print(preFire.bandNames().getInfo())"
   ]
  },
  {
   "cell_type": "code",
   "execution_count": 49,
   "metadata": {
    "colab": {
     "base_uri": "https://localhost:8080/",
     "height": 621,
     "referenced_widgets": [
      "a9a0452a3ef04f19b97c9c3d5cf3c0b3",
      "e6250fe80d0f4c06842b34e9cc31da40",
      "ac36b08122ad4b1c97236069e4ba8b33",
      "456038505ca3480d8482c5c1627c99aa",
      "e75dec623e2a429db1dfc1618802c7a0",
      "fd5c87405e554777b9b20ac0230ec616",
      "c4e240e6d92d4248aab0738209246742",
      "646484192a814379b9891d69728f76b4",
      "77b6fc98acaa41f384f49719988811c3",
      "fa6b513fc24e46e3b5269a6b6bbe7602",
      "6ab35f78c7504376933127a3f65ab734",
      "b444ed96923043829a5ac5f85d333d1c",
      "90c86d56b323498eb774488596b8b0e1",
      "fde71d3bf3a64bb69697f07e7a9080e7",
      "da0b04838f1e49f283fc729a60bcc086",
      "1b3a57ec18ed4b59b5148656d7cc99df",
      "294958c9b32b4c3db86884456d9e2c6a",
      "6598f3905f614a93b21084f690367073",
      "0dfd1c0df0654fdc8ef2535dcb73b031",
      "bfe0064656e44e3f974b7d96d0eea400",
      "4d135480946048c6878d519184878f36",
      "7e1a53acbf2e49d4b76df7cc815c7059",
      "9657eef3c9cc49258f3529fad2001820",
      "a36209ce79354e059382e0dc57a12692",
      "ee08d42dfebb4b82ae1d474701e7e788",
      "b3104878232146b6a2a4fd588d75d043",
      "c1cb867e70e84b4792e9ad81e6541058",
      "7b50e007a4af4c09b194389ff22fdc29",
      "717fc84f422d4f3786e13b887680f800"
     ]
    },
    "id": "HWAaaMwkzGFR",
    "outputId": "f9a0946d-e589-446c-bd89-d01678006d8d"
   },
   "outputs": [
    {
     "data": {
      "application/vnd.jupyter.widget-view+json": {
       "model_id": "752f9fda5da84dc5b16c1543bd344789",
       "version_major": 2,
       "version_minor": 0
      },
      "text/plain": [
       "Map(center=[30.1588, -85.6602], controls=(WidgetControl(options=['position', 'transparent_bg'], widget=HBox(ch…"
      ]
     },
     "execution_count": 49,
     "metadata": {},
     "output_type": "execute_result"
    }
   ],
   "source": [
    "Map = emap.Map(center=location_coords, zoom=18)\n",
    "Map.addLayer(pre_clusters.randomVisualizer(),{} , \"clusters\")\n",
    "Map.addLayer(post_clusters.randomVisualizer(),{}, 'postFire_SNIC', opacity=0.6)\n",
    "Map.addLayer(expandSeeds(seeds), {}, 'seeds')\n",
    "Map.addLayer(train_data, {'color': 'yellow'}, 'training',opacity=0.4)\n",
    "Map.addLayer(test_data, {'color': 'blue'}, 'testing',opacity=0.4)\n",
    "Map.addLayerControl()\n",
    "Map"
   ]
  },
  {
   "cell_type": "markdown",
   "metadata": {
    "id": "SkVwNdHp6e_e"
   },
   "source": [
    "__Feature Description__\n",
    "<br>This superpixel method is segmented the images quite well. There is a obvious difference between pre- and post- results, with post segmentations being more scattered"
   ]
  },
  {
   "cell_type": "markdown",
   "metadata": {
    "id": "riMEL-He8ciW"
   },
   "source": [
    "## Image Extraction\n",
    "\n",
    "To run xgboost and neural networks locally, extract images by building polygons from the GEE API. Extracted images (with all features) will be saved in Google Drive. Reading these extracted images as well as training XGBoost and Neural Net will be run in seperate jupyter notebooks.\n",
    "<br>__output images will have all 43 features at a resolutoin of 1 meter__\n",
    "\n",
    "<br>__To reduce image size (due to the expot limit from GEE API):__\n",
    "<br>**Each polygon converted from XView annotations has recorded its original image ID. Based on these, for each id, clip the pre- and post- images respectively by polygons with the same id**\n",
    "<br>**The output image would roughly be in the same extent as its original image**"
   ]
  },
  {
   "cell_type": "code",
   "execution_count": 50,
   "metadata": {
    "id": "Smqhb9l28dSp"
   },
   "outputs": [],
   "source": [
    "#make sure all features (each band of the image has the same data type)\n",
    "preFire=ee.Image.float(preFire)\n",
    "postFire=ee.Image.float(postFire)"
   ]
  },
  {
   "cell_type": "code",
   "execution_count": 51,
   "metadata": {
    "id": "rl1AJYigESfD"
   },
   "outputs": [],
   "source": [
    "#The whole pre- and post- images include two seperate areas, first use geo dataframe to subset Santa Rosa\n",
    "#Santa Rosa\n",
    "train_data_SR=train_data.filter(ee.Filter.eq('location_n', disaster_of_choice))\n",
    "santaRosa = gdf.query(f\"location_n == '{disaster_of_choice}'\")\n",
    "ID_list=santaRosa.ID.unique()\n",
    "#convert ground truth polygons to image\n",
    "SR_true_pre = ee.Image.byte(train_data_SR.filter(ee.Filter.eq('pre_post_d','pre')).reduceToImage(properties=['dmg_code'],reducer=ee.Reducer.first()))\n",
    "SR_true_post = ee.Image.byte(train_data_SR.filter(ee.Filter.eq('pre_post_d','post')).reduceToImage(properties=['dmg_code'],reducer=ee.Reducer.first()))"
   ]
  },
  {
   "cell_type": "code",
   "execution_count": 52,
   "metadata": {
    "id": "H8qFh_xLE0jI"
   },
   "outputs": [],
   "source": [
    "#use the export function from GEE API to save both pre- and post-fire features and ground truth images\n",
    "# Only looking at a subset of the data (:20)\n",
    "for index in ID_list[:20]:\n",
    "    \n",
    "    image_ROI=train_data_SR.filter(ee.Filter.eq('ID', index))\n",
    "    #post\n",
    "    ROI_shp=santaRosa[(santaRosa['ID']==index)&(santaRosa['pre_post_d']=='post')]\n",
    "    image_bound=ee.Geometry.Polygon(get_bounds(ROI_shp))\n",
    "    # task1=ee.batch.Export.image.toDrive(image=postFire, description='post_'+index, folder='NAIP_img_new', region=image_bound, scale=1)\n",
    "    # task2=ee.batch.Export.image.toDrive(image=SR_true_post, description='post_'+index+'gt', folder='NAIP_img_new', region=image_bound, scale=1)\n",
    "    task1 = ee.batch.Export.image.toCloudStorage(\n",
    "              image= postFire,\n",
    "        description = 'export_post',\n",
    "              fileNamePrefix= 'NAIP_img_new/post_'+index,\n",
    "              bucket= OUTPUT_BUCKET,\n",
    "              region=image_bound,\n",
    "              scale=1\n",
    "            );\n",
    "    task2 = ee.batch.Export.image.toCloudStorage(\n",
    "              image= SR_true_post,\n",
    "        description = 'export_post_gt',\n",
    "              fileNamePrefix = 'NAIP_img_new/post_'+index+'gt',\n",
    "              bucket= OUTPUT_BUCKET,\n",
    "              region=image_bound,\n",
    "              scale=1\n",
    "            );\n",
    "    task1.start()\n",
    "    task2.start()\n",
    "    #print(task2.status())\n",
    "    #pre\n",
    "    ROI_shp=santaRosa[(santaRosa['ID']==index)&(santaRosa['pre_post_d']=='pre')]\n",
    "    image_bound=ee.Geometry.Polygon(get_bounds(ROI_shp))\n",
    "    # task3=ee.batch.Export.image.toDrive(image=preFire, description='pre_'+index, folder='NAIP_img_new', region=image_bound, scale=1)\n",
    "    # task4=ee.batch.Export.image.toDrive(image=SR_true_pre, description='pre_'+index+'gt', folder='NAIP_img_new', region=image_bound, scale=1)\n",
    "    task3 = ee.batch.Export.image.toCloudStorage(\n",
    "              image= preFire,\n",
    "              fileNamePrefix= 'NAIP_img_new/pre_'+index,\n",
    "        description = 'export_pre',\n",
    "              bucket= OUTPUT_BUCKET,\n",
    "              region=image_bound,\n",
    "              scale=1\n",
    "            );\n",
    "    task4 = ee.batch.Export.image.toCloudStorage(\n",
    "              image= SR_true_pre,\n",
    "              fileNamePrefix= 'NAIP_img_new/pre_'+index+'gt',\n",
    "            description = \"export_pre_gt\",\n",
    "              bucket= OUTPUT_BUCKET,\n",
    "              region=image_bound,\n",
    "              scale=1\n",
    "            );\n",
    "    task3.start()\n",
    "    task4.start()\n",
    "    #print(task3.status())\n",
    "    #if index=='00000376':\n",
    "    #    print('done!')\n",
    "    # except:\n",
    "    #     print(\"Error\")\n",
    "    #     continue\n"
   ]
  },
  {
   "cell_type": "code",
   "execution_count": null,
   "metadata": {},
   "outputs": [],
   "source": [
    "# # FOR CANCELLING ALL TASKS\n",
    "# img_tasks_to_cancel = []\n",
    "# # Iterate over all tasks and store the image tasks\n",
    "# for task in ee.data.listOperations():\n",
    "#     # Default \"name\" is a url, so find the task id from that URL\n",
    "#     ee.data.cancelOperation(task['name'])"
   ]
  },
  {
   "cell_type": "markdown",
   "metadata": {},
   "source": [
    "Image extraction is done, below here still doesn't work"
   ]
  },
  {
   "cell_type": "markdown",
   "metadata": {
    "id": "VhBqrf75l_mM"
   },
   "source": [
    "## Supervised Classification\n"
   ]
  },
  {
   "cell_type": "markdown",
   "metadata": {
    "id": "-iZyDQ-Yhl5N"
   },
   "source": [
    "Filter Imagery\n",
    "<br>To run machine learning models on GEE, first need to reduce data amount due to its restrictions\n",
    "<br>Exclude areas with vegetation below i.e. only keeps imagery areas with urban and baresoil\n",
    "<br>Note: this mask was not applied to the exported images used for XGBoost and neural net"
   ]
  },
  {
   "cell_type": "code",
   "execution_count": null,
   "metadata": {
    "id": "s7rb8ONrhtH7"
   },
   "outputs": [],
   "source": [
    "hansenImage = ee.Image('UMD/hansen/global_forest_change_2015')\n",
    "\n",
    "def applyMask(imageryA, imageryB, hansenImage):\n",
    "    '''\n",
    "    Mask out all vegetation and water from imagery from pre disaster values.\n",
    "    '''\n",
    "    NDVIMaskB = imageryB.select('NDVI').lt(0.005)\n",
    "    dataMask =  hansenImage.select('datamask')\n",
    "    waterMask = dataMask.eq(1)\n",
    "    imageryA = imageryA.updateMask(NDVIMaskB)\n",
    "    new_imagery = imageryA.updateMask(waterMask)\n",
    "    return new_imagery\n",
    "\n",
    "postFire_filt = applyMask(postFire, preFire, hansenImage)"
   ]
  },
  {
   "cell_type": "code",
   "execution_count": null,
   "metadata": {
    "colab": {
     "base_uri": "https://localhost:8080/",
     "height": 621,
     "referenced_widgets": [
      "6a42f22f3c0349c1a57627fbbb0b2766",
      "a8827492c987477c91d516742e60fc86",
      "c0f67cd19010433d8edebf0bd7afcadb",
      "2130b214c6224a57b2a2bfbbcc3d7165",
      "11da904233ff4ea29728377008198456",
      "d8e7c00ed99d41fd8f1b0d80b43b1d78",
      "9da6e8ca15c64b9cb2a2e161fe528d75",
      "88fb8b0430c446e19938925468f15844",
      "f53733f621c043b48ce4da33925ce566",
      "22ffcab190254dc58c3dc2a3ae77de40",
      "05c0a9ce62a74bb4a17b583317b1ee75",
      "e13d0bdd95a14dadb6e3dc4944ca3ad5",
      "8f33ddb38eee4c9a9696ec5874f985e6",
      "de4a335fdb2c4f3f94fb08e786a73253",
      "dc51401f037344e1b742855ea6648d42",
      "92f87ee36eef4910bc75eaa595949fdb",
      "bd551caf7f014d2995c00fb24313ffb9",
      "f9eb8293a96a4dd5bfc002fc18de6350",
      "5f4ebc0df23a43f8b6bc84db364c9b65",
      "99bd336918ae42efb6fb88650b8d6ade",
      "fd93ebf3b6684cad8ed6b5963850ec99",
      "ca18d05e9abf4cb59eecdc0edc942db8",
      "a457fa9c3d6444bb9e8b58d52e9bd52c",
      "291446d71f8d49f99a018f0b0853311f",
      "32f8617932db4f3da9d0c34577e004fc",
      "24f7740b7fae446fa3e53920c4c9da13"
     ]
    },
    "id": "sXohvwewiJXl",
    "outputId": "a50fb25f-91a2-41f3-917b-215f15dc97eb"
   },
   "outputs": [],
   "source": [
    "Map = emap.Map(center=location_coords, zoom=11)\n",
    "Map.addLayer(postFire_filt.select(['R', 'G', 'B']), trueColorVis, 'postFire')\n",
    "Map.addLayerControl()\n",
    "Map"
   ]
  },
  {
   "cell_type": "markdown",
   "metadata": {
    "id": "6YR3ROAPYl8B"
   },
   "source": [
    "### Train Data"
   ]
  },
  {
   "cell_type": "code",
   "execution_count": null,
   "metadata": {
    "colab": {
     "base_uri": "https://localhost:8080/"
    },
    "id": "Kas7v6CcljkS",
    "outputId": "91475866-8191-4e03-942e-28026d0422ee"
   },
   "outputs": [],
   "source": [
    "print(postFire_filt.bandNames().getInfo())"
   ]
  },
  {
   "cell_type": "code",
   "execution_count": null,
   "metadata": {
    "id": "A_wcJhquYkR0"
   },
   "outputs": [],
   "source": [
    "#bands = ['R', 'G', 'B', 'N', 'NDVI'] #'edge', 'BSI', 'SI', 'texture', 'KMeans', 'LVQ', 'KMeans_Seg', 'SNIC'\n",
    "bands=postFire_filt.bandNames().getInfo()\n",
    "training = postFire_filt.select(bands).sampleRegions(**{\n",
    "  'collection': train_data,\n",
    "  'properties': ['dmg_code'],\n",
    "  'scale': 30\n",
    "});"
   ]
  },
  {
   "cell_type": "markdown",
   "metadata": {
    "id": "uMtteYjiSlOI"
   },
   "source": [
    "### Decision Tree"
   ]
  },
  {
   "cell_type": "markdown",
   "metadata": {
    "id": "AKtYwdo9Cw9g"
   },
   "source": [
    "#### Classifier"
   ]
  },
  {
   "cell_type": "code",
   "execution_count": null,
   "metadata": {
    "id": "0tLE-yBaSkLG"
   },
   "outputs": [],
   "source": [
    "# Train a CART classifier with default parameters.\n",
    "classifier = ee.Classifier.smileCart().train(training, 'dmg_code', bands);\n",
    "\n",
    "# Classify the image with the same bands used for training.\n",
    "postFire_classified = postFire_filt.select(bands).classify(classifier);\n",
    "#preFire_classified = preFire_filt.select(bands).classify(trained);"
   ]
  },
  {
   "cell_type": "markdown",
   "metadata": {
    "id": "C6sg3QT6VbdB"
   },
   "source": [
    "#### Feature Importance"
   ]
  },
  {
   "cell_type": "code",
   "execution_count": null,
   "metadata": {
    "id": "FDg_yUrmK1Yy"
   },
   "outputs": [],
   "source": [
    "class_explain = classifier.explain()\n",
    "variable_importance = ee.Feature(None, ee.Dictionary(class_explain).get('importance'))\n",
    "# variable_importance.getInfo()"
   ]
  },
  {
   "cell_type": "code",
   "execution_count": null,
   "metadata": {},
   "outputs": [],
   "source": [
    "# vi_task = ee.batch.Export.table.toAsset(\n",
    "#     collection=ee.FeatureCollection([variable_importance]),\n",
    "#     description='VariableImportance',\n",
    "#     assetId='projects/nodal-keyword-398723/assets/variable_importance'\n",
    "# )"
   ]
  },
  {
   "cell_type": "code",
   "execution_count": null,
   "metadata": {},
   "outputs": [],
   "source": [
    "# import time"
   ]
  },
  {
   "cell_type": "code",
   "execution_count": null,
   "metadata": {},
   "outputs": [],
   "source": [
    "# # vi_task.start()\n",
    "\n",
    "# # Wait for the export to finish\n",
    "# while vi_task.status()['state'] in ['READY', 'RUNNING']:\n",
    "#     print('Exporting variable importance...')\n",
    "#     time.sleep(30)  # Wait for 30 seconds before checking the status again\n",
    "\n",
    "# if vi_task.status()['state'] == 'COMPLETED':\n",
    "#     print('Variable importance export completed successfully.')"
   ]
  },
  {
   "cell_type": "code",
   "execution_count": null,
   "metadata": {
    "colab": {
     "base_uri": "https://localhost:8080/",
     "height": 460
    },
    "id": "_1oa7EzSHBIq",
    "outputId": "b6c6a95a-fb2e-44bc-a0a0-008ca3672454"
   },
   "outputs": [],
   "source": [
    "import json\n",
    "import matplotlib.pylab as plt\n",
    "import seaborn as sns\n",
    "# import pandas.util.testing as tm\n",
    "sns.set(style=\"whitegrid\")\n",
    "sns.set_color_codes(\"pastel\")\n",
    "\n",
    "var_dict = variable_importance.getInfo()\n",
    "\n",
    "lists = sorted(var_dict['properties'].items(), key = lambda kv:(kv[1], kv[0]), reverse=True)\n",
    "var = [i[0] for i in lists]\n",
    "values = [i[1] for i in lists]\n",
    "d = pd.DataFrame({'Variables':var,'Values':values})\n",
    "\n",
    "\n",
    "plt.figure(figsize=(5,15))\n",
    "sns.barplot('Values', 'Variables', data = d, label=\"Variables\", color=\"b\")\n",
    "plt.savefig(\"Model_Fig/CART_feature_imp.png\", dpi=250)"
   ]
  },
  {
   "cell_type": "markdown",
   "metadata": {
    "id": "0mJfPEU4C2pR"
   },
   "source": [
    "#### Validation"
   ]
  },
  {
   "cell_type": "code",
   "execution_count": null,
   "metadata": {
    "id": "LxEiiWBFAKCE"
   },
   "outputs": [],
   "source": [
    "validation = postFire_classified.sampleRegions(**{\n",
    "  'collection': test_data,\n",
    "  'properties': ['dmg_code'],\n",
    "  'scale': 30,\n",
    "})\n",
    "\n",
    "testAccuracy = validation.errorMatrix('dmg_code', 'classification');"
   ]
  },
  {
   "cell_type": "code",
   "execution_count": null,
   "metadata": {
    "colab": {
     "base_uri": "https://localhost:8080/",
     "height": 87
    },
    "id": "o5tSxPBZAFuZ",
    "outputId": "a2fb60a3-6cd7-4715-a784-d88e4173c4cd"
   },
   "outputs": [],
   "source": [
    "print(\"Test Accuracy: \", testAccuracy.accuracy().getInfo())\n",
    "print(\"Kappa Accuracy: \", testAccuracy.kappa().getInfo())\n",
    "print(\"Producer Accuracy: \", testAccuracy.producersAccuracy().getInfo())\n",
    "print(\"User Accuracy(): \", testAccuracy.consumersAccuracy().getInfo())"
   ]
  },
  {
   "cell_type": "markdown",
   "metadata": {
    "id": "5ueRdvFSC8AR"
   },
   "source": [
    "#### Classification Visual"
   ]
  },
  {
   "cell_type": "code",
   "execution_count": null,
   "metadata": {
    "colab": {
     "base_uri": "https://localhost:8080/",
     "height": 531
    },
    "id": "JAsneFuWS_SK",
    "outputId": "6aa68980-87b6-413e-c445-5cc6e45be4e9"
   },
   "outputs": [],
   "source": [
    "class_palette = ['bff7ff','ff9900']\n",
    "\n",
    "Map = emap.Map(center=[38.50178453635526,-122.74843617724784], zoom=11)\n",
    "Map.addLayer(preFire.select(['R', 'G', 'B']), trueColorVis, 'preFire')\n",
    "Map.addLayer(postFire.select(['R', 'G', 'B']), trueColorVis, 'postFire')\n",
    "Map.addLayer(postFire_classified,\n",
    "             {'palette': train_palette, 'min': 0, 'max':4},\n",
    "             'postFire_classification')\n",
    "Map.addLayer(visualizeByAttribute(train_data, 'dmg_code'), {'palette': train_palette, 'min': 0, 'max':4}, 'train')\n",
    "Map.addLayer(visualizeByAttribute(test_data, 'dmg_code'), {'palette': train_palette,'min': 0, 'max':4}, 'test')\n",
    "Map.addLayerControl()\n",
    "Map"
   ]
  },
  {
   "cell_type": "markdown",
   "metadata": {
    "id": "_NbW-tqNvT83"
   },
   "source": [
    "__Summarization of Decision Tree Classification Results__\n",
    "<br> The overall accuracy was 86.72% but decision tree classifier cannot be considered as a good classifier as there is negative Cohen's Kappa coefficient, implying bad agreement of ground truth and predictions. Possibly due to the imbalance distribution of different damage samples, the user's accuracy (1-commision error) and producer's accuracy (1-omission error) are only high for no-damage buildings. The spatial map also showed a bad classification with almost all buildings labeled as no-damage for both of the two fires.\n",
    "<br>Further modification of the method can be focus on grouping building types into 3 types: non-building, no-damage, and destroyed.\n",
    "<br> Feature importance showed that only around half of the variables can be considered as important features and were used for decision tree classifier. Red band reflection is a dominated feature determining the predicition accuracy. Other important features were mostly texture bands for RGBN bands and some vegetation indicies such as normalized difference vegetation index and shadow index.\n"
   ]
  },
  {
   "cell_type": "markdown",
   "metadata": {
    "id": "nvGQ15MonyLo"
   },
   "source": [
    "### Support Vector Machine\n"
   ]
  },
  {
   "cell_type": "markdown",
   "metadata": {
    "id": "GBocdORnDvIZ"
   },
   "source": [
    "#### Classifier"
   ]
  },
  {
   "cell_type": "code",
   "execution_count": null,
   "metadata": {
    "id": "zyeinqLcl98N"
   },
   "outputs": [],
   "source": [
    "# Create an SVM classifier with custom parameters.\n",
    "classifier = ee.Classifier.libsvm(**{\n",
    "  'kernelType': 'RBF'\n",
    "}).train(training, 'dmg_code', bands)\n",
    "\n",
    "# Classify the image.\n",
    "postFire_classified = postFire_filt.select(bands).classify(classifier)"
   ]
  },
  {
   "cell_type": "markdown",
   "metadata": {
    "id": "Sur-PfpiDxWb"
   },
   "source": [
    "#### Validation"
   ]
  },
  {
   "cell_type": "code",
   "execution_count": null,
   "metadata": {
    "id": "ebci6zNT4T2p"
   },
   "outputs": [],
   "source": [
    "validation = postFire_classified.sampleRegions(**{\n",
    "  'collection': test_data,\n",
    "  'properties': ['dmg_code'],\n",
    "  'scale': 30,\n",
    "})\n",
    "\n",
    "testAccuracy = validation.errorMatrix('dmg_code', 'classification');"
   ]
  },
  {
   "cell_type": "code",
   "execution_count": null,
   "metadata": {
    "colab": {
     "base_uri": "https://localhost:8080/",
     "height": 87
    },
    "id": "JqUoOcxl9go4",
    "outputId": "a4e0567a-7d02-4a10-f487-353fcd478617"
   },
   "outputs": [],
   "source": [
    "print(\"Test Accuracy: \", testAccuracy.accuracy().getInfo())\n",
    "print(\"Kappa Accuracy: \", testAccuracy.kappa().getInfo())\n",
    "print(\"Producer Accuracy: \", testAccuracy.producersAccuracy().getInfo())\n",
    "print(\"Consumers Accuracy(): \", testAccuracy.consumersAccuracy().getInfo())"
   ]
  },
  {
   "cell_type": "markdown",
   "metadata": {
    "id": "vf3HuAQOEEiK"
   },
   "source": [
    "#### Classification Visual"
   ]
  },
  {
   "cell_type": "code",
   "execution_count": null,
   "metadata": {
    "colab": {
     "base_uri": "https://localhost:8080/",
     "height": 531
    },
    "id": "xT5b0xvF0BSi",
    "outputId": "8ff2da2b-8922-42da-93be-a4fbb7f29eaa"
   },
   "outputs": [],
   "source": [
    "Map = emap.Map(center=[38.50178453635526,-122.74843617724784], zoom=11)\n",
    "Map.addLayer(preFire.select(['R', 'G', 'B']), trueColorVis, 'preFire')\n",
    "Map.addLayer(postFire.select(['R', 'G', 'B']), trueColorVis, 'postFire')\n",
    "Map.addLayer(postFire_classified,\n",
    "             {'palette': train_palette, 'min': 0, 'max':4},\n",
    "             'postFire_classification')\n",
    "Map.addLayer(visualizeByAttribute(train_data, 'dmg_code'), {'palette': train_palette, 'min': 0, 'max':4}, 'train')\n",
    "Map.addLayer(visualizeByAttribute(test_data, 'dmg_code'), {'palette': train_palette,'min': 0, 'max':4}, 'test')\n",
    "Map.addLayerControl()\n",
    "Map"
   ]
  },
  {
   "cell_type": "markdown",
   "metadata": {
    "id": "uKi2KBfAvQRe"
   },
   "source": [
    "__Summarization of SVM Classification Results__\n",
    "<br> SVM classifier obtained similar classification accuracy as random forest classifier (shown as below). Also, similar to the decision tree, as influenced by the distribution of sample amounts, the relatively high accuracy does not lead to a good classification as there is low Kappa and low accuracy for classes that are not no-damage"
   ]
  },
  {
   "cell_type": "markdown",
   "metadata": {
    "id": "S8rNGShun1oK"
   },
   "source": [
    "### Random Forest\n",
    "\n",
    "ee.Classifier.randomForest(numberOfTrees, variablesPerSplit, minLeafPopulation, bagFraction, outOfBagMode, seed)\n"
   ]
  },
  {
   "cell_type": "markdown",
   "metadata": {
    "id": "dzcJ2zItER97"
   },
   "source": [
    "#### Classifier"
   ]
  },
  {
   "cell_type": "code",
   "execution_count": null,
   "metadata": {
    "id": "YMQyMiOnNLTF"
   },
   "outputs": [],
   "source": [
    "# Create an SVM classifier with custom parameters.\n",
    "classifier = ee.Classifier.smileRandomForest(**{\n",
    "  'numberOfTrees': 100\n",
    "}).train(training, 'dmg_code', bands)\n",
    "\n",
    "postFire_classified = postFire_filt.select(bands).classify(classifier)"
   ]
  },
  {
   "cell_type": "markdown",
   "metadata": {
    "id": "wnSLtCMVMkKg"
   },
   "source": [
    "#### Feature Importance"
   ]
  },
  {
   "cell_type": "code",
   "execution_count": null,
   "metadata": {
    "colab": {
     "base_uri": "https://localhost:8080/",
     "height": 797
    },
    "id": "nO5yzCXvJexS",
    "outputId": "b8d31ef4-9b55-470b-8225-cbebbfe7b6b5"
   },
   "outputs": [],
   "source": [
    "class_explain = classifier.explain()\n",
    "variable_importance = ee.Feature(None, ee.Dictionary(class_explain).get('importance'))\n",
    "# variable_importance.getInfo()"
   ]
  },
  {
   "cell_type": "code",
   "execution_count": null,
   "metadata": {
    "colab": {
     "base_uri": "https://localhost:8080/",
     "height": 883
    },
    "id": "jDvcpDYYUjhR",
    "outputId": "63435cfb-92f5-4f7d-b417-f537fdb26c4a"
   },
   "outputs": [],
   "source": [
    "sns.set(style=\"whitegrid\")\n",
    "sns.set_color_codes(\"pastel\")\n",
    "\n",
    "var_dict = variable_importance.getInfo()\n",
    "\n",
    "lists = sorted(var_dict['properties'].items(), key = lambda kv:(kv[1], kv[0]), reverse=True)\n",
    "var = [i[0] for i in lists]\n",
    "values = [i[1] for i in lists]\n",
    "d = pd.DataFrame({'Variables':var,'Values':values})\n",
    "\n",
    "plt.figure(figsize=(5,15))\n",
    "sns.barplot('Values', 'Variables', data = d, label=\"Variables\", color=\"b\")\n",
    "plt.savefig(\"Model_Fig/RF_feature_imp.png\", dpi=250)"
   ]
  },
  {
   "cell_type": "markdown",
   "metadata": {
    "id": "j4dXFbu3EWxx"
   },
   "source": [
    "####Validation"
   ]
  },
  {
   "cell_type": "code",
   "execution_count": null,
   "metadata": {
    "id": "xN6ltlsR98vI"
   },
   "outputs": [],
   "source": [
    "validation = postFire_classified.sampleRegions(**{\n",
    "  'collection': test_data,\n",
    "  'properties': ['dmg_code'],\n",
    "  'scale': 30,\n",
    "})\n",
    "\n",
    "testAccuracy = validation.errorMatrix('dmg_code', 'classification');"
   ]
  },
  {
   "cell_type": "code",
   "execution_count": null,
   "metadata": {
    "colab": {
     "base_uri": "https://localhost:8080/",
     "height": 87
    },
    "id": "8KuNv9oN-ByY",
    "outputId": "cf899f45-e94e-4a68-efc5-e486b2e545bb"
   },
   "outputs": [],
   "source": [
    "print(\"Test Accuracy: \", testAccuracy.accuracy().getInfo())\n",
    "print(\"Kappa Accuracy: \", testAccuracy.kappa().getInfo())\n",
    "print(\"Producer Accuracy: \", testAccuracy.producersAccuracy().getInfo())\n",
    "print(\"Consumers Accuracy(): \", testAccuracy.consumersAccuracy().getInfo())"
   ]
  },
  {
   "cell_type": "markdown",
   "metadata": {
    "id": "o8oiQsgnEZHg"
   },
   "source": [
    "#### Classification Visual"
   ]
  },
  {
   "cell_type": "code",
   "execution_count": null,
   "metadata": {
    "colab": {
     "base_uri": "https://localhost:8080/",
     "height": 531
    },
    "id": "F89kIkZZooEx",
    "outputId": "91c6ac29-4cf2-4fbf-dd85-9bb1bddc2c33"
   },
   "outputs": [],
   "source": [
    "Map = emap.Map(center=[38.50178453635526,-122.74843617724784], zoom=11)\n",
    "Map.addLayer(preFire.select(['R', 'G', 'B']), trueColorVis, 'preFire')\n",
    "Map.addLayer(postFire.select(['R', 'G', 'B']), trueColorVis, 'postFire')\n",
    "Map.addLayer(postFire_classified,\n",
    "             {'palette': train_palette, 'min': 0, 'max':4},\n",
    "             'postFire_classification')\n",
    "\n",
    "Map.addLayer(visualizeByAttribute(train_data, 'dmg_code'), {'palette': train_palette, 'min': 0, 'max':4}, 'train')\n",
    "Map.addLayer(visualizeByAttribute(test_data, 'dmg_code'), {'palette': train_palette,'min': 0, 'max':4}, 'test')\n",
    "Map.addLayerControl()\n",
    "Map"
   ]
  },
  {
   "cell_type": "markdown",
   "metadata": {
    "id": "DHSZ1wmSpjSZ"
   },
   "source": [
    "__Summarization of Random Forest Classification Results__\n",
    "<br> Again, although the overall accuracy showed as 86.87%, the random forest classifier doesn't show a good classification result when evaluated by the spatial matching of the predictoins. The Cohen's Kappa index is almost 0 indicating a bad match between ground truth and classifications. The reason might be the imbalance distribution of samples as most of them have been dominated by no-damage. This has also been verified by the user's accuracy (1-commision error) and producer's accuracy (1-omission error), which are only high for the type of no-damage buildings. The map visualizaiton futher indicate a bad classification.\n",
    "<br> As for features, the feature importance indicated that there was not a strong dominated feature determining the classification accuracy. However, it was still showing that the Gaussian filtered near infrared layer was the most important variable while some cluster layers such as kmeans segmentation, kmeans clusters, LVQ segmentations, and edge detection were among the least important variables."
   ]
  },
  {
   "cell_type": "markdown",
   "metadata": {
    "id": "hmmAFGRfyTJ-"
   },
   "source": [
    "## Next Step (**See XGBoost and NN Notebooks**)\n",
    "As a preliminary examination of machine learning classifiers (decision tree, SVM, and random forest; trained on GEE server) doesn't show good spatial patterns and identifications of building damages even though they have overall accuracy around 85%, the next step is to test out some other methods (XGBoost and neural networks) that were normally found to have better results with some modifications of the original dataset. Please see the **XGBoost and NN notebooks** for the next step. The extracted NAIP data exported in this notebook will be used as output for these two methods and they will be ran at the local client-end with sklearn and tensorflow. A more detailed analysis of features will also be conducted in the **XGBoost notebook**."
   ]
  },
  {
   "cell_type": "code",
   "execution_count": null,
   "metadata": {
    "id": "IudHMFLjZ-r2"
   },
   "outputs": [],
   "source": []
  }
 ],
 "metadata": {
  "colab": {
   "provenance": []
  },
  "environment": {
   "kernel": "conda-root-py",
   "name": "workbench-notebooks.m111",
   "type": "gcloud",
   "uri": "gcr.io/deeplearning-platform-release/workbench-notebooks:m111"
  },
  "kernelspec": {
   "display_name": "Python 3",
   "language": "python",
   "name": "conda-root-py"
  },
  "language_info": {
   "codemirror_mode": {
    "name": "ipython",
    "version": 3
   },
   "file_extension": ".py",
   "mimetype": "text/x-python",
   "name": "python",
   "nbconvert_exporter": "python",
   "pygments_lexer": "ipython3",
   "version": "3.10.12"
  },
  "widgets": {
   "application/vnd.jupyter.widget-state+json": {
    "015e5b6712184278897f683e3db4828c": {
     "model_module": "@jupyter-widgets/base",
     "model_module_version": "1.2.0",
     "model_name": "LayoutModel",
     "state": {
      "_model_module": "@jupyter-widgets/base",
      "_model_module_version": "1.2.0",
      "_model_name": "LayoutModel",
      "_view_count": null,
      "_view_module": "@jupyter-widgets/base",
      "_view_module_version": "1.2.0",
      "_view_name": "LayoutView",
      "align_content": null,
      "align_items": null,
      "align_self": null,
      "border": null,
      "bottom": null,
      "display": null,
      "flex": null,
      "flex_flow": null,
      "grid_area": null,
      "grid_auto_columns": null,
      "grid_auto_flow": null,
      "grid_auto_rows": null,
      "grid_column": null,
      "grid_gap": null,
      "grid_row": null,
      "grid_template_areas": null,
      "grid_template_columns": null,
      "grid_template_rows": null,
      "height": "28px",
      "justify_content": null,
      "justify_items": null,
      "left": null,
      "margin": null,
      "max_height": null,
      "max_width": null,
      "min_height": null,
      "min_width": null,
      "object_fit": null,
      "object_position": null,
      "order": null,
      "overflow": null,
      "overflow_x": null,
      "overflow_y": null,
      "padding": "0px 0px 0px 4px",
      "right": null,
      "top": null,
      "visibility": null,
      "width": "28px"
     }
    },
    "01b09054c95244078cec61a947429067": {
     "model_module": "jupyter-leaflet",
     "model_module_version": "^0.17",
     "model_name": "LeafletMapStyleModel",
     "state": {
      "_model_module": "jupyter-leaflet",
      "_model_module_version": "^0.17",
      "_model_name": "LeafletMapStyleModel",
      "_view_count": null,
      "_view_module": "@jupyter-widgets/base",
      "_view_module_version": "1.2.0",
      "_view_name": "StyleView",
      "cursor": "move"
     }
    },
    "01cd1d5856dc43f9af169ef309aedd71": {
     "model_module": "jupyter-leaflet",
     "model_module_version": "^0.17",
     "model_name": "LeafletMapStyleModel",
     "state": {
      "_model_module": "jupyter-leaflet",
      "_model_module_version": "^0.17",
      "_model_name": "LeafletMapStyleModel",
      "_view_count": null,
      "_view_module": "@jupyter-widgets/base",
      "_view_module_version": "1.2.0",
      "_view_name": "StyleView",
      "cursor": "grab"
     }
    },
    "023246ab0d0142ceb5501e61cafcccb9": {
     "model_module": "@jupyter-widgets/controls",
     "model_module_version": "1.5.0",
     "model_name": "HBoxModel",
     "state": {
      "_dom_classes": [],
      "_model_module": "@jupyter-widgets/controls",
      "_model_module_version": "1.5.0",
      "_model_name": "HBoxModel",
      "_view_count": null,
      "_view_module": "@jupyter-widgets/controls",
      "_view_module_version": "1.5.0",
      "_view_name": "HBoxView",
      "box_style": "",
      "children": [
       "IPY_MODEL_f8c36804d0fa436b91cd98bd691359ac"
      ],
      "layout": "IPY_MODEL_9af0166774ce4c9a890bb99fa06ae345"
     }
    },
    "0277c38de54e4a95b2f7332b61b2360a": {
     "model_module": "jupyter-leaflet",
     "model_module_version": "^0.17",
     "model_name": "LeafletMapModel",
     "state": {
      "_dom_classes": [],
      "_model_module": "jupyter-leaflet",
      "_model_module_version": "^0.17",
      "_model_name": "LeafletMapModel",
      "_view_count": null,
      "_view_module": "jupyter-leaflet",
      "_view_module_version": "^0.17",
      "_view_name": "LeafletMapView",
      "bottom": 13827139,
      "bounce_at_zoom_limits": true,
      "box_zoom": true,
      "center": [
       30.156791041780597,
       -85.66876620054246
      ],
      "close_popup_on_click": true,
      "controls": [
       "IPY_MODEL_658177d2a5574c8db168fd51ebe96ef1",
       "IPY_MODEL_15961bad754c4a3aa6eb65a68407d8c5",
       "IPY_MODEL_ca96b2695d4945dd888356d57bc1ff12",
       "IPY_MODEL_2eb10eafe059411c8df5e277026bfc82",
       "IPY_MODEL_be8be9bca22c4b9281b9f86cf0675d89",
       "IPY_MODEL_fd280af874464168a06a7ed19dbc6707",
       "IPY_MODEL_c7897d004b4343508123f52974f1678f",
       "IPY_MODEL_4e40a03b388d40d083ce6c6c2ce99377",
       "IPY_MODEL_90e3de7fee0c41529ffa815abdb77f85"
      ],
      "crs": {
       "custom": false,
       "name": "EPSG3857"
      },
      "default_style": "IPY_MODEL_c7806e38f2334958a9d95db9dc68e6ae",
      "double_click_zoom": true,
      "dragging": true,
      "dragging_style": "IPY_MODEL_8178dad4cd704483ade30f85bef2c94d",
      "east": -85.65732121467592,
      "fullscreen": false,
      "inertia": true,
      "inertia_deceleration": 3000,
      "inertia_max_speed": 1500,
      "interpolation": "bilinear",
      "keyboard": true,
      "keyboard_pan_offset": 80,
      "keyboard_zoom_offset": 1,
      "layers": [
       "IPY_MODEL_6a932769e2ed4c21848bef3b0c53d0cf",
       "IPY_MODEL_72487e7337a84c8cb8bb6c469647c5aa",
       "IPY_MODEL_358d821af7ee4ab59f4c6d14078d5801",
       "IPY_MODEL_354d8bf836914d3a9de6e4f79aaa4881",
       "IPY_MODEL_27c6e091a5f94bfb88b2d60672ca717e",
       "IPY_MODEL_33cdc93958fb413fb141dce1c690d328",
       "IPY_MODEL_edacdec63c4a44169d99fe94bcd8faad",
       "IPY_MODEL_d2cd36f82ec54616b3ced26bb709a35b",
       "IPY_MODEL_9a20647d62034e238eb276e879f710f6",
       "IPY_MODEL_754543562c254a1bb4eb0be89c82715d",
       "IPY_MODEL_ca8a28a0545a47bfb12d78163bcf2753",
       "IPY_MODEL_c53a7c073e4e49a6860548fee0a17fa4"
      ],
      "layout": "IPY_MODEL_260db86ef09b4913855150c21cff9749",
      "left": 8791242,
      "max_zoom": 24,
      "min_zoom": null,
      "modisdate": "2023-09-14",
      "north": 30.159571702384703,
      "options": [
       "bounce_at_zoom_limits",
       "box_zoom",
       "center",
       "close_popup_on_click",
       "double_click_zoom",
       "dragging",
       "fullscreen",
       "inertia",
       "inertia_deceleration",
       "inertia_max_speed",
       "interpolation",
       "keyboard",
       "keyboard_pan_offset",
       "keyboard_zoom_offset",
       "max_zoom",
       "min_zoom",
       "prefer_canvas",
       "scroll_wheel_zoom",
       "tap",
       "tap_tolerance",
       "touch_zoom",
       "world_copy_jump",
       "zoom",
       "zoom_animation_threshold",
       "zoom_delta",
       "zoom_snap"
      ],
      "panes": {},
      "prefer_canvas": false,
      "right": 8793375,
      "scroll_wheel_zoom": true,
      "south": 30.154005664271736,
      "style": "IPY_MODEL_c7806e38f2334958a9d95db9dc68e6ae",
      "tap": true,
      "tap_tolerance": 15,
      "top": 13826539,
      "touch_zoom": true,
      "west": -85.68020582199098,
      "window_url": "https://0yfe0deel58f-496ff2e9c6d22116-0-colab.googleusercontent.com/outputframe.html?vrz=colab_20230914-060107_RC00_565327706",
      "world_copy_jump": false,
      "zoom": 17,
      "zoom_animation_threshold": 4,
      "zoom_delta": 1,
      "zoom_snap": 1
     }
    },
    "0376325016024b26b6078cb991c81f35": {
     "model_module": "@jupyter-widgets/base",
     "model_module_version": "1.2.0",
     "model_name": "LayoutModel",
     "state": {
      "_model_module": "@jupyter-widgets/base",
      "_model_module_version": "1.2.0",
      "_model_name": "LayoutModel",
      "_view_count": null,
      "_view_module": "@jupyter-widgets/base",
      "_view_module_version": "1.2.0",
      "_view_name": "LayoutView",
      "align_content": null,
      "align_items": null,
      "align_self": null,
      "border": null,
      "bottom": null,
      "display": null,
      "flex": null,
      "flex_flow": null,
      "grid_area": null,
      "grid_auto_columns": null,
      "grid_auto_flow": null,
      "grid_auto_rows": null,
      "grid_column": null,
      "grid_gap": null,
      "grid_row": null,
      "grid_template_areas": null,
      "grid_template_columns": null,
      "grid_template_rows": null,
      "height": "600px",
      "justify_content": null,
      "justify_items": null,
      "left": null,
      "margin": null,
      "max_height": null,
      "max_width": null,
      "min_height": null,
      "min_width": null,
      "object_fit": null,
      "object_position": null,
      "order": null,
      "overflow": null,
      "overflow_x": null,
      "overflow_y": null,
      "padding": null,
      "right": null,
      "top": null,
      "visibility": null,
      "width": null
     }
    },
    "05c0a9ce62a74bb4a17b583317b1ee75": {
     "model_module": "jupyter-leaflet",
     "model_module_version": "^0.17",
     "model_name": "LeafletMapStyleModel",
     "state": {
      "_model_module": "jupyter-leaflet",
      "_model_module_version": "^0.17",
      "_model_name": "LeafletMapStyleModel",
      "_view_count": null,
      "_view_module": "@jupyter-widgets/base",
      "_view_module_version": "1.2.0",
      "_view_name": "StyleView",
      "cursor": "grab"
     }
    },
    "05f8165000294a598ec881692f6b1c64": {
     "model_module": "jupyter-leaflet",
     "model_module_version": "^0.17",
     "model_name": "LeafletTileLayerModel",
     "state": {
      "_model_module": "jupyter-leaflet",
      "_model_module_version": "^0.17",
      "_model_name": "LeafletTileLayerModel",
      "_view_count": null,
      "_view_module": "jupyter-leaflet",
      "_view_module_version": "^0.17",
      "_view_name": "LeafletTileLayerView",
      "attribution": "Google Earth Engine",
      "base": false,
      "bottom": true,
      "bounds": null,
      "detect_retina": false,
      "loading": false,
      "max_native_zoom": null,
      "max_zoom": 24,
      "min_native_zoom": null,
      "min_zoom": 0,
      "name": "Postfire",
      "no_wrap": false,
      "opacity": 1,
      "options": [
       "attribution",
       "bounds",
       "detect_retina",
       "max_native_zoom",
       "max_zoom",
       "min_native_zoom",
       "min_zoom",
       "no_wrap",
       "tile_size",
       "tms",
       "zoom_offset"
      ],
      "pane": "",
      "popup": null,
      "popup_max_height": null,
      "popup_max_width": 300,
      "popup_min_width": 50,
      "show_loading": false,
      "subitems": [],
      "tile_size": 256,
      "tms": false,
      "url": "https://earthengine.googleapis.com/v1/projects/earthengine-legacy/maps/8b40af0c3e19930200c0b7fa940fe602-d5fb7a590dfd8e3ded4465dc476408b2/tiles/{z}/{x}/{y}",
      "visible": true,
      "zoom_offset": 0
     }
    },
    "0d27bc345a3942ccb6cd0146a487390f": {
     "model_module": "jupyter-leaflet",
     "model_module_version": "^0.17",
     "model_name": "LeafletZoomControlModel",
     "state": {
      "_model_module": "jupyter-leaflet",
      "_model_module_version": "^0.17",
      "_model_name": "LeafletZoomControlModel",
      "_view_count": null,
      "_view_module": "jupyter-leaflet",
      "_view_module_version": "^0.17",
      "_view_name": "LeafletZoomControlView",
      "options": [
       "position",
       "zoom_in_text",
       "zoom_in_title",
       "zoom_out_text",
       "zoom_out_title"
      ],
      "position": "topleft",
      "zoom_in_text": "+",
      "zoom_in_title": "Zoom in",
      "zoom_out_text": "-",
      "zoom_out_title": "Zoom out"
     }
    },
    "0db12e7936f8483ca80639b76b7b79a4": {
     "model_module": "jupyter-leaflet",
     "model_module_version": "^0.17",
     "model_name": "LeafletAttributionControlModel",
     "state": {
      "_model_module": "jupyter-leaflet",
      "_model_module_version": "^0.17",
      "_model_name": "LeafletAttributionControlModel",
      "_view_count": null,
      "_view_module": "jupyter-leaflet",
      "_view_module_version": "^0.17",
      "_view_name": "LeafletAttributionControlView",
      "options": [
       "position",
       "prefix"
      ],
      "position": "bottomright",
      "prefix": "ipyleaflet"
     }
    },
    "0dfd1c0df0654fdc8ef2535dcb73b031": {
     "model_module": "jupyter-leaflet",
     "model_module_version": "^0.17",
     "model_name": "LeafletMapStyleModel",
     "state": {
      "_model_module": "jupyter-leaflet",
      "_model_module_version": "^0.17",
      "_model_name": "LeafletMapStyleModel",
      "_view_count": null,
      "_view_module": "@jupyter-widgets/base",
      "_view_module_version": "1.2.0",
      "_view_name": "StyleView",
      "cursor": "grab"
     }
    },
    "1106cc01acd049fabf73fad788b278c4": {
     "model_module": "jupyter-leaflet",
     "model_module_version": "^0.17",
     "model_name": "LeafletFullScreenControlModel",
     "state": {
      "_model_module": "jupyter-leaflet",
      "_model_module_version": "^0.17",
      "_model_name": "LeafletFullScreenControlModel",
      "_view_count": null,
      "_view_module": "jupyter-leaflet",
      "_view_module_version": "^0.17",
      "_view_name": "LeafletFullScreenControlView",
      "options": [
       "position"
      ],
      "position": "topleft"
     }
    },
    "11da904233ff4ea29728377008198456": {
     "model_module": "jupyter-leaflet",
     "model_module_version": "^0.17",
     "model_name": "LeafletDrawControlModel",
     "state": {
      "_model_module": "jupyter-leaflet",
      "_model_module_version": "^0.17",
      "_model_name": "LeafletDrawControlModel",
      "_view_count": null,
      "_view_module": "jupyter-leaflet",
      "_view_module_version": "^0.17",
      "_view_name": "LeafletDrawControlView",
      "circle": {},
      "circlemarker": {},
      "data": [],
      "edit": true,
      "marker": {
       "shapeOptions": {
        "color": "#3388ff"
       }
      },
      "options": [
       "position"
      ],
      "polygon": {
       "shapeOptions": {}
      },
      "polyline": {
       "shapeOptions": {}
      },
      "position": "topleft",
      "rectangle": {
       "shapeOptions": {
        "color": "#3388ff"
       }
      },
      "remove": true
     }
    },
    "1319b34553dc4626a9e35625f2a2c148": {
     "model_module": "jupyter-leaflet",
     "model_module_version": "^0.17",
     "model_name": "LeafletMapStyleModel",
     "state": {
      "_model_module": "jupyter-leaflet",
      "_model_module_version": "^0.17",
      "_model_name": "LeafletMapStyleModel",
      "_view_count": null,
      "_view_module": "@jupyter-widgets/base",
      "_view_module_version": "1.2.0",
      "_view_name": "StyleView",
      "cursor": "move"
     }
    },
    "136c8b89d7dc4546b105458c7f088e4d": {
     "model_module": "jupyter-leaflet",
     "model_module_version": "^0.17",
     "model_name": "LeafletScaleControlModel",
     "state": {
      "_model_module": "jupyter-leaflet",
      "_model_module_version": "^0.17",
      "_model_name": "LeafletScaleControlModel",
      "_view_count": null,
      "_view_module": "jupyter-leaflet",
      "_view_module_version": "^0.17",
      "_view_name": "LeafletScaleControlView",
      "imperial": true,
      "max_width": 100,
      "metric": true,
      "options": [
       "imperial",
       "max_width",
       "metric",
       "position",
       "update_when_idle"
      ],
      "position": "bottomleft",
      "update_when_idle": false
     }
    },
    "15961bad754c4a3aa6eb65a68407d8c5": {
     "model_module": "jupyter-leaflet",
     "model_module_version": "^0.17",
     "model_name": "LeafletZoomControlModel",
     "state": {
      "_model_module": "jupyter-leaflet",
      "_model_module_version": "^0.17",
      "_model_name": "LeafletZoomControlModel",
      "_view_count": null,
      "_view_module": "jupyter-leaflet",
      "_view_module_version": "^0.17",
      "_view_name": "LeafletZoomControlView",
      "options": [
       "position",
       "zoom_in_text",
       "zoom_in_title",
       "zoom_out_text",
       "zoom_out_title"
      ],
      "position": "topleft",
      "zoom_in_text": "+",
      "zoom_in_title": "Zoom in",
      "zoom_out_text": "-",
      "zoom_out_title": "Zoom out"
     }
    },
    "16c0af3a21134fe7913e4922b3fcfb6a": {
     "model_module": "jupyter-leaflet",
     "model_module_version": "^0.17",
     "model_name": "LeafletMeasureControlModel",
     "state": {
      "_custom_units": {},
      "_model_module": "jupyter-leaflet",
      "_model_module_version": "^0.17",
      "_model_name": "LeafletMeasureControlModel",
      "_view_count": null,
      "_view_module": "jupyter-leaflet",
      "_view_module_version": "^0.17",
      "_view_name": "LeafletMeasureControlView",
      "active_color": "orange",
      "capture_z_index": 10000,
      "completed_color": "#C8F2BE",
      "options": [
       "active_color",
       "capture_z_index",
       "completed_color",
       "popup_options",
       "position",
       "primary_area_unit",
       "primary_length_unit",
       "secondary_area_unit",
       "secondary_length_unit"
      ],
      "popup_options": {
       "autoPanPadding": [
        10,
        10
       ],
       "className": "leaflet-measure-resultpopup"
      },
      "position": "bottomleft",
      "primary_area_unit": "acres",
      "primary_length_unit": "kilometers",
      "secondary_area_unit": null,
      "secondary_length_unit": null
     }
    },
    "17beb225a5ac4d9cba0033091009871a": {
     "model_module": "jupyter-leaflet",
     "model_module_version": "^0.17",
     "model_name": "LeafletTileLayerModel",
     "state": {
      "_model_module": "jupyter-leaflet",
      "_model_module_version": "^0.17",
      "_model_name": "LeafletTileLayerModel",
      "_view_count": null,
      "_view_module": "jupyter-leaflet",
      "_view_module_version": "^0.17",
      "_view_name": "LeafletTileLayerView",
      "attribution": "Google Earth Engine",
      "base": false,
      "bottom": true,
      "bounds": null,
      "detect_retina": false,
      "loading": false,
      "max_native_zoom": null,
      "max_zoom": 24,
      "min_native_zoom": null,
      "min_zoom": 0,
      "name": "preFire_LVQ",
      "no_wrap": false,
      "opacity": 0.6,
      "options": [
       "attribution",
       "bounds",
       "detect_retina",
       "max_native_zoom",
       "max_zoom",
       "min_native_zoom",
       "min_zoom",
       "no_wrap",
       "tile_size",
       "tms",
       "zoom_offset"
      ],
      "pane": "",
      "popup": null,
      "popup_max_height": null,
      "popup_max_width": 300,
      "popup_min_width": 50,
      "show_loading": false,
      "subitems": [],
      "tile_size": 256,
      "tms": false,
      "url": "https://earthengine.googleapis.com/v1/projects/earthengine-legacy/maps/73fa79222aecf58985424ff521e32311-79cf761dd4d1e8196cfdd9ddfe9eeca3/tiles/{z}/{x}/{y}",
      "visible": true,
      "zoom_offset": 0
     }
    },
    "184260d296ed4dba9deb68a9b71d1ae2": {
     "model_module": "jupyter-leaflet",
     "model_module_version": "^0.17",
     "model_name": "LeafletWidgetControlModel",
     "state": {
      "_model_module": "jupyter-leaflet",
      "_model_module_version": "^0.17",
      "_model_name": "LeafletWidgetControlModel",
      "_view_count": null,
      "_view_module": "jupyter-leaflet",
      "_view_module_version": "^0.17",
      "_view_name": "LeafletWidgetControlView",
      "max_height": null,
      "max_width": null,
      "min_height": null,
      "min_width": null,
      "options": [
       "position",
       "transparent_bg"
      ],
      "position": "topright",
      "transparent_bg": false,
      "widget": "IPY_MODEL_dd21ff1cd54b4749b2db136d2c0bf37d"
     }
    },
    "1a208577de4a4f039ec4399a6074dc15": {
     "model_module": "jupyter-leaflet",
     "model_module_version": "^0.17",
     "model_name": "LeafletMapStyleModel",
     "state": {
      "_model_module": "jupyter-leaflet",
      "_model_module_version": "^0.17",
      "_model_name": "LeafletMapStyleModel",
      "_view_count": null,
      "_view_module": "@jupyter-widgets/base",
      "_view_module_version": "1.2.0",
      "_view_name": "StyleView",
      "cursor": "move"
     }
    },
    "1ac06520db094b78a3f14f62659fc6e3": {
     "model_module": "@jupyter-widgets/controls",
     "model_module_version": "1.5.0",
     "model_name": "DescriptionStyleModel",
     "state": {
      "_model_module": "@jupyter-widgets/controls",
      "_model_module_version": "1.5.0",
      "_model_name": "DescriptionStyleModel",
      "_view_count": null,
      "_view_module": "@jupyter-widgets/base",
      "_view_module_version": "1.2.0",
      "_view_name": "StyleView",
      "description_width": ""
     }
    },
    "1af41199ba5b45abbbff2a03791f8e1d": {
     "model_module": "jupyter-leaflet",
     "model_module_version": "^0.17",
     "model_name": "LeafletTileLayerModel",
     "state": {
      "_model_module": "jupyter-leaflet",
      "_model_module_version": "^0.17",
      "_model_name": "LeafletTileLayerModel",
      "_view_count": null,
      "_view_module": "jupyter-leaflet",
      "_view_module_version": "^0.17",
      "_view_name": "LeafletTileLayerView",
      "attribution": "&copy; <a href=\"https://www.openstreetmap.org/copyright\">OpenStreetMap</a> contributors",
      "base": true,
      "bottom": true,
      "bounds": null,
      "detect_retina": false,
      "loading": false,
      "max_native_zoom": null,
      "max_zoom": 19,
      "min_native_zoom": null,
      "min_zoom": 1,
      "name": "OpenStreetMap.Mapnik",
      "no_wrap": false,
      "opacity": 1,
      "options": [
       "attribution",
       "bounds",
       "detect_retina",
       "max_native_zoom",
       "max_zoom",
       "min_native_zoom",
       "min_zoom",
       "no_wrap",
       "tile_size",
       "tms",
       "zoom_offset"
      ],
      "pane": "",
      "popup": null,
      "popup_max_height": null,
      "popup_max_width": 300,
      "popup_min_width": 50,
      "show_loading": false,
      "subitems": [],
      "tile_size": 256,
      "tms": false,
      "url": "https://tile.openstreetmap.org/{z}/{x}/{y}.png",
      "visible": true,
      "zoom_offset": 0
     }
    },
    "1b3a57ec18ed4b59b5148656d7cc99df": {
     "model_module": "jupyter-leaflet",
     "model_module_version": "^0.17",
     "model_name": "LeafletTileLayerModel",
     "state": {
      "_model_module": "jupyter-leaflet",
      "_model_module_version": "^0.17",
      "_model_name": "LeafletTileLayerModel",
      "_view_count": null,
      "_view_module": "jupyter-leaflet",
      "_view_module_version": "^0.17",
      "_view_name": "LeafletTileLayerView",
      "attribution": "Google Earth Engine",
      "base": false,
      "bottom": true,
      "bounds": null,
      "detect_retina": false,
      "loading": false,
      "max_native_zoom": null,
      "max_zoom": 24,
      "min_native_zoom": null,
      "min_zoom": 0,
      "name": "seeds",
      "no_wrap": false,
      "opacity": 1,
      "options": [
       "attribution",
       "bounds",
       "detect_retina",
       "max_native_zoom",
       "max_zoom",
       "min_native_zoom",
       "min_zoom",
       "no_wrap",
       "tile_size",
       "tms",
       "zoom_offset"
      ],
      "pane": "",
      "popup": null,
      "popup_max_height": null,
      "popup_max_width": 300,
      "popup_min_width": 50,
      "show_loading": false,
      "subitems": [],
      "tile_size": 256,
      "tms": false,
      "url": "https://earthengine.googleapis.com/v1/projects/earthengine-legacy/maps/e20ea0f813a3bafadfbbc519e525bc19-292ef477a741cc0e6c61371e68fefea5/tiles/{z}/{x}/{y}",
      "visible": true,
      "zoom_offset": 0
     }
    },
    "1ff4248465f9472b9cd66b196204473d": {
     "model_module": "@jupyter-widgets/base",
     "model_module_version": "1.2.0",
     "model_name": "LayoutModel",
     "state": {
      "_model_module": "@jupyter-widgets/base",
      "_model_module_version": "1.2.0",
      "_model_name": "LayoutModel",
      "_view_count": null,
      "_view_module": "@jupyter-widgets/base",
      "_view_module_version": "1.2.0",
      "_view_name": "LayoutView",
      "align_content": null,
      "align_items": null,
      "align_self": null,
      "border": null,
      "bottom": null,
      "display": null,
      "flex": null,
      "flex_flow": null,
      "grid_area": null,
      "grid_auto_columns": null,
      "grid_auto_flow": null,
      "grid_auto_rows": null,
      "grid_column": null,
      "grid_gap": null,
      "grid_row": null,
      "grid_template_areas": null,
      "grid_template_columns": null,
      "grid_template_rows": null,
      "height": null,
      "justify_content": null,
      "justify_items": null,
      "left": null,
      "margin": null,
      "max_height": null,
      "max_width": null,
      "min_height": null,
      "min_width": null,
      "object_fit": null,
      "object_position": null,
      "order": null,
      "overflow": null,
      "overflow_x": null,
      "overflow_y": null,
      "padding": null,
      "right": null,
      "top": null,
      "visibility": null,
      "width": null
     }
    },
    "2130b214c6224a57b2a2bfbbcc3d7165": {
     "model_module": "jupyter-leaflet",
     "model_module_version": "^0.17",
     "model_name": "LeafletFullScreenControlModel",
     "state": {
      "_model_module": "jupyter-leaflet",
      "_model_module_version": "^0.17",
      "_model_name": "LeafletFullScreenControlModel",
      "_view_count": null,
      "_view_module": "jupyter-leaflet",
      "_view_module_version": "^0.17",
      "_view_name": "LeafletFullScreenControlView",
      "options": [
       "position"
      ],
      "position": "topleft"
     }
    },
    "22bdb65ef4b2441aa96b3fb506fbf5fb": {
     "model_module": "jupyter-leaflet",
     "model_module_version": "^0.17",
     "model_name": "LeafletTileLayerModel",
     "state": {
      "_model_module": "jupyter-leaflet",
      "_model_module_version": "^0.17",
      "_model_name": "LeafletTileLayerModel",
      "_view_count": null,
      "_view_module": "jupyter-leaflet",
      "_view_module_version": "^0.17",
      "_view_name": "LeafletTileLayerView",
      "attribution": "Google Earth Engine",
      "base": false,
      "bottom": true,
      "bounds": null,
      "detect_retina": false,
      "loading": false,
      "max_native_zoom": null,
      "max_zoom": 24,
      "min_native_zoom": null,
      "min_zoom": 0,
      "name": "postFire",
      "no_wrap": false,
      "opacity": 1,
      "options": [
       "attribution",
       "bounds",
       "detect_retina",
       "max_native_zoom",
       "max_zoom",
       "min_native_zoom",
       "min_zoom",
       "no_wrap",
       "tile_size",
       "tms",
       "zoom_offset"
      ],
      "pane": "",
      "popup": null,
      "popup_max_height": null,
      "popup_max_width": 300,
      "popup_min_width": 50,
      "show_loading": false,
      "subitems": [],
      "tile_size": 256,
      "tms": false,
      "url": "https://earthengine.googleapis.com/v1/projects/earthengine-legacy/maps/c95e7191e3ff1205d75bd82275793ef1-86ed04f3fa3d85b2bf88f84d6a142723/tiles/{z}/{x}/{y}",
      "visible": true,
      "zoom_offset": 0
     }
    },
    "22ffcab190254dc58c3dc2a3ae77de40": {
     "model_module": "jupyter-leaflet",
     "model_module_version": "^0.17",
     "model_name": "LeafletLayersControlModel",
     "state": {
      "_model_module": "jupyter-leaflet",
      "_model_module_version": "^0.17",
      "_model_name": "LeafletLayersControlModel",
      "_view_count": null,
      "_view_module": "jupyter-leaflet",
      "_view_module_version": "^0.17",
      "_view_name": "LeafletLayersControlView",
      "options": [
       "position"
      ],
      "position": "topright"
     }
    },
    "23153677e13e4e5b8071f96cfb1b8aee": {
     "model_module": "jupyter-leaflet",
     "model_module_version": "^0.17",
     "model_name": "LeafletScaleControlModel",
     "state": {
      "_model_module": "jupyter-leaflet",
      "_model_module_version": "^0.17",
      "_model_name": "LeafletScaleControlModel",
      "_view_count": null,
      "_view_module": "jupyter-leaflet",
      "_view_module_version": "^0.17",
      "_view_name": "LeafletScaleControlView",
      "imperial": true,
      "max_width": 100,
      "metric": true,
      "options": [
       "imperial",
       "max_width",
       "metric",
       "position",
       "update_when_idle"
      ],
      "position": "bottomleft",
      "update_when_idle": false
     }
    },
    "24f7740b7fae446fa3e53920c4c9da13": {
     "model_module": "@jupyter-widgets/controls",
     "model_module_version": "1.5.0",
     "model_name": "DescriptionStyleModel",
     "state": {
      "_model_module": "@jupyter-widgets/controls",
      "_model_module_version": "1.5.0",
      "_model_name": "DescriptionStyleModel",
      "_view_count": null,
      "_view_module": "@jupyter-widgets/base",
      "_view_module_version": "1.2.0",
      "_view_name": "StyleView",
      "description_width": ""
     }
    },
    "2500750a99a64621a026acbbfd16755d": {
     "model_module": "jupyter-leaflet",
     "model_module_version": "^0.17",
     "model_name": "LeafletDrawControlModel",
     "state": {
      "_model_module": "jupyter-leaflet",
      "_model_module_version": "^0.17",
      "_model_name": "LeafletDrawControlModel",
      "_view_count": null,
      "_view_module": "jupyter-leaflet",
      "_view_module_version": "^0.17",
      "_view_name": "LeafletDrawControlView",
      "circle": {},
      "circlemarker": {},
      "data": [],
      "edit": true,
      "marker": {
       "shapeOptions": {
        "color": "#3388ff"
       }
      },
      "options": [
       "position"
      ],
      "polygon": {
       "shapeOptions": {}
      },
      "polyline": {
       "shapeOptions": {}
      },
      "position": "topleft",
      "rectangle": {
       "shapeOptions": {
        "color": "#3388ff"
       }
      },
      "remove": true
     }
    },
    "260db86ef09b4913855150c21cff9749": {
     "model_module": "@jupyter-widgets/base",
     "model_module_version": "1.2.0",
     "model_name": "LayoutModel",
     "state": {
      "_model_module": "@jupyter-widgets/base",
      "_model_module_version": "1.2.0",
      "_model_name": "LayoutModel",
      "_view_count": null,
      "_view_module": "@jupyter-widgets/base",
      "_view_module_version": "1.2.0",
      "_view_name": "LayoutView",
      "align_content": null,
      "align_items": null,
      "align_self": null,
      "border": null,
      "bottom": null,
      "display": null,
      "flex": null,
      "flex_flow": null,
      "grid_area": null,
      "grid_auto_columns": null,
      "grid_auto_flow": null,
      "grid_auto_rows": null,
      "grid_column": null,
      "grid_gap": null,
      "grid_row": null,
      "grid_template_areas": null,
      "grid_template_columns": null,
      "grid_template_rows": null,
      "height": "600px",
      "justify_content": null,
      "justify_items": null,
      "left": null,
      "margin": null,
      "max_height": null,
      "max_width": null,
      "min_height": null,
      "min_width": null,
      "object_fit": null,
      "object_position": null,
      "order": null,
      "overflow": null,
      "overflow_x": null,
      "overflow_y": null,
      "padding": null,
      "right": null,
      "top": null,
      "visibility": null,
      "width": null
     }
    },
    "27c6e091a5f94bfb88b2d60672ca717e": {
     "model_module": "jupyter-leaflet",
     "model_module_version": "^0.17",
     "model_name": "LeafletTileLayerModel",
     "state": {
      "_model_module": "jupyter-leaflet",
      "_model_module_version": "^0.17",
      "_model_name": "LeafletTileLayerModel",
      "_view_count": null,
      "_view_module": "jupyter-leaflet",
      "_view_module_version": "^0.17",
      "_view_name": "LeafletTileLayerView",
      "attribution": "Google Earth Engine",
      "base": false,
      "bottom": true,
      "bounds": null,
      "detect_retina": false,
      "loading": false,
      "max_native_zoom": null,
      "max_zoom": 24,
      "min_native_zoom": null,
      "min_zoom": 0,
      "name": "Canny",
      "no_wrap": false,
      "opacity": 1,
      "options": [
       "attribution",
       "bounds",
       "detect_retina",
       "max_native_zoom",
       "max_zoom",
       "min_native_zoom",
       "min_zoom",
       "no_wrap",
       "tile_size",
       "tms",
       "zoom_offset"
      ],
      "pane": "",
      "popup": null,
      "popup_max_height": null,
      "popup_max_width": 300,
      "popup_min_width": 50,
      "show_loading": false,
      "subitems": [],
      "tile_size": 256,
      "tms": false,
      "url": "https://earthengine.googleapis.com/v1/projects/earthengine-legacy/maps/7143d6949f6f2f47c04355c0202ad24c-15a861570570753e88b4cbf3047dbde6/tiles/{z}/{x}/{y}",
      "visible": true,
      "zoom_offset": 0
     }
    },
    "291446d71f8d49f99a018f0b0853311f": {
     "model_module": "@jupyter-widgets/controls",
     "model_module_version": "1.5.0",
     "model_name": "DescriptionStyleModel",
     "state": {
      "_model_module": "@jupyter-widgets/controls",
      "_model_module_version": "1.5.0",
      "_model_name": "DescriptionStyleModel",
      "_view_count": null,
      "_view_module": "@jupyter-widgets/base",
      "_view_module_version": "1.2.0",
      "_view_name": "StyleView",
      "description_width": ""
     }
    },
    "294958c9b32b4c3db86884456d9e2c6a": {
     "model_module": "jupyter-leaflet",
     "model_module_version": "^0.17",
     "model_name": "LeafletTileLayerModel",
     "state": {
      "_model_module": "jupyter-leaflet",
      "_model_module_version": "^0.17",
      "_model_name": "LeafletTileLayerModel",
      "_view_count": null,
      "_view_module": "jupyter-leaflet",
      "_view_module_version": "^0.17",
      "_view_name": "LeafletTileLayerView",
      "attribution": "Google Earth Engine",
      "base": false,
      "bottom": true,
      "bounds": null,
      "detect_retina": false,
      "loading": false,
      "max_native_zoom": null,
      "max_zoom": 24,
      "min_native_zoom": null,
      "min_zoom": 0,
      "name": "training",
      "no_wrap": false,
      "opacity": 0.4,
      "options": [
       "attribution",
       "bounds",
       "detect_retina",
       "max_native_zoom",
       "max_zoom",
       "min_native_zoom",
       "min_zoom",
       "no_wrap",
       "tile_size",
       "tms",
       "zoom_offset"
      ],
      "pane": "",
      "popup": null,
      "popup_max_height": null,
      "popup_max_width": 300,
      "popup_min_width": 50,
      "show_loading": false,
      "subitems": [],
      "tile_size": 256,
      "tms": false,
      "url": "https://earthengine.googleapis.com/v1/projects/earthengine-legacy/maps/e56d80250a2a003cc19318760402a01e-f956b48d2e64425699bfd30078b545b4/tiles/{z}/{x}/{y}",
      "visible": true,
      "zoom_offset": 0
     }
    },
    "2a070909070c473fa0d835b719f13d8d": {
     "model_module": "jupyter-leaflet",
     "model_module_version": "^0.17",
     "model_name": "LeafletScaleControlModel",
     "state": {
      "_model_module": "jupyter-leaflet",
      "_model_module_version": "^0.17",
      "_model_name": "LeafletScaleControlModel",
      "_view_count": null,
      "_view_module": "jupyter-leaflet",
      "_view_module_version": "^0.17",
      "_view_name": "LeafletScaleControlView",
      "imperial": true,
      "max_width": 100,
      "metric": true,
      "options": [
       "imperial",
       "max_width",
       "metric",
       "position",
       "update_when_idle"
      ],
      "position": "bottomleft",
      "update_when_idle": false
     }
    },
    "2b9169728d3c40258395f1459fab83fa": {
     "model_module": "jupyter-leaflet",
     "model_module_version": "^0.17",
     "model_name": "LeafletMapStyleModel",
     "state": {
      "_model_module": "jupyter-leaflet",
      "_model_module_version": "^0.17",
      "_model_name": "LeafletMapStyleModel",
      "_view_count": null,
      "_view_module": "@jupyter-widgets/base",
      "_view_module_version": "1.2.0",
      "_view_name": "StyleView",
      "cursor": "grab"
     }
    },
    "2e509ecb52904d1bb228fba441183a6d": {
     "model_module": "@jupyter-widgets/controls",
     "model_module_version": "1.5.0",
     "model_name": "DescriptionStyleModel",
     "state": {
      "_model_module": "@jupyter-widgets/controls",
      "_model_module_version": "1.5.0",
      "_model_name": "DescriptionStyleModel",
      "_view_count": null,
      "_view_module": "@jupyter-widgets/base",
      "_view_module_version": "1.2.0",
      "_view_name": "StyleView",
      "description_width": ""
     }
    },
    "2eb10eafe059411c8df5e277026bfc82": {
     "model_module": "jupyter-leaflet",
     "model_module_version": "^0.17",
     "model_name": "LeafletDrawControlModel",
     "state": {
      "_model_module": "jupyter-leaflet",
      "_model_module_version": "^0.17",
      "_model_name": "LeafletDrawControlModel",
      "_view_count": null,
      "_view_module": "jupyter-leaflet",
      "_view_module_version": "^0.17",
      "_view_name": "LeafletDrawControlView",
      "circle": {},
      "circlemarker": {},
      "data": [],
      "edit": true,
      "marker": {
       "shapeOptions": {
        "color": "#3388ff"
       }
      },
      "options": [
       "position"
      ],
      "polygon": {
       "shapeOptions": {}
      },
      "polyline": {
       "shapeOptions": {}
      },
      "position": "topleft",
      "rectangle": {
       "shapeOptions": {
        "color": "#3388ff"
       }
      },
      "remove": true
     }
    },
    "30a1c09c50d84c44bd59adde18199bb7": {
     "model_module": "@jupyter-widgets/controls",
     "model_module_version": "1.5.0",
     "model_name": "DescriptionStyleModel",
     "state": {
      "_model_module": "@jupyter-widgets/controls",
      "_model_module_version": "1.5.0",
      "_model_name": "DescriptionStyleModel",
      "_view_count": null,
      "_view_module": "@jupyter-widgets/base",
      "_view_module_version": "1.2.0",
      "_view_name": "StyleView",
      "description_width": ""
     }
    },
    "32718714ea854064a9ff0dfc0bbdf3d9": {
     "model_module": "@jupyter-widgets/base",
     "model_module_version": "1.2.0",
     "model_name": "LayoutModel",
     "state": {
      "_model_module": "@jupyter-widgets/base",
      "_model_module_version": "1.2.0",
      "_model_name": "LayoutModel",
      "_view_count": null,
      "_view_module": "@jupyter-widgets/base",
      "_view_module_version": "1.2.0",
      "_view_name": "LayoutView",
      "align_content": null,
      "align_items": null,
      "align_self": null,
      "border": null,
      "bottom": null,
      "display": null,
      "flex": null,
      "flex_flow": null,
      "grid_area": null,
      "grid_auto_columns": null,
      "grid_auto_flow": null,
      "grid_auto_rows": null,
      "grid_column": null,
      "grid_gap": null,
      "grid_row": null,
      "grid_template_areas": null,
      "grid_template_columns": null,
      "grid_template_rows": null,
      "height": "600px",
      "justify_content": null,
      "justify_items": null,
      "left": null,
      "margin": null,
      "max_height": null,
      "max_width": null,
      "min_height": null,
      "min_width": null,
      "object_fit": null,
      "object_position": null,
      "order": null,
      "overflow": null,
      "overflow_x": null,
      "overflow_y": null,
      "padding": null,
      "right": null,
      "top": null,
      "visibility": null,
      "width": null
     }
    },
    "32f8617932db4f3da9d0c34577e004fc": {
     "model_module": "@jupyter-widgets/base",
     "model_module_version": "1.2.0",
     "model_name": "LayoutModel",
     "state": {
      "_model_module": "@jupyter-widgets/base",
      "_model_module_version": "1.2.0",
      "_model_name": "LayoutModel",
      "_view_count": null,
      "_view_module": "@jupyter-widgets/base",
      "_view_module_version": "1.2.0",
      "_view_name": "LayoutView",
      "align_content": null,
      "align_items": null,
      "align_self": null,
      "border": null,
      "bottom": null,
      "display": null,
      "flex": null,
      "flex_flow": null,
      "grid_area": null,
      "grid_auto_columns": null,
      "grid_auto_flow": null,
      "grid_auto_rows": null,
      "grid_column": null,
      "grid_gap": null,
      "grid_row": null,
      "grid_template_areas": null,
      "grid_template_columns": null,
      "grid_template_rows": null,
      "height": "28px",
      "justify_content": null,
      "justify_items": null,
      "left": null,
      "margin": null,
      "max_height": null,
      "max_width": null,
      "min_height": null,
      "min_width": null,
      "object_fit": null,
      "object_position": null,
      "order": null,
      "overflow": null,
      "overflow_x": null,
      "overflow_y": null,
      "padding": "0px 0px 0px 4px",
      "right": null,
      "top": null,
      "visibility": null,
      "width": "28px"
     }
    },
    "3392c398b1c84d59bb57357561225bc3": {
     "model_module": "jupyter-leaflet",
     "model_module_version": "^0.17",
     "model_name": "LeafletWidgetControlModel",
     "state": {
      "_model_module": "jupyter-leaflet",
      "_model_module_version": "^0.17",
      "_model_name": "LeafletWidgetControlModel",
      "_view_count": null,
      "_view_module": "jupyter-leaflet",
      "_view_module_version": "^0.17",
      "_view_name": "LeafletWidgetControlView",
      "max_height": null,
      "max_width": null,
      "min_height": null,
      "min_width": null,
      "options": [
       "position",
       "transparent_bg"
      ],
      "position": "topright",
      "transparent_bg": false,
      "widget": "IPY_MODEL_5f50c9cc01614e2fa681b06b1ec52338"
     }
    },
    "33cdc93958fb413fb141dce1c690d328": {
     "model_module": "jupyter-leaflet",
     "model_module_version": "^0.17",
     "model_name": "LeafletTileLayerModel",
     "state": {
      "_model_module": "jupyter-leaflet",
      "_model_module_version": "^0.17",
      "_model_name": "LeafletTileLayerModel",
      "_view_count": null,
      "_view_module": "jupyter-leaflet",
      "_view_module_version": "^0.17",
      "_view_name": "LeafletTileLayerView",
      "attribution": "Google Earth Engine",
      "base": false,
      "bottom": true,
      "bounds": null,
      "detect_retina": false,
      "loading": false,
      "max_native_zoom": null,
      "max_zoom": 24,
      "min_native_zoom": null,
      "min_zoom": 0,
      "name": "BSI",
      "no_wrap": false,
      "opacity": 1,
      "options": [
       "attribution",
       "bounds",
       "detect_retina",
       "max_native_zoom",
       "max_zoom",
       "min_native_zoom",
       "min_zoom",
       "no_wrap",
       "tile_size",
       "tms",
       "zoom_offset"
      ],
      "pane": "",
      "popup": null,
      "popup_max_height": null,
      "popup_max_width": 300,
      "popup_min_width": 50,
      "show_loading": false,
      "subitems": [],
      "tile_size": 256,
      "tms": false,
      "url": "https://earthengine.googleapis.com/v1/projects/earthengine-legacy/maps/0be5e1b73ae2dbf58cbf0a9323dead74-9b70096bd4a6ffe6da8bcea74e38329d/tiles/{z}/{x}/{y}",
      "visible": true,
      "zoom_offset": 0
     }
    },
    "354d8bf836914d3a9de6e4f79aaa4881": {
     "model_module": "jupyter-leaflet",
     "model_module_version": "^0.17",
     "model_name": "LeafletTileLayerModel",
     "state": {
      "_model_module": "jupyter-leaflet",
      "_model_module_version": "^0.17",
      "_model_name": "LeafletTileLayerModel",
      "_view_count": null,
      "_view_module": "jupyter-leaflet",
      "_view_module_version": "^0.17",
      "_view_name": "LeafletTileLayerView",
      "attribution": "Google Earth Engine",
      "base": false,
      "bottom": true,
      "bounds": null,
      "detect_retina": false,
      "loading": false,
      "max_native_zoom": null,
      "max_zoom": 24,
      "min_native_zoom": null,
      "min_zoom": 0,
      "name": "SI",
      "no_wrap": false,
      "opacity": 1,
      "options": [
       "attribution",
       "bounds",
       "detect_retina",
       "max_native_zoom",
       "max_zoom",
       "min_native_zoom",
       "min_zoom",
       "no_wrap",
       "tile_size",
       "tms",
       "zoom_offset"
      ],
      "pane": "",
      "popup": null,
      "popup_max_height": null,
      "popup_max_width": 300,
      "popup_min_width": 50,
      "show_loading": false,
      "subitems": [],
      "tile_size": 256,
      "tms": false,
      "url": "https://earthengine.googleapis.com/v1/projects/earthengine-legacy/maps/091193c9aa87d05f55eac606f48dd095-73e46d5e08b67108805c9d2b8d53f314/tiles/{z}/{x}/{y}",
      "visible": true,
      "zoom_offset": 0
     }
    },
    "358d821af7ee4ab59f4c6d14078d5801": {
     "model_module": "jupyter-leaflet",
     "model_module_version": "^0.17",
     "model_name": "LeafletTileLayerModel",
     "state": {
      "_model_module": "jupyter-leaflet",
      "_model_module_version": "^0.17",
      "_model_name": "LeafletTileLayerModel",
      "_view_count": null,
      "_view_module": "jupyter-leaflet",
      "_view_module_version": "^0.17",
      "_view_name": "LeafletTileLayerView",
      "attribution": "Google Earth Engine",
      "base": false,
      "bottom": true,
      "bounds": null,
      "detect_retina": false,
      "loading": false,
      "max_native_zoom": null,
      "max_zoom": 24,
      "min_native_zoom": null,
      "min_zoom": 0,
      "name": "NDVI",
      "no_wrap": false,
      "opacity": 1,
      "options": [
       "attribution",
       "bounds",
       "detect_retina",
       "max_native_zoom",
       "max_zoom",
       "min_native_zoom",
       "min_zoom",
       "no_wrap",
       "tile_size",
       "tms",
       "zoom_offset"
      ],
      "pane": "",
      "popup": null,
      "popup_max_height": null,
      "popup_max_width": 300,
      "popup_min_width": 50,
      "show_loading": false,
      "subitems": [],
      "tile_size": 256,
      "tms": false,
      "url": "https://earthengine.googleapis.com/v1/projects/earthengine-legacy/maps/5e965d6165e6cc0c3bb82a0d4b3adfd0-78e03cf709016f9bd08800498a747331/tiles/{z}/{x}/{y}",
      "visible": true,
      "zoom_offset": 0
     }
    },
    "36dbeb7b553c4ff5a97c5715dec8adf2": {
     "model_module": "@jupyter-widgets/base",
     "model_module_version": "1.2.0",
     "model_name": "LayoutModel",
     "state": {
      "_model_module": "@jupyter-widgets/base",
      "_model_module_version": "1.2.0",
      "_model_name": "LayoutModel",
      "_view_count": null,
      "_view_module": "@jupyter-widgets/base",
      "_view_module_version": "1.2.0",
      "_view_name": "LayoutView",
      "align_content": null,
      "align_items": null,
      "align_self": null,
      "border": null,
      "bottom": null,
      "display": null,
      "flex": null,
      "flex_flow": null,
      "grid_area": null,
      "grid_auto_columns": null,
      "grid_auto_flow": null,
      "grid_auto_rows": null,
      "grid_column": null,
      "grid_gap": null,
      "grid_row": null,
      "grid_template_areas": null,
      "grid_template_columns": null,
      "grid_template_rows": null,
      "height": "600px",
      "justify_content": null,
      "justify_items": null,
      "left": null,
      "margin": null,
      "max_height": null,
      "max_width": null,
      "min_height": null,
      "min_width": null,
      "object_fit": null,
      "object_position": null,
      "order": null,
      "overflow": null,
      "overflow_x": null,
      "overflow_y": null,
      "padding": null,
      "right": null,
      "top": null,
      "visibility": null,
      "width": null
     }
    },
    "36e85a2332354f538d3c2b264948d0cc": {
     "model_module": "@jupyter-widgets/controls",
     "model_module_version": "1.5.0",
     "model_name": "HBoxModel",
     "state": {
      "_dom_classes": [],
      "_model_module": "@jupyter-widgets/controls",
      "_model_module_version": "1.5.0",
      "_model_name": "HBoxModel",
      "_view_count": null,
      "_view_module": "@jupyter-widgets/controls",
      "_view_module_version": "1.5.0",
      "_view_name": "HBoxView",
      "box_style": "",
      "children": [
       "IPY_MODEL_afb11b52121143768eda9b78b6fee94f"
      ],
      "layout": "IPY_MODEL_633098e41af148b2bbb42d26bc6075b6"
     }
    },
    "37261ce186f14928a098f87573e91231": {
     "model_module": "@jupyter-widgets/controls",
     "model_module_version": "1.5.0",
     "model_name": "DescriptionStyleModel",
     "state": {
      "_model_module": "@jupyter-widgets/controls",
      "_model_module_version": "1.5.0",
      "_model_name": "DescriptionStyleModel",
      "_view_count": null,
      "_view_module": "@jupyter-widgets/base",
      "_view_module_version": "1.2.0",
      "_view_name": "StyleView",
      "description_width": ""
     }
    },
    "3768442ae4ba46c58a84809a4442e9d7": {
     "model_module": "jupyter-leaflet",
     "model_module_version": "^0.17",
     "model_name": "LeafletMeasureControlModel",
     "state": {
      "_custom_units": {},
      "_model_module": "jupyter-leaflet",
      "_model_module_version": "^0.17",
      "_model_name": "LeafletMeasureControlModel",
      "_view_count": null,
      "_view_module": "jupyter-leaflet",
      "_view_module_version": "^0.17",
      "_view_name": "LeafletMeasureControlView",
      "active_color": "orange",
      "capture_z_index": 10000,
      "completed_color": "#C8F2BE",
      "options": [
       "active_color",
       "capture_z_index",
       "completed_color",
       "popup_options",
       "position",
       "primary_area_unit",
       "primary_length_unit",
       "secondary_area_unit",
       "secondary_length_unit"
      ],
      "popup_options": {
       "autoPanPadding": [
        10,
        10
       ],
       "className": "leaflet-measure-resultpopup"
      },
      "position": "bottomleft",
      "primary_area_unit": "acres",
      "primary_length_unit": "kilometers",
      "secondary_area_unit": null,
      "secondary_length_unit": null
     }
    },
    "3bb0060a696848f0b4576634b1d80f67": {
     "model_module": "jupyter-leaflet",
     "model_module_version": "^0.17",
     "model_name": "LeafletTileLayerModel",
     "state": {
      "_model_module": "jupyter-leaflet",
      "_model_module_version": "^0.17",
      "_model_name": "LeafletTileLayerModel",
      "_view_count": null,
      "_view_module": "jupyter-leaflet",
      "_view_module_version": "^0.17",
      "_view_name": "LeafletTileLayerView",
      "attribution": "Google Earth Engine",
      "base": false,
      "bottom": true,
      "bounds": null,
      "detect_retina": false,
      "loading": false,
      "max_native_zoom": null,
      "max_zoom": 24,
      "min_native_zoom": null,
      "min_zoom": 0,
      "name": "bound",
      "no_wrap": false,
      "opacity": 0.4,
      "options": [
       "attribution",
       "bounds",
       "detect_retina",
       "max_native_zoom",
       "max_zoom",
       "min_native_zoom",
       "min_zoom",
       "no_wrap",
       "tile_size",
       "tms",
       "zoom_offset"
      ],
      "pane": "",
      "popup": null,
      "popup_max_height": null,
      "popup_max_width": 300,
      "popup_min_width": 50,
      "show_loading": false,
      "subitems": [],
      "tile_size": 256,
      "tms": false,
      "url": "https://earthengine.googleapis.com/v1/projects/earthengine-legacy/maps/53aefd43327f09326a41cc49daf22514-77eaaa69c8a8bfa49870d690a408d7e6/tiles/{z}/{x}/{y}",
      "visible": true,
      "zoom_offset": 0
     }
    },
    "3bf0e4b07e344295accf1ab93aaed7d4": {
     "model_module": "@jupyter-widgets/base",
     "model_module_version": "1.2.0",
     "model_name": "LayoutModel",
     "state": {
      "_model_module": "@jupyter-widgets/base",
      "_model_module_version": "1.2.0",
      "_model_name": "LayoutModel",
      "_view_count": null,
      "_view_module": "@jupyter-widgets/base",
      "_view_module_version": "1.2.0",
      "_view_name": "LayoutView",
      "align_content": null,
      "align_items": null,
      "align_self": null,
      "border": null,
      "bottom": null,
      "display": null,
      "flex": null,
      "flex_flow": null,
      "grid_area": null,
      "grid_auto_columns": null,
      "grid_auto_flow": null,
      "grid_auto_rows": null,
      "grid_column": null,
      "grid_gap": null,
      "grid_row": null,
      "grid_template_areas": null,
      "grid_template_columns": null,
      "grid_template_rows": null,
      "height": "28px",
      "justify_content": null,
      "justify_items": null,
      "left": null,
      "margin": null,
      "max_height": null,
      "max_width": null,
      "min_height": null,
      "min_width": null,
      "object_fit": null,
      "object_position": null,
      "order": null,
      "overflow": null,
      "overflow_x": null,
      "overflow_y": null,
      "padding": "0px 0px 0px 4px",
      "right": null,
      "top": null,
      "visibility": null,
      "width": "28px"
     }
    },
    "42535f653ee94ea9a2a9fb65fc5e34d8": {
     "model_module": "jupyter-leaflet",
     "model_module_version": "^0.17",
     "model_name": "LeafletMapStyleModel",
     "state": {
      "_model_module": "jupyter-leaflet",
      "_model_module_version": "^0.17",
      "_model_name": "LeafletMapStyleModel",
      "_view_count": null,
      "_view_module": "@jupyter-widgets/base",
      "_view_module_version": "1.2.0",
      "_view_name": "StyleView",
      "cursor": "grab"
     }
    },
    "456038505ca3480d8482c5c1627c99aa": {
     "model_module": "jupyter-leaflet",
     "model_module_version": "^0.17",
     "model_name": "LeafletFullScreenControlModel",
     "state": {
      "_model_module": "jupyter-leaflet",
      "_model_module_version": "^0.17",
      "_model_name": "LeafletFullScreenControlModel",
      "_view_count": null,
      "_view_module": "jupyter-leaflet",
      "_view_module_version": "^0.17",
      "_view_name": "LeafletFullScreenControlView",
      "options": [
       "position"
      ],
      "position": "topleft"
     }
    },
    "4575d0f888324041b33f82445de66c39": {
     "model_module": "jupyter-leaflet",
     "model_module_version": "^0.17",
     "model_name": "LeafletFullScreenControlModel",
     "state": {
      "_model_module": "jupyter-leaflet",
      "_model_module_version": "^0.17",
      "_model_name": "LeafletFullScreenControlModel",
      "_view_count": null,
      "_view_module": "jupyter-leaflet",
      "_view_module_version": "^0.17",
      "_view_name": "LeafletFullScreenControlView",
      "options": [
       "position"
      ],
      "position": "topleft"
     }
    },
    "4775108a018d4acfa81597b8861a1e4a": {
     "model_module": "jupyter-leaflet",
     "model_module_version": "^0.17",
     "model_name": "LeafletMapStyleModel",
     "state": {
      "_model_module": "jupyter-leaflet",
      "_model_module_version": "^0.17",
      "_model_name": "LeafletMapStyleModel",
      "_view_count": null,
      "_view_module": "@jupyter-widgets/base",
      "_view_module_version": "1.2.0",
      "_view_name": "StyleView",
      "cursor": "grab"
     }
    },
    "494797fb77ad47ccac72c1c596758b8e": {
     "model_module": "jupyter-leaflet",
     "model_module_version": "^0.17",
     "model_name": "LeafletTileLayerModel",
     "state": {
      "_model_module": "jupyter-leaflet",
      "_model_module_version": "^0.17",
      "_model_name": "LeafletTileLayerModel",
      "_view_count": null,
      "_view_module": "jupyter-leaflet",
      "_view_module_version": "^0.17",
      "_view_name": "LeafletTileLayerView",
      "attribution": "Google Earth Engine",
      "base": false,
      "bottom": true,
      "bounds": null,
      "detect_retina": false,
      "loading": false,
      "max_native_zoom": null,
      "max_zoom": 24,
      "min_native_zoom": null,
      "min_zoom": 0,
      "name": "pre_clusters",
      "no_wrap": false,
      "opacity": 0.6,
      "options": [
       "attribution",
       "bounds",
       "detect_retina",
       "max_native_zoom",
       "max_zoom",
       "min_native_zoom",
       "min_zoom",
       "no_wrap",
       "tile_size",
       "tms",
       "zoom_offset"
      ],
      "pane": "",
      "popup": null,
      "popup_max_height": null,
      "popup_max_width": 300,
      "popup_min_width": 50,
      "show_loading": false,
      "subitems": [],
      "tile_size": 256,
      "tms": false,
      "url": "https://earthengine.googleapis.com/v1/projects/earthengine-legacy/maps/7790759e4c3fc1f612fe4aeef83a214b-7e39b1c78fac4f79ba7663124b0cca6b/tiles/{z}/{x}/{y}",
      "visible": true,
      "zoom_offset": 0
     }
    },
    "498aac1c478d44db9b96c5eb0f7ae40e": {
     "model_module": "jupyter-leaflet",
     "model_module_version": "^0.17",
     "model_name": "LeafletAttributionControlModel",
     "state": {
      "_model_module": "jupyter-leaflet",
      "_model_module_version": "^0.17",
      "_model_name": "LeafletAttributionControlModel",
      "_view_count": null,
      "_view_module": "jupyter-leaflet",
      "_view_module_version": "^0.17",
      "_view_name": "LeafletAttributionControlView",
      "options": [
       "position",
       "prefix"
      ],
      "position": "bottomright",
      "prefix": "ipyleaflet"
     }
    },
    "499687036bb4491bb6bc15746d3c1448": {
     "model_module": "jupyter-leaflet",
     "model_module_version": "^0.17",
     "model_name": "LeafletTileLayerModel",
     "state": {
      "_model_module": "jupyter-leaflet",
      "_model_module_version": "^0.17",
      "_model_name": "LeafletTileLayerModel",
      "_view_count": null,
      "_view_module": "jupyter-leaflet",
      "_view_module_version": "^0.17",
      "_view_name": "LeafletTileLayerView",
      "attribution": "Google Earth Engine",
      "base": false,
      "bottom": true,
      "bounds": null,
      "detect_retina": false,
      "loading": false,
      "max_native_zoom": null,
      "max_zoom": 24,
      "min_native_zoom": null,
      "min_zoom": 0,
      "name": " PreFire",
      "no_wrap": false,
      "opacity": 1,
      "options": [
       "attribution",
       "bounds",
       "detect_retina",
       "max_native_zoom",
       "max_zoom",
       "min_native_zoom",
       "min_zoom",
       "no_wrap",
       "tile_size",
       "tms",
       "zoom_offset"
      ],
      "pane": "",
      "popup": null,
      "popup_max_height": null,
      "popup_max_width": 300,
      "popup_min_width": 50,
      "show_loading": false,
      "subitems": [],
      "tile_size": 256,
      "tms": false,
      "url": "https://earthengine.googleapis.com/v1/projects/earthengine-legacy/maps/0d5167ec6e67c4ac8349250e65e2db0b-b93559fcc1fe4d5a15ad8eb0bf80b286/tiles/{z}/{x}/{y}",
      "visible": true,
      "zoom_offset": 0
     }
    },
    "4c6e4711d4ef4720ad050408b09c4221": {
     "model_module": "jupyter-leaflet",
     "model_module_version": "^0.17",
     "model_name": "LeafletTileLayerModel",
     "state": {
      "_model_module": "jupyter-leaflet",
      "_model_module_version": "^0.17",
      "_model_name": "LeafletTileLayerModel",
      "_view_count": null,
      "_view_module": "jupyter-leaflet",
      "_view_module_version": "^0.17",
      "_view_name": "LeafletTileLayerView",
      "attribution": "Google Earth Engine",
      "base": false,
      "bottom": true,
      "bounds": null,
      "detect_retina": false,
      "loading": false,
      "max_native_zoom": null,
      "max_zoom": 24,
      "min_native_zoom": null,
      "min_zoom": 0,
      "name": "train",
      "no_wrap": false,
      "opacity": 1,
      "options": [
       "attribution",
       "bounds",
       "detect_retina",
       "max_native_zoom",
       "max_zoom",
       "min_native_zoom",
       "min_zoom",
       "no_wrap",
       "tile_size",
       "tms",
       "zoom_offset"
      ],
      "pane": "",
      "popup": null,
      "popup_max_height": null,
      "popup_max_width": 300,
      "popup_min_width": 50,
      "show_loading": false,
      "subitems": [],
      "tile_size": 256,
      "tms": false,
      "url": "https://earthengine.googleapis.com/v1/projects/earthengine-legacy/maps/3e61532ff59bb6395a4f7182713e6599-752ae44c179beb172ae25f174df61f1c/tiles/{z}/{x}/{y}",
      "visible": true,
      "zoom_offset": 0
     }
    },
    "4d135480946048c6878d519184878f36": {
     "model_module": "@jupyter-widgets/controls",
     "model_module_version": "1.5.0",
     "model_name": "VBoxModel",
     "state": {
      "_dom_classes": [],
      "_model_module": "@jupyter-widgets/controls",
      "_model_module_version": "1.5.0",
      "_model_name": "VBoxModel",
      "_view_count": null,
      "_view_module": "@jupyter-widgets/controls",
      "_view_module_version": "1.5.0",
      "_view_name": "VBoxView",
      "box_style": "",
      "children": [
       "IPY_MODEL_a36209ce79354e059382e0dc57a12692"
      ],
      "layout": "IPY_MODEL_ee08d42dfebb4b82ae1d474701e7e788"
     }
    },
    "4e40a03b388d40d083ce6c6c2ce99377": {
     "model_module": "jupyter-leaflet",
     "model_module_version": "^0.17",
     "model_name": "LeafletAttributionControlModel",
     "state": {
      "_model_module": "jupyter-leaflet",
      "_model_module_version": "^0.17",
      "_model_name": "LeafletAttributionControlModel",
      "_view_count": null,
      "_view_module": "jupyter-leaflet",
      "_view_module_version": "^0.17",
      "_view_name": "LeafletAttributionControlView",
      "options": [
       "position",
       "prefix"
      ],
      "position": "bottomright",
      "prefix": "ipyleaflet"
     }
    },
    "501d059f544e463e9cf2cf29d9a93999": {
     "model_module": "@jupyter-widgets/controls",
     "model_module_version": "1.5.0",
     "model_name": "HBoxModel",
     "state": {
      "_dom_classes": [],
      "_model_module": "@jupyter-widgets/controls",
      "_model_module_version": "1.5.0",
      "_model_name": "HBoxModel",
      "_view_count": null,
      "_view_module": "@jupyter-widgets/controls",
      "_view_module_version": "1.5.0",
      "_view_name": "HBoxView",
      "box_style": "",
      "children": [
       "IPY_MODEL_d115f3540f1848e389c4e76147c9326f"
      ],
      "layout": "IPY_MODEL_5c0e15cb07194caaadfbff0bb6121167"
     }
    },
    "510856fc22414daeb7b19f7b9a087f6d": {
     "model_module": "jupyter-leaflet",
     "model_module_version": "^0.17",
     "model_name": "LeafletWidgetControlModel",
     "state": {
      "_model_module": "jupyter-leaflet",
      "_model_module_version": "^0.17",
      "_model_name": "LeafletWidgetControlModel",
      "_view_count": null,
      "_view_module": "jupyter-leaflet",
      "_view_module_version": "^0.17",
      "_view_name": "LeafletWidgetControlView",
      "max_height": null,
      "max_width": null,
      "min_height": null,
      "min_width": null,
      "options": [
       "position",
       "transparent_bg"
      ],
      "position": "topleft",
      "transparent_bg": false,
      "widget": "IPY_MODEL_c99ae595fb6f48bb951e8765034c1401"
     }
    },
    "529ffaebdc0a4f06bbd3f9bb1ef21376": {
     "model_module": "@jupyter-widgets/controls",
     "model_module_version": "1.5.0",
     "model_name": "DescriptionStyleModel",
     "state": {
      "_model_module": "@jupyter-widgets/controls",
      "_model_module_version": "1.5.0",
      "_model_name": "DescriptionStyleModel",
      "_view_count": null,
      "_view_module": "@jupyter-widgets/base",
      "_view_module_version": "1.2.0",
      "_view_name": "StyleView",
      "description_width": ""
     }
    },
    "5430285ded044282b22c160b1211fe58": {
     "model_module": "jupyter-leaflet",
     "model_module_version": "^0.17",
     "model_name": "LeafletWidgetControlModel",
     "state": {
      "_model_module": "jupyter-leaflet",
      "_model_module_version": "^0.17",
      "_model_name": "LeafletWidgetControlModel",
      "_view_count": null,
      "_view_module": "jupyter-leaflet",
      "_view_module_version": "^0.17",
      "_view_name": "LeafletWidgetControlView",
      "max_height": null,
      "max_width": null,
      "min_height": null,
      "min_width": null,
      "options": [
       "position",
       "transparent_bg"
      ],
      "position": "topleft",
      "transparent_bg": false,
      "widget": "IPY_MODEL_ae6c0fdc9bce43e5a49f7ef5eef0fa31"
     }
    },
    "54ed6ef00be949638b5ffc79f266b8ca": {
     "model_module": "jupyter-leaflet",
     "model_module_version": "^0.17",
     "model_name": "LeafletLayersControlModel",
     "state": {
      "_model_module": "jupyter-leaflet",
      "_model_module_version": "^0.17",
      "_model_name": "LeafletLayersControlModel",
      "_view_count": null,
      "_view_module": "jupyter-leaflet",
      "_view_module_version": "^0.17",
      "_view_name": "LeafletLayersControlView",
      "options": [
       "position"
      ],
      "position": "topright"
     }
    },
    "594862fb00a0483eb53201c67cd08572": {
     "model_module": "jupyter-leaflet",
     "model_module_version": "^0.17",
     "model_name": "LeafletTileLayerModel",
     "state": {
      "_model_module": "jupyter-leaflet",
      "_model_module_version": "^0.17",
      "_model_name": "LeafletTileLayerModel",
      "_view_count": null,
      "_view_module": "jupyter-leaflet",
      "_view_module_version": "^0.17",
      "_view_name": "LeafletTileLayerView",
      "attribution": "&copy; <a href=\"https://www.openstreetmap.org/copyright\">OpenStreetMap</a> contributors",
      "base": true,
      "bottom": true,
      "bounds": null,
      "detect_retina": false,
      "loading": false,
      "max_native_zoom": null,
      "max_zoom": 19,
      "min_native_zoom": null,
      "min_zoom": 1,
      "name": "OpenStreetMap.Mapnik",
      "no_wrap": false,
      "opacity": 1,
      "options": [
       "attribution",
       "bounds",
       "detect_retina",
       "max_native_zoom",
       "max_zoom",
       "min_native_zoom",
       "min_zoom",
       "no_wrap",
       "tile_size",
       "tms",
       "zoom_offset"
      ],
      "pane": "",
      "popup": null,
      "popup_max_height": null,
      "popup_max_width": 300,
      "popup_min_width": 50,
      "show_loading": false,
      "subitems": [],
      "tile_size": 256,
      "tms": false,
      "url": "https://tile.openstreetmap.org/{z}/{x}/{y}.png",
      "visible": true,
      "zoom_offset": 0
     }
    },
    "5a568597813547ca95dd370790a66316": {
     "model_module": "jupyter-leaflet",
     "model_module_version": "^0.17",
     "model_name": "LeafletFullScreenControlModel",
     "state": {
      "_model_module": "jupyter-leaflet",
      "_model_module_version": "^0.17",
      "_model_name": "LeafletFullScreenControlModel",
      "_view_count": null,
      "_view_module": "jupyter-leaflet",
      "_view_module_version": "^0.17",
      "_view_name": "LeafletFullScreenControlView",
      "options": [
       "position"
      ],
      "position": "topleft"
     }
    },
    "5ae3c170301246e18ce1343664a44ba3": {
     "model_module": "@jupyter-widgets/controls",
     "model_module_version": "1.5.0",
     "model_name": "DescriptionStyleModel",
     "state": {
      "_model_module": "@jupyter-widgets/controls",
      "_model_module_version": "1.5.0",
      "_model_name": "DescriptionStyleModel",
      "_view_count": null,
      "_view_module": "@jupyter-widgets/base",
      "_view_module_version": "1.2.0",
      "_view_name": "StyleView",
      "description_width": ""
     }
    },
    "5c0e15cb07194caaadfbff0bb6121167": {
     "model_module": "@jupyter-widgets/base",
     "model_module_version": "1.2.0",
     "model_name": "LayoutModel",
     "state": {
      "_model_module": "@jupyter-widgets/base",
      "_model_module_version": "1.2.0",
      "_model_name": "LayoutModel",
      "_view_count": null,
      "_view_module": "@jupyter-widgets/base",
      "_view_module_version": "1.2.0",
      "_view_name": "LayoutView",
      "align_content": null,
      "align_items": null,
      "align_self": null,
      "border": null,
      "bottom": null,
      "display": null,
      "flex": null,
      "flex_flow": null,
      "grid_area": null,
      "grid_auto_columns": null,
      "grid_auto_flow": null,
      "grid_auto_rows": null,
      "grid_column": null,
      "grid_gap": null,
      "grid_row": null,
      "grid_template_areas": null,
      "grid_template_columns": null,
      "grid_template_rows": null,
      "height": null,
      "justify_content": null,
      "justify_items": null,
      "left": null,
      "margin": null,
      "max_height": null,
      "max_width": null,
      "min_height": null,
      "min_width": null,
      "object_fit": null,
      "object_position": null,
      "order": null,
      "overflow": null,
      "overflow_x": null,
      "overflow_y": null,
      "padding": null,
      "right": null,
      "top": null,
      "visibility": null,
      "width": null
     }
    },
    "5cf7e5b3a1844abb95b4572c14a95407": {
     "model_module": "jupyter-leaflet",
     "model_module_version": "^0.17",
     "model_name": "LeafletAttributionControlModel",
     "state": {
      "_model_module": "jupyter-leaflet",
      "_model_module_version": "^0.17",
      "_model_name": "LeafletAttributionControlModel",
      "_view_count": null,
      "_view_module": "jupyter-leaflet",
      "_view_module_version": "^0.17",
      "_view_name": "LeafletAttributionControlView",
      "options": [
       "position",
       "prefix"
      ],
      "position": "bottomright",
      "prefix": "ipyleaflet"
     }
    },
    "5e9c6e2da81d429f9e18ea059ce9df6a": {
     "model_module": "@jupyter-widgets/controls",
     "model_module_version": "1.5.0",
     "model_name": "DescriptionStyleModel",
     "state": {
      "_model_module": "@jupyter-widgets/controls",
      "_model_module_version": "1.5.0",
      "_model_name": "DescriptionStyleModel",
      "_view_count": null,
      "_view_module": "@jupyter-widgets/base",
      "_view_module_version": "1.2.0",
      "_view_name": "StyleView",
      "description_width": ""
     }
    },
    "5f4ebc0df23a43f8b6bc84db364c9b65": {
     "model_module": "@jupyter-widgets/controls",
     "model_module_version": "1.5.0",
     "model_name": "ToggleButtonModel",
     "state": {
      "_dom_classes": [],
      "_model_module": "@jupyter-widgets/controls",
      "_model_module_version": "1.5.0",
      "_model_name": "ToggleButtonModel",
      "_view_count": null,
      "_view_module": "@jupyter-widgets/controls",
      "_view_module_version": "1.5.0",
      "_view_name": "ToggleButtonView",
      "button_style": "",
      "description": "",
      "description_tooltip": null,
      "disabled": false,
      "icon": "globe",
      "layout": "IPY_MODEL_a457fa9c3d6444bb9e8b58d52e9bd52c",
      "style": "IPY_MODEL_291446d71f8d49f99a018f0b0853311f",
      "tooltip": "Search location/data",
      "value": false
     }
    },
    "5f50c9cc01614e2fa681b06b1ec52338": {
     "model_module": "@jupyter-widgets/controls",
     "model_module_version": "1.5.0",
     "model_name": "VBoxModel",
     "state": {
      "_dom_classes": [],
      "_model_module": "@jupyter-widgets/controls",
      "_model_module_version": "1.5.0",
      "_model_name": "VBoxModel",
      "_view_count": null,
      "_view_module": "@jupyter-widgets/controls",
      "_view_module_version": "1.5.0",
      "_view_name": "VBoxView",
      "box_style": "",
      "children": [
       "IPY_MODEL_eb454b004c27400aafad054ef640bb64"
      ],
      "layout": "IPY_MODEL_77476878f8454cb88a327475478916d5"
     }
    },
    "633098e41af148b2bbb42d26bc6075b6": {
     "model_module": "@jupyter-widgets/base",
     "model_module_version": "1.2.0",
     "model_name": "LayoutModel",
     "state": {
      "_model_module": "@jupyter-widgets/base",
      "_model_module_version": "1.2.0",
      "_model_name": "LayoutModel",
      "_view_count": null,
      "_view_module": "@jupyter-widgets/base",
      "_view_module_version": "1.2.0",
      "_view_name": "LayoutView",
      "align_content": null,
      "align_items": null,
      "align_self": null,
      "border": null,
      "bottom": null,
      "display": null,
      "flex": null,
      "flex_flow": null,
      "grid_area": null,
      "grid_auto_columns": null,
      "grid_auto_flow": null,
      "grid_auto_rows": null,
      "grid_column": null,
      "grid_gap": null,
      "grid_row": null,
      "grid_template_areas": null,
      "grid_template_columns": null,
      "grid_template_rows": null,
      "height": null,
      "justify_content": null,
      "justify_items": null,
      "left": null,
      "margin": null,
      "max_height": null,
      "max_width": null,
      "min_height": null,
      "min_width": null,
      "object_fit": null,
      "object_position": null,
      "order": null,
      "overflow": null,
      "overflow_x": null,
      "overflow_y": null,
      "padding": null,
      "right": null,
      "top": null,
      "visibility": null,
      "width": null
     }
    },
    "6450d734a541483f8f7d5292bc2667f2": {
     "model_module": "jupyter-leaflet",
     "model_module_version": "^0.17",
     "model_name": "LeafletTileLayerModel",
     "state": {
      "_model_module": "jupyter-leaflet",
      "_model_module_version": "^0.17",
      "_model_name": "LeafletTileLayerModel",
      "_view_count": null,
      "_view_module": "jupyter-leaflet",
      "_view_module_version": "^0.17",
      "_view_name": "LeafletTileLayerView",
      "attribution": "Google Earth Engine",
      "base": false,
      "bottom": true,
      "bounds": null,
      "detect_retina": false,
      "loading": false,
      "max_native_zoom": null,
      "max_zoom": 24,
      "min_native_zoom": null,
      "min_zoom": 0,
      "name": "train",
      "no_wrap": false,
      "opacity": 1,
      "options": [
       "attribution",
       "bounds",
       "detect_retina",
       "max_native_zoom",
       "max_zoom",
       "min_native_zoom",
       "min_zoom",
       "no_wrap",
       "tile_size",
       "tms",
       "zoom_offset"
      ],
      "pane": "",
      "popup": null,
      "popup_max_height": null,
      "popup_max_width": 300,
      "popup_min_width": 50,
      "show_loading": false,
      "subitems": [],
      "tile_size": 256,
      "tms": false,
      "url": "https://earthengine.googleapis.com/v1/projects/earthengine-legacy/maps/3e61532ff59bb6395a4f7182713e6599-d506ed0fcd8ceb2fb0a4b3638fd91970/tiles/{z}/{x}/{y}",
      "visible": true,
      "zoom_offset": 0
     }
    },
    "646484192a814379b9891d69728f76b4": {
     "model_module": "jupyter-leaflet",
     "model_module_version": "^0.17",
     "model_name": "LeafletWidgetControlModel",
     "state": {
      "_model_module": "jupyter-leaflet",
      "_model_module_version": "^0.17",
      "_model_name": "LeafletWidgetControlModel",
      "_view_count": null,
      "_view_module": "jupyter-leaflet",
      "_view_module_version": "^0.17",
      "_view_name": "LeafletWidgetControlView",
      "max_height": null,
      "max_width": null,
      "min_height": null,
      "min_width": null,
      "options": [
       "position",
       "transparent_bg"
      ],
      "position": "topright",
      "transparent_bg": false,
      "widget": "IPY_MODEL_4d135480946048c6878d519184878f36"
     }
    },
    "658177d2a5574c8db168fd51ebe96ef1": {
     "model_module": "jupyter-leaflet",
     "model_module_version": "^0.17",
     "model_name": "LeafletWidgetControlModel",
     "state": {
      "_model_module": "jupyter-leaflet",
      "_model_module_version": "^0.17",
      "_model_name": "LeafletWidgetControlModel",
      "_view_count": null,
      "_view_module": "jupyter-leaflet",
      "_view_module_version": "^0.17",
      "_view_name": "LeafletWidgetControlView",
      "max_height": null,
      "max_width": null,
      "min_height": null,
      "min_width": null,
      "options": [
       "position",
       "transparent_bg"
      ],
      "position": "topleft",
      "transparent_bg": false,
      "widget": "IPY_MODEL_501d059f544e463e9cf2cf29d9a93999"
     }
    },
    "6598f3905f614a93b21084f690367073": {
     "model_module": "@jupyter-widgets/base",
     "model_module_version": "1.2.0",
     "model_name": "LayoutModel",
     "state": {
      "_model_module": "@jupyter-widgets/base",
      "_model_module_version": "1.2.0",
      "_model_name": "LayoutModel",
      "_view_count": null,
      "_view_module": "@jupyter-widgets/base",
      "_view_module_version": "1.2.0",
      "_view_name": "LayoutView",
      "align_content": null,
      "align_items": null,
      "align_self": null,
      "border": null,
      "bottom": null,
      "display": null,
      "flex": null,
      "flex_flow": null,
      "grid_area": null,
      "grid_auto_columns": null,
      "grid_auto_flow": null,
      "grid_auto_rows": null,
      "grid_column": null,
      "grid_gap": null,
      "grid_row": null,
      "grid_template_areas": null,
      "grid_template_columns": null,
      "grid_template_rows": null,
      "height": "600px",
      "justify_content": null,
      "justify_items": null,
      "left": null,
      "margin": null,
      "max_height": null,
      "max_width": null,
      "min_height": null,
      "min_width": null,
      "object_fit": null,
      "object_position": null,
      "order": null,
      "overflow": null,
      "overflow_x": null,
      "overflow_y": null,
      "padding": null,
      "right": null,
      "top": null,
      "visibility": null,
      "width": null
     }
    },
    "65d2e400bb0e4103b23f4366abaa8e26": {
     "model_module": "jupyter-leaflet",
     "model_module_version": "^0.17",
     "model_name": "LeafletAttributionControlModel",
     "state": {
      "_model_module": "jupyter-leaflet",
      "_model_module_version": "^0.17",
      "_model_name": "LeafletAttributionControlModel",
      "_view_count": null,
      "_view_module": "jupyter-leaflet",
      "_view_module_version": "^0.17",
      "_view_name": "LeafletAttributionControlView",
      "options": [
       "position",
       "prefix"
      ],
      "position": "bottomright",
      "prefix": "ipyleaflet"
     }
    },
    "65d6758914e14778b09a0e3595b27feb": {
     "model_module": "jupyter-leaflet",
     "model_module_version": "^0.17",
     "model_name": "LeafletZoomControlModel",
     "state": {
      "_model_module": "jupyter-leaflet",
      "_model_module_version": "^0.17",
      "_model_name": "LeafletZoomControlModel",
      "_view_count": null,
      "_view_module": "jupyter-leaflet",
      "_view_module_version": "^0.17",
      "_view_name": "LeafletZoomControlView",
      "options": [
       "position",
       "zoom_in_text",
       "zoom_in_title",
       "zoom_out_text",
       "zoom_out_title"
      ],
      "position": "topleft",
      "zoom_in_text": "+",
      "zoom_in_title": "Zoom in",
      "zoom_out_text": "-",
      "zoom_out_title": "Zoom out"
     }
    },
    "66fc9e4d39a44a668d092ab30cf127c6": {
     "model_module": "@jupyter-widgets/controls",
     "model_module_version": "1.5.0",
     "model_name": "ToggleButtonModel",
     "state": {
      "_dom_classes": [],
      "_model_module": "@jupyter-widgets/controls",
      "_model_module_version": "1.5.0",
      "_model_name": "ToggleButtonModel",
      "_view_count": null,
      "_view_module": "@jupyter-widgets/controls",
      "_view_module_version": "1.5.0",
      "_view_name": "ToggleButtonView",
      "button_style": "",
      "description": "",
      "description_tooltip": null,
      "disabled": false,
      "icon": "wrench",
      "layout": "IPY_MODEL_a054e5a249ee496d9a08ce1a0fc57cae",
      "style": "IPY_MODEL_aad8d5ec9a7e4561894118f068f04cf2",
      "tooltip": "Toolbar",
      "value": false
     }
    },
    "687f1a7a8fb74f4cb07a82349e56aa12": {
     "model_module": "@jupyter-widgets/controls",
     "model_module_version": "1.5.0",
     "model_name": "ToggleButtonModel",
     "state": {
      "_dom_classes": [],
      "_model_module": "@jupyter-widgets/controls",
      "_model_module_version": "1.5.0",
      "_model_name": "ToggleButtonModel",
      "_view_count": null,
      "_view_module": "@jupyter-widgets/controls",
      "_view_module_version": "1.5.0",
      "_view_name": "ToggleButtonView",
      "button_style": "",
      "description": "",
      "description_tooltip": null,
      "disabled": false,
      "icon": "wrench",
      "layout": "IPY_MODEL_835c9477187b402e974df29894ffc691",
      "style": "IPY_MODEL_37261ce186f14928a098f87573e91231",
      "tooltip": "Toolbar",
      "value": false
     }
    },
    "6993ff453fc6419e894d0233c1d2c7eb": {
     "model_module": "jupyter-leaflet",
     "model_module_version": "^0.17",
     "model_name": "LeafletMapModel",
     "state": {
      "_dom_classes": [],
      "_model_module": "jupyter-leaflet",
      "_model_module_version": "^0.17",
      "_model_name": "LeafletMapModel",
      "_view_count": null,
      "_view_module": "jupyter-leaflet",
      "_view_module_version": "^0.17",
      "_view_name": "LeafletMapView",
      "bottom": 1728794,
      "bounce_at_zoom_limits": true,
      "box_zoom": true,
      "center": [
       30.14644462601412,
       -85.614652633667
      ],
      "close_popup_on_click": true,
      "controls": [
       "IPY_MODEL_8f122eaa06ba438dadb194a9ac1adfad",
       "IPY_MODEL_0d27bc345a3942ccb6cd0146a487390f",
       "IPY_MODEL_4575d0f888324041b33f82445de66c39",
       "IPY_MODEL_2500750a99a64621a026acbbfd16755d",
       "IPY_MODEL_7a4649911a164119b430696e00aeaff1",
       "IPY_MODEL_e5c818051d034abbac6364859c2a9450",
       "IPY_MODEL_7aea1b9eb47a477bbf7f214b6b9b91a6",
       "IPY_MODEL_65d2e400bb0e4103b23f4366abaa8e26",
       "IPY_MODEL_936932d4bcb94952818e92e87d1901f9"
      ],
      "crs": {
       "custom": false,
       "name": "EPSG3857"
      },
      "default_style": "IPY_MODEL_bf07b0e824e64d1c8ec604d5c4328316",
      "double_click_zoom": true,
      "dragging": true,
      "dragging_style": "IPY_MODEL_aaae66cbf92943b39f4c7d80da6c7765",
      "east": -85.5230712890625,
      "fullscreen": false,
      "inertia": true,
      "inertia_deceleration": 3000,
      "inertia_max_speed": 1500,
      "interpolation": "bilinear",
      "keyboard": true,
      "keyboard_pan_offset": 80,
      "keyboard_zoom_offset": 1,
      "layers": [
       "IPY_MODEL_1af41199ba5b45abbbff2a03791f8e1d",
       "IPY_MODEL_4c6e4711d4ef4720ad050408b09c4221"
      ],
      "layout": "IPY_MODEL_0376325016024b26b6078cb991c81f35",
      "left": 1098603,
      "max_zoom": 24,
      "min_zoom": null,
      "modisdate": "2023-09-14",
      "north": 30.168727151569776,
      "options": [
       "bounce_at_zoom_limits",
       "box_zoom",
       "center",
       "close_popup_on_click",
       "double_click_zoom",
       "dragging",
       "fullscreen",
       "inertia",
       "inertia_deceleration",
       "inertia_max_speed",
       "interpolation",
       "keyboard",
       "keyboard_pan_offset",
       "keyboard_zoom_offset",
       "max_zoom",
       "min_zoom",
       "prefer_canvas",
       "scroll_wheel_zoom",
       "tap",
       "tap_tolerance",
       "touch_zoom",
       "world_copy_jump",
       "zoom",
       "zoom_animation_threshold",
       "zoom_delta",
       "zoom_snap"
      ],
      "panes": {},
      "prefer_canvas": false,
      "right": 1100736,
      "scroll_wheel_zoom": true,
      "south": 30.12419418575852,
      "style": "IPY_MODEL_bf07b0e824e64d1c8ec604d5c4328316",
      "tap": true,
      "tap_tolerance": 15,
      "top": 1728194,
      "touch_zoom": true,
      "west": -85.70614814758302,
      "window_url": "https://0yfe0deel58f-496ff2e9c6d22116-0-colab.googleusercontent.com/outputframe.html?vrz=colab_20230914-060107_RC00_565327706",
      "world_copy_jump": false,
      "zoom": 14,
      "zoom_animation_threshold": 4,
      "zoom_delta": 1,
      "zoom_snap": 1
     }
    },
    "69e7eb91072248ccbb28739427bd022a": {
     "model_module": "jupyter-leaflet",
     "model_module_version": "^0.17",
     "model_name": "LeafletMapStyleModel",
     "state": {
      "_model_module": "jupyter-leaflet",
      "_model_module_version": "^0.17",
      "_model_name": "LeafletMapStyleModel",
      "_view_count": null,
      "_view_module": "@jupyter-widgets/base",
      "_view_module_version": "1.2.0",
      "_view_name": "StyleView",
      "cursor": "grab"
     }
    },
    "6a42f22f3c0349c1a57627fbbb0b2766": {
     "model_module": "jupyter-leaflet",
     "model_module_version": "^0.17",
     "model_name": "LeafletMapModel",
     "state": {
      "_dom_classes": [],
      "_model_module": "jupyter-leaflet",
      "_model_module_version": "^0.17",
      "_model_name": "LeafletMapModel",
      "_view_count": null,
      "_view_module": "jupyter-leaflet",
      "_view_module_version": "^0.17",
      "_view_name": "LeafletMapView",
      "bottom": 13828255,
      "bounce_at_zoom_limits": true,
      "box_zoom": true,
      "center": [
       30.146435348310565,
       -85.65158665180206
      ],
      "close_popup_on_click": true,
      "controls": [
       "IPY_MODEL_a8827492c987477c91d516742e60fc86",
       "IPY_MODEL_c0f67cd19010433d8edebf0bd7afcadb",
       "IPY_MODEL_2130b214c6224a57b2a2bfbbcc3d7165",
       "IPY_MODEL_11da904233ff4ea29728377008198456",
       "IPY_MODEL_d8e7c00ed99d41fd8f1b0d80b43b1d78",
       "IPY_MODEL_9da6e8ca15c64b9cb2a2e161fe528d75",
       "IPY_MODEL_88fb8b0430c446e19938925468f15844",
       "IPY_MODEL_f53733f621c043b48ce4da33925ce566",
       "IPY_MODEL_22ffcab190254dc58c3dc2a3ae77de40"
      ],
      "crs": {
       "custom": false,
       "name": "EPSG3857"
      },
      "default_style": "IPY_MODEL_05c0a9ce62a74bb4a17b583317b1ee75",
      "double_click_zoom": true,
      "dragging": true,
      "dragging_style": "IPY_MODEL_e13d0bdd95a14dadb6e3dc4944ca3ad5",
      "east": -85.64014434814455,
      "fullscreen": false,
      "inertia": true,
      "inertia_deceleration": 3000,
      "inertia_max_speed": 1500,
      "interpolation": "bilinear",
      "keyboard": true,
      "keyboard_pan_offset": 80,
      "keyboard_zoom_offset": 1,
      "layers": [
       "IPY_MODEL_8f33ddb38eee4c9a9696ec5874f985e6",
       "IPY_MODEL_de4a335fdb2c4f3f94fb08e786a73253"
      ],
      "layout": "IPY_MODEL_dc51401f037344e1b742855ea6648d42",
      "left": 8792843,
      "max_zoom": 24,
      "min_zoom": null,
      "modisdate": "2023-09-14",
      "north": 30.14921862024294,
      "options": [
       "bounce_at_zoom_limits",
       "box_zoom",
       "center",
       "close_popup_on_click",
       "double_click_zoom",
       "dragging",
       "fullscreen",
       "inertia",
       "inertia_deceleration",
       "inertia_max_speed",
       "interpolation",
       "keyboard",
       "keyboard_pan_offset",
       "keyboard_zoom_offset",
       "max_zoom",
       "min_zoom",
       "prefer_canvas",
       "scroll_wheel_zoom",
       "tap",
       "tap_tolerance",
       "touch_zoom",
       "world_copy_jump",
       "zoom",
       "zoom_animation_threshold",
       "zoom_delta",
       "zoom_snap"
      ],
      "panes": {},
      "prefer_canvas": false,
      "right": 8794976,
      "scroll_wheel_zoom": true,
      "south": 30.143651997854647,
      "style": "IPY_MODEL_05c0a9ce62a74bb4a17b583317b1ee75",
      "tap": true,
      "tap_tolerance": 15,
      "top": 13827655,
      "touch_zoom": true,
      "west": -85.6630289554596,
      "window_url": "https://0yfe0deel58f-496ff2e9c6d22116-0-colab.googleusercontent.com/outputframe.html?vrz=colab_20230914-060107_RC00_565327706",
      "world_copy_jump": false,
      "zoom": 17,
      "zoom_animation_threshold": 4,
      "zoom_delta": 1,
      "zoom_snap": 1
     }
    },
    "6a932769e2ed4c21848bef3b0c53d0cf": {
     "model_module": "jupyter-leaflet",
     "model_module_version": "^0.17",
     "model_name": "LeafletTileLayerModel",
     "state": {
      "_model_module": "jupyter-leaflet",
      "_model_module_version": "^0.17",
      "_model_name": "LeafletTileLayerModel",
      "_view_count": null,
      "_view_module": "jupyter-leaflet",
      "_view_module_version": "^0.17",
      "_view_name": "LeafletTileLayerView",
      "attribution": "&copy; <a href=\"https://www.openstreetmap.org/copyright\">OpenStreetMap</a> contributors",
      "base": true,
      "bottom": true,
      "bounds": null,
      "detect_retina": false,
      "loading": false,
      "max_native_zoom": null,
      "max_zoom": 19,
      "min_native_zoom": null,
      "min_zoom": 1,
      "name": "OpenStreetMap.Mapnik",
      "no_wrap": false,
      "opacity": 1,
      "options": [
       "attribution",
       "bounds",
       "detect_retina",
       "max_native_zoom",
       "max_zoom",
       "min_native_zoom",
       "min_zoom",
       "no_wrap",
       "tile_size",
       "tms",
       "zoom_offset"
      ],
      "pane": "",
      "popup": null,
      "popup_max_height": null,
      "popup_max_width": 300,
      "popup_min_width": 50,
      "show_loading": false,
      "subitems": [],
      "tile_size": 256,
      "tms": false,
      "url": "https://tile.openstreetmap.org/{z}/{x}/{y}.png",
      "visible": true,
      "zoom_offset": 0
     }
    },
    "6ab35f78c7504376933127a3f65ab734": {
     "model_module": "jupyter-leaflet",
     "model_module_version": "^0.17",
     "model_name": "LeafletMapStyleModel",
     "state": {
      "_model_module": "jupyter-leaflet",
      "_model_module_version": "^0.17",
      "_model_name": "LeafletMapStyleModel",
      "_view_count": null,
      "_view_module": "@jupyter-widgets/base",
      "_view_module_version": "1.2.0",
      "_view_name": "StyleView",
      "cursor": "grab"
     }
    },
    "6b4b0c1b7f8e4015b3ae01f2c62942d6": {
     "model_module": "jupyter-leaflet",
     "model_module_version": "^0.17",
     "model_name": "LeafletDrawControlModel",
     "state": {
      "_model_module": "jupyter-leaflet",
      "_model_module_version": "^0.17",
      "_model_name": "LeafletDrawControlModel",
      "_view_count": null,
      "_view_module": "jupyter-leaflet",
      "_view_module_version": "^0.17",
      "_view_name": "LeafletDrawControlView",
      "circle": {},
      "circlemarker": {},
      "data": [],
      "edit": true,
      "marker": {
       "shapeOptions": {
        "color": "#3388ff"
       }
      },
      "options": [
       "position"
      ],
      "polygon": {
       "shapeOptions": {}
      },
      "polyline": {
       "shapeOptions": {}
      },
      "position": "topleft",
      "rectangle": {
       "shapeOptions": {
        "color": "#3388ff"
       }
      },
      "remove": true
     }
    },
    "6ea6de6b26fc435f87ae8cc089a1afea": {
     "model_module": "jupyter-leaflet",
     "model_module_version": "^0.17",
     "model_name": "LeafletTileLayerModel",
     "state": {
      "_model_module": "jupyter-leaflet",
      "_model_module_version": "^0.17",
      "_model_name": "LeafletTileLayerModel",
      "_view_count": null,
      "_view_module": "jupyter-leaflet",
      "_view_module_version": "^0.17",
      "_view_name": "LeafletTileLayerView",
      "attribution": "Google Earth Engine",
      "base": false,
      "bottom": true,
      "bounds": null,
      "detect_retina": false,
      "loading": false,
      "max_native_zoom": null,
      "max_zoom": 24,
      "min_native_zoom": null,
      "min_zoom": 0,
      "name": "postFire_Kmeans",
      "no_wrap": false,
      "opacity": 0.6,
      "options": [
       "attribution",
       "bounds",
       "detect_retina",
       "max_native_zoom",
       "max_zoom",
       "min_native_zoom",
       "min_zoom",
       "no_wrap",
       "tile_size",
       "tms",
       "zoom_offset"
      ],
      "pane": "",
      "popup": null,
      "popup_max_height": null,
      "popup_max_width": 300,
      "popup_min_width": 50,
      "show_loading": false,
      "subitems": [],
      "tile_size": 256,
      "tms": false,
      "url": "https://earthengine.googleapis.com/v1/projects/earthengine-legacy/maps/b6d655dfb6aeda5b9ed5b378f350e7b5-3eae39d91e4a92fe5c9e43f851e1e50b/tiles/{z}/{x}/{y}",
      "visible": true,
      "zoom_offset": 0
     }
    },
    "6f87cb470c3446eb85511120f69f215a": {
     "model_module": "jupyter-leaflet",
     "model_module_version": "^0.17",
     "model_name": "LeafletMapStyleModel",
     "state": {
      "_model_module": "jupyter-leaflet",
      "_model_module_version": "^0.17",
      "_model_name": "LeafletMapStyleModel",
      "_view_count": null,
      "_view_module": "@jupyter-widgets/base",
      "_view_module_version": "1.2.0",
      "_view_name": "StyleView",
      "cursor": "grab"
     }
    },
    "717fc84f422d4f3786e13b887680f800": {
     "model_module": "@jupyter-widgets/controls",
     "model_module_version": "1.5.0",
     "model_name": "DescriptionStyleModel",
     "state": {
      "_model_module": "@jupyter-widgets/controls",
      "_model_module_version": "1.5.0",
      "_model_name": "DescriptionStyleModel",
      "_view_count": null,
      "_view_module": "@jupyter-widgets/base",
      "_view_module_version": "1.2.0",
      "_view_name": "StyleView",
      "description_width": ""
     }
    },
    "72487e7337a84c8cb8bb6c469647c5aa": {
     "model_module": "jupyter-leaflet",
     "model_module_version": "^0.17",
     "model_name": "LeafletTileLayerModel",
     "state": {
      "_model_module": "jupyter-leaflet",
      "_model_module_version": "^0.17",
      "_model_name": "LeafletTileLayerModel",
      "_view_count": null,
      "_view_module": "jupyter-leaflet",
      "_view_module_version": "^0.17",
      "_view_name": "LeafletTileLayerView",
      "attribution": "Google Earth Engine",
      "base": false,
      "bottom": true,
      "bounds": null,
      "detect_retina": false,
      "loading": false,
      "max_native_zoom": null,
      "max_zoom": 24,
      "min_native_zoom": null,
      "min_zoom": 0,
      "name": "preFire",
      "no_wrap": false,
      "opacity": 1,
      "options": [
       "attribution",
       "bounds",
       "detect_retina",
       "max_native_zoom",
       "max_zoom",
       "min_native_zoom",
       "min_zoom",
       "no_wrap",
       "tile_size",
       "tms",
       "zoom_offset"
      ],
      "pane": "",
      "popup": null,
      "popup_max_height": null,
      "popup_max_width": 300,
      "popup_min_width": 50,
      "show_loading": false,
      "subitems": [],
      "tile_size": 256,
      "tms": false,
      "url": "https://earthengine.googleapis.com/v1/projects/earthengine-legacy/maps/20370adbc1f8de21982089f0a55174cb-a8b70b5c163f58cea3d4b6b16a7f2eb0/tiles/{z}/{x}/{y}",
      "visible": true,
      "zoom_offset": 0
     }
    },
    "7339eb16e0b841c9be0250a992194e97": {
     "model_module": "jupyter-leaflet",
     "model_module_version": "^0.17",
     "model_name": "LeafletFullScreenControlModel",
     "state": {
      "_model_module": "jupyter-leaflet",
      "_model_module_version": "^0.17",
      "_model_name": "LeafletFullScreenControlModel",
      "_view_count": null,
      "_view_module": "jupyter-leaflet",
      "_view_module_version": "^0.17",
      "_view_name": "LeafletFullScreenControlView",
      "options": [
       "position"
      ],
      "position": "topleft"
     }
    },
    "74c3dfb6696547a1b4217d5358e54034": {
     "model_module": "@jupyter-widgets/controls",
     "model_module_version": "1.5.0",
     "model_name": "DescriptionStyleModel",
     "state": {
      "_model_module": "@jupyter-widgets/controls",
      "_model_module_version": "1.5.0",
      "_model_name": "DescriptionStyleModel",
      "_view_count": null,
      "_view_module": "@jupyter-widgets/base",
      "_view_module_version": "1.2.0",
      "_view_name": "StyleView",
      "description_width": ""
     }
    },
    "74d999d7d24347bc8b3d512329336a76": {
     "model_module": "jupyter-leaflet",
     "model_module_version": "^0.17",
     "model_name": "LeafletMeasureControlModel",
     "state": {
      "_custom_units": {},
      "_model_module": "jupyter-leaflet",
      "_model_module_version": "^0.17",
      "_model_name": "LeafletMeasureControlModel",
      "_view_count": null,
      "_view_module": "jupyter-leaflet",
      "_view_module_version": "^0.17",
      "_view_name": "LeafletMeasureControlView",
      "active_color": "orange",
      "capture_z_index": 10000,
      "completed_color": "#C8F2BE",
      "options": [
       "active_color",
       "capture_z_index",
       "completed_color",
       "popup_options",
       "position",
       "primary_area_unit",
       "primary_length_unit",
       "secondary_area_unit",
       "secondary_length_unit"
      ],
      "popup_options": {
       "autoPanPadding": [
        10,
        10
       ],
       "className": "leaflet-measure-resultpopup"
      },
      "position": "bottomleft",
      "primary_area_unit": "acres",
      "primary_length_unit": "kilometers",
      "secondary_area_unit": null,
      "secondary_length_unit": null
     }
    },
    "754543562c254a1bb4eb0be89c82715d": {
     "model_module": "jupyter-leaflet",
     "model_module_version": "^0.17",
     "model_name": "LeafletTileLayerModel",
     "state": {
      "_model_module": "jupyter-leaflet",
      "_model_module_version": "^0.17",
      "_model_name": "LeafletTileLayerModel",
      "_view_count": null,
      "_view_module": "jupyter-leaflet",
      "_view_module_version": "^0.17",
      "_view_name": "LeafletTileLayerView",
      "attribution": "Google Earth Engine",
      "base": false,
      "bottom": true,
      "bounds": null,
      "detect_retina": false,
      "loading": false,
      "max_native_zoom": null,
      "max_zoom": 24,
      "min_native_zoom": null,
      "min_zoom": 0,
      "name": "shadeG",
      "no_wrap": false,
      "opacity": 1,
      "options": [
       "attribution",
       "bounds",
       "detect_retina",
       "max_native_zoom",
       "max_zoom",
       "min_native_zoom",
       "min_zoom",
       "no_wrap",
       "tile_size",
       "tms",
       "zoom_offset"
      ],
      "pane": "",
      "popup": null,
      "popup_max_height": null,
      "popup_max_width": 300,
      "popup_min_width": 50,
      "show_loading": false,
      "subitems": [],
      "tile_size": 256,
      "tms": false,
      "url": "https://earthengine.googleapis.com/v1/projects/earthengine-legacy/maps/0b94f58cd46dd86a13d95c6348514af3-a68b34dc8327a09a2736fb605676d415/tiles/{z}/{x}/{y}",
      "visible": true,
      "zoom_offset": 0
     }
    },
    "757dbbc7079941f3b32d825c13d75cff": {
     "model_module": "@jupyter-widgets/controls",
     "model_module_version": "1.5.0",
     "model_name": "ToggleButtonModel",
     "state": {
      "_dom_classes": [],
      "_model_module": "@jupyter-widgets/controls",
      "_model_module_version": "1.5.0",
      "_model_name": "ToggleButtonModel",
      "_view_count": null,
      "_view_module": "@jupyter-widgets/controls",
      "_view_module_version": "1.5.0",
      "_view_name": "ToggleButtonView",
      "button_style": "",
      "description": "",
      "description_tooltip": null,
      "disabled": false,
      "icon": "globe",
      "layout": "IPY_MODEL_3bf0e4b07e344295accf1ab93aaed7d4",
      "style": "IPY_MODEL_d04b8aa3c7da4a26993b6200c3a54aba",
      "tooltip": "Search location/data",
      "value": false
     }
    },
    "7706d089a6b141019a37f44f370ec70a": {
     "model_module": "jupyter-leaflet",
     "model_module_version": "^0.17",
     "model_name": "LeafletScaleControlModel",
     "state": {
      "_model_module": "jupyter-leaflet",
      "_model_module_version": "^0.17",
      "_model_name": "LeafletScaleControlModel",
      "_view_count": null,
      "_view_module": "jupyter-leaflet",
      "_view_module_version": "^0.17",
      "_view_name": "LeafletScaleControlView",
      "imperial": true,
      "max_width": 100,
      "metric": true,
      "options": [
       "imperial",
       "max_width",
       "metric",
       "position",
       "update_when_idle"
      ],
      "position": "bottomleft",
      "update_when_idle": false
     }
    },
    "77476878f8454cb88a327475478916d5": {
     "model_module": "@jupyter-widgets/base",
     "model_module_version": "1.2.0",
     "model_name": "LayoutModel",
     "state": {
      "_model_module": "@jupyter-widgets/base",
      "_model_module_version": "1.2.0",
      "_model_name": "LayoutModel",
      "_view_count": null,
      "_view_module": "@jupyter-widgets/base",
      "_view_module_version": "1.2.0",
      "_view_name": "LayoutView",
      "align_content": null,
      "align_items": null,
      "align_self": null,
      "border": null,
      "bottom": null,
      "display": null,
      "flex": null,
      "flex_flow": null,
      "grid_area": null,
      "grid_auto_columns": null,
      "grid_auto_flow": null,
      "grid_auto_rows": null,
      "grid_column": null,
      "grid_gap": null,
      "grid_row": null,
      "grid_template_areas": null,
      "grid_template_columns": null,
      "grid_template_rows": null,
      "height": null,
      "justify_content": null,
      "justify_items": null,
      "left": null,
      "margin": null,
      "max_height": null,
      "max_width": null,
      "min_height": null,
      "min_width": null,
      "object_fit": null,
      "object_position": null,
      "order": null,
      "overflow": null,
      "overflow_x": null,
      "overflow_y": null,
      "padding": null,
      "right": null,
      "top": null,
      "visibility": null,
      "width": null
     }
    },
    "77b6fc98acaa41f384f49719988811c3": {
     "model_module": "jupyter-leaflet",
     "model_module_version": "^0.17",
     "model_name": "LeafletAttributionControlModel",
     "state": {
      "_model_module": "jupyter-leaflet",
      "_model_module_version": "^0.17",
      "_model_name": "LeafletAttributionControlModel",
      "_view_count": null,
      "_view_module": "jupyter-leaflet",
      "_view_module_version": "^0.17",
      "_view_name": "LeafletAttributionControlView",
      "options": [
       "position",
       "prefix"
      ],
      "position": "bottomright",
      "prefix": "ipyleaflet"
     }
    },
    "781cb590019e4ab790d529f9adca8db0": {
     "model_module": "@jupyter-widgets/controls",
     "model_module_version": "1.5.0",
     "model_name": "ToggleButtonModel",
     "state": {
      "_dom_classes": [],
      "_model_module": "@jupyter-widgets/controls",
      "_model_module_version": "1.5.0",
      "_model_name": "ToggleButtonModel",
      "_view_count": null,
      "_view_module": "@jupyter-widgets/controls",
      "_view_module_version": "1.5.0",
      "_view_name": "ToggleButtonView",
      "button_style": "",
      "description": "",
      "description_tooltip": null,
      "disabled": false,
      "icon": "wrench",
      "layout": "IPY_MODEL_fbcbc9c5bf19430f8d1a2d41301925cf",
      "style": "IPY_MODEL_529ffaebdc0a4f06bbd3f9bb1ef21376",
      "tooltip": "Toolbar",
      "value": false
     }
    },
    "783128da1be8462aa17ad9039de61b9d": {
     "model_module": "jupyter-leaflet",
     "model_module_version": "^0.17",
     "model_name": "LeafletWidgetControlModel",
     "state": {
      "_model_module": "jupyter-leaflet",
      "_model_module_version": "^0.17",
      "_model_name": "LeafletWidgetControlModel",
      "_view_count": null,
      "_view_module": "jupyter-leaflet",
      "_view_module_version": "^0.17",
      "_view_name": "LeafletWidgetControlView",
      "max_height": null,
      "max_width": null,
      "min_height": null,
      "min_width": null,
      "options": [
       "position",
       "transparent_bg"
      ],
      "position": "topright",
      "transparent_bg": false,
      "widget": "IPY_MODEL_ed8c17843c2c4d12bd703f775b108901"
     }
    },
    "7a4649911a164119b430696e00aeaff1": {
     "model_module": "jupyter-leaflet",
     "model_module_version": "^0.17",
     "model_name": "LeafletScaleControlModel",
     "state": {
      "_model_module": "jupyter-leaflet",
      "_model_module_version": "^0.17",
      "_model_name": "LeafletScaleControlModel",
      "_view_count": null,
      "_view_module": "jupyter-leaflet",
      "_view_module_version": "^0.17",
      "_view_name": "LeafletScaleControlView",
      "imperial": true,
      "max_width": 100,
      "metric": true,
      "options": [
       "imperial",
       "max_width",
       "metric",
       "position",
       "update_when_idle"
      ],
      "position": "bottomleft",
      "update_when_idle": false
     }
    },
    "7aea1b9eb47a477bbf7f214b6b9b91a6": {
     "model_module": "jupyter-leaflet",
     "model_module_version": "^0.17",
     "model_name": "LeafletWidgetControlModel",
     "state": {
      "_model_module": "jupyter-leaflet",
      "_model_module_version": "^0.17",
      "_model_name": "LeafletWidgetControlModel",
      "_view_count": null,
      "_view_module": "jupyter-leaflet",
      "_view_module_version": "^0.17",
      "_view_name": "LeafletWidgetControlView",
      "max_height": null,
      "max_width": null,
      "min_height": null,
      "min_width": null,
      "options": [
       "position",
       "transparent_bg"
      ],
      "position": "topright",
      "transparent_bg": false,
      "widget": "IPY_MODEL_d2eec675f6ab4c44a77d0752bd7418e7"
     }
    },
    "7b50e007a4af4c09b194389ff22fdc29": {
     "model_module": "@jupyter-widgets/base",
     "model_module_version": "1.2.0",
     "model_name": "LayoutModel",
     "state": {
      "_model_module": "@jupyter-widgets/base",
      "_model_module_version": "1.2.0",
      "_model_name": "LayoutModel",
      "_view_count": null,
      "_view_module": "@jupyter-widgets/base",
      "_view_module_version": "1.2.0",
      "_view_name": "LayoutView",
      "align_content": null,
      "align_items": null,
      "align_self": null,
      "border": null,
      "bottom": null,
      "display": null,
      "flex": null,
      "flex_flow": null,
      "grid_area": null,
      "grid_auto_columns": null,
      "grid_auto_flow": null,
      "grid_auto_rows": null,
      "grid_column": null,
      "grid_gap": null,
      "grid_row": null,
      "grid_template_areas": null,
      "grid_template_columns": null,
      "grid_template_rows": null,
      "height": "28px",
      "justify_content": null,
      "justify_items": null,
      "left": null,
      "margin": null,
      "max_height": null,
      "max_width": null,
      "min_height": null,
      "min_width": null,
      "object_fit": null,
      "object_position": null,
      "order": null,
      "overflow": null,
      "overflow_x": null,
      "overflow_y": null,
      "padding": "0px 0px 0px 4px",
      "right": null,
      "top": null,
      "visibility": null,
      "width": "28px"
     }
    },
    "7b9b67ca79774e57880465e4a72014ea": {
     "model_module": "jupyter-leaflet",
     "model_module_version": "^0.17",
     "model_name": "LeafletLayersControlModel",
     "state": {
      "_model_module": "jupyter-leaflet",
      "_model_module_version": "^0.17",
      "_model_name": "LeafletLayersControlModel",
      "_view_count": null,
      "_view_module": "jupyter-leaflet",
      "_view_module_version": "^0.17",
      "_view_name": "LeafletLayersControlView",
      "options": [
       "position"
      ],
      "position": "topright"
     }
    },
    "7e1a53acbf2e49d4b76df7cc815c7059": {
     "model_module": "@jupyter-widgets/controls",
     "model_module_version": "1.5.0",
     "model_name": "ToggleButtonModel",
     "state": {
      "_dom_classes": [],
      "_model_module": "@jupyter-widgets/controls",
      "_model_module_version": "1.5.0",
      "_model_name": "ToggleButtonModel",
      "_view_count": null,
      "_view_module": "@jupyter-widgets/controls",
      "_view_module_version": "1.5.0",
      "_view_name": "ToggleButtonView",
      "button_style": "",
      "description": "",
      "description_tooltip": null,
      "disabled": false,
      "icon": "globe",
      "layout": "IPY_MODEL_b3104878232146b6a2a4fd588d75d043",
      "style": "IPY_MODEL_c1cb867e70e84b4792e9ad81e6541058",
      "tooltip": "Search location/data",
      "value": false
     }
    },
    "7fcc8d9c503f49bcb899221bb695ef01": {
     "model_module": "@jupyter-widgets/base",
     "model_module_version": "1.2.0",
     "model_name": "LayoutModel",
     "state": {
      "_model_module": "@jupyter-widgets/base",
      "_model_module_version": "1.2.0",
      "_model_name": "LayoutModel",
      "_view_count": null,
      "_view_module": "@jupyter-widgets/base",
      "_view_module_version": "1.2.0",
      "_view_name": "LayoutView",
      "align_content": null,
      "align_items": null,
      "align_self": null,
      "border": null,
      "bottom": null,
      "display": null,
      "flex": null,
      "flex_flow": null,
      "grid_area": null,
      "grid_auto_columns": null,
      "grid_auto_flow": null,
      "grid_auto_rows": null,
      "grid_column": null,
      "grid_gap": null,
      "grid_row": null,
      "grid_template_areas": null,
      "grid_template_columns": null,
      "grid_template_rows": null,
      "height": "28px",
      "justify_content": null,
      "justify_items": null,
      "left": null,
      "margin": null,
      "max_height": null,
      "max_width": null,
      "min_height": null,
      "min_width": null,
      "object_fit": null,
      "object_position": null,
      "order": null,
      "overflow": null,
      "overflow_x": null,
      "overflow_y": null,
      "padding": "0px 0px 0px 4px",
      "right": null,
      "top": null,
      "visibility": null,
      "width": "28px"
     }
    },
    "8178dad4cd704483ade30f85bef2c94d": {
     "model_module": "jupyter-leaflet",
     "model_module_version": "^0.17",
     "model_name": "LeafletMapStyleModel",
     "state": {
      "_model_module": "jupyter-leaflet",
      "_model_module_version": "^0.17",
      "_model_name": "LeafletMapStyleModel",
      "_view_count": null,
      "_view_module": "@jupyter-widgets/base",
      "_view_module_version": "1.2.0",
      "_view_name": "StyleView",
      "cursor": "move"
     }
    },
    "835c9477187b402e974df29894ffc691": {
     "model_module": "@jupyter-widgets/base",
     "model_module_version": "1.2.0",
     "model_name": "LayoutModel",
     "state": {
      "_model_module": "@jupyter-widgets/base",
      "_model_module_version": "1.2.0",
      "_model_name": "LayoutModel",
      "_view_count": null,
      "_view_module": "@jupyter-widgets/base",
      "_view_module_version": "1.2.0",
      "_view_name": "LayoutView",
      "align_content": null,
      "align_items": null,
      "align_self": null,
      "border": null,
      "bottom": null,
      "display": null,
      "flex": null,
      "flex_flow": null,
      "grid_area": null,
      "grid_auto_columns": null,
      "grid_auto_flow": null,
      "grid_auto_rows": null,
      "grid_column": null,
      "grid_gap": null,
      "grid_row": null,
      "grid_template_areas": null,
      "grid_template_columns": null,
      "grid_template_rows": null,
      "height": "28px",
      "justify_content": null,
      "justify_items": null,
      "left": null,
      "margin": null,
      "max_height": null,
      "max_width": null,
      "min_height": null,
      "min_width": null,
      "object_fit": null,
      "object_position": null,
      "order": null,
      "overflow": null,
      "overflow_x": null,
      "overflow_y": null,
      "padding": "0px 0px 0px 4px",
      "right": null,
      "top": null,
      "visibility": null,
      "width": "28px"
     }
    },
    "863e929a3d0641cba7d1b518d1da17a0": {
     "model_module": "@jupyter-widgets/base",
     "model_module_version": "1.2.0",
     "model_name": "LayoutModel",
     "state": {
      "_model_module": "@jupyter-widgets/base",
      "_model_module_version": "1.2.0",
      "_model_name": "LayoutModel",
      "_view_count": null,
      "_view_module": "@jupyter-widgets/base",
      "_view_module_version": "1.2.0",
      "_view_name": "LayoutView",
      "align_content": null,
      "align_items": null,
      "align_self": null,
      "border": null,
      "bottom": null,
      "display": null,
      "flex": null,
      "flex_flow": null,
      "grid_area": null,
      "grid_auto_columns": null,
      "grid_auto_flow": null,
      "grid_auto_rows": null,
      "grid_column": null,
      "grid_gap": null,
      "grid_row": null,
      "grid_template_areas": null,
      "grid_template_columns": null,
      "grid_template_rows": null,
      "height": null,
      "justify_content": null,
      "justify_items": null,
      "left": null,
      "margin": null,
      "max_height": null,
      "max_width": null,
      "min_height": null,
      "min_width": null,
      "object_fit": null,
      "object_position": null,
      "order": null,
      "overflow": null,
      "overflow_x": null,
      "overflow_y": null,
      "padding": null,
      "right": null,
      "top": null,
      "visibility": null,
      "width": null
     }
    },
    "88fb8b0430c446e19938925468f15844": {
     "model_module": "jupyter-leaflet",
     "model_module_version": "^0.17",
     "model_name": "LeafletWidgetControlModel",
     "state": {
      "_model_module": "jupyter-leaflet",
      "_model_module_version": "^0.17",
      "_model_name": "LeafletWidgetControlModel",
      "_view_count": null,
      "_view_module": "jupyter-leaflet",
      "_view_module_version": "^0.17",
      "_view_name": "LeafletWidgetControlView",
      "max_height": null,
      "max_width": null,
      "min_height": null,
      "min_width": null,
      "options": [
       "position",
       "transparent_bg"
      ],
      "position": "topright",
      "transparent_bg": false,
      "widget": "IPY_MODEL_f9eb8293a96a4dd5bfc002fc18de6350"
     }
    },
    "8a29c06bb16a418da4924fc627ca43e6": {
     "model_module": "jupyter-leaflet",
     "model_module_version": "^0.17",
     "model_name": "LeafletMapStyleModel",
     "state": {
      "_model_module": "jupyter-leaflet",
      "_model_module_version": "^0.17",
      "_model_name": "LeafletMapStyleModel",
      "_view_count": null,
      "_view_module": "@jupyter-widgets/base",
      "_view_module_version": "1.2.0",
      "_view_name": "StyleView",
      "cursor": "grab"
     }
    },
    "8a6838ea07b5415993247236856ed7e5": {
     "model_module": "@jupyter-widgets/base",
     "model_module_version": "1.2.0",
     "model_name": "LayoutModel",
     "state": {
      "_model_module": "@jupyter-widgets/base",
      "_model_module_version": "1.2.0",
      "_model_name": "LayoutModel",
      "_view_count": null,
      "_view_module": "@jupyter-widgets/base",
      "_view_module_version": "1.2.0",
      "_view_name": "LayoutView",
      "align_content": null,
      "align_items": null,
      "align_self": null,
      "border": null,
      "bottom": null,
      "display": null,
      "flex": null,
      "flex_flow": null,
      "grid_area": null,
      "grid_auto_columns": null,
      "grid_auto_flow": null,
      "grid_auto_rows": null,
      "grid_column": null,
      "grid_gap": null,
      "grid_row": null,
      "grid_template_areas": null,
      "grid_template_columns": null,
      "grid_template_rows": null,
      "height": "28px",
      "justify_content": null,
      "justify_items": null,
      "left": null,
      "margin": null,
      "max_height": null,
      "max_width": null,
      "min_height": null,
      "min_width": null,
      "object_fit": null,
      "object_position": null,
      "order": null,
      "overflow": null,
      "overflow_x": null,
      "overflow_y": null,
      "padding": "0px 0px 0px 4px",
      "right": null,
      "top": null,
      "visibility": null,
      "width": "28px"
     }
    },
    "8b22d7b13bef4bd3b011cccdb5a29eb2": {
     "model_module": "@jupyter-widgets/controls",
     "model_module_version": "1.5.0",
     "model_name": "ToggleButtonModel",
     "state": {
      "_dom_classes": [],
      "_model_module": "@jupyter-widgets/controls",
      "_model_module_version": "1.5.0",
      "_model_name": "ToggleButtonModel",
      "_view_count": null,
      "_view_module": "@jupyter-widgets/controls",
      "_view_module_version": "1.5.0",
      "_view_name": "ToggleButtonView",
      "button_style": "",
      "description": "",
      "description_tooltip": null,
      "disabled": false,
      "icon": "globe",
      "layout": "IPY_MODEL_7fcc8d9c503f49bcb899221bb695ef01",
      "style": "IPY_MODEL_30a1c09c50d84c44bd59adde18199bb7",
      "tooltip": "Search location/data",
      "value": false
     }
    },
    "8b25406c388d42e1bca61dcac8380c3a": {
     "model_module": "@jupyter-widgets/base",
     "model_module_version": "1.2.0",
     "model_name": "LayoutModel",
     "state": {
      "_model_module": "@jupyter-widgets/base",
      "_model_module_version": "1.2.0",
      "_model_name": "LayoutModel",
      "_view_count": null,
      "_view_module": "@jupyter-widgets/base",
      "_view_module_version": "1.2.0",
      "_view_name": "LayoutView",
      "align_content": null,
      "align_items": null,
      "align_self": null,
      "border": null,
      "bottom": null,
      "display": null,
      "flex": null,
      "flex_flow": null,
      "grid_area": null,
      "grid_auto_columns": null,
      "grid_auto_flow": null,
      "grid_auto_rows": null,
      "grid_column": null,
      "grid_gap": null,
      "grid_row": null,
      "grid_template_areas": null,
      "grid_template_columns": null,
      "grid_template_rows": null,
      "height": null,
      "justify_content": null,
      "justify_items": null,
      "left": null,
      "margin": null,
      "max_height": null,
      "max_width": null,
      "min_height": null,
      "min_width": null,
      "object_fit": null,
      "object_position": null,
      "order": null,
      "overflow": null,
      "overflow_x": null,
      "overflow_y": null,
      "padding": null,
      "right": null,
      "top": null,
      "visibility": null,
      "width": null
     }
    },
    "8cfce8b96a164882baeb732da8d92a7a": {
     "model_module": "@jupyter-widgets/controls",
     "model_module_version": "1.5.0",
     "model_name": "ToggleButtonModel",
     "state": {
      "_dom_classes": [],
      "_model_module": "@jupyter-widgets/controls",
      "_model_module_version": "1.5.0",
      "_model_name": "ToggleButtonModel",
      "_view_count": null,
      "_view_module": "@jupyter-widgets/controls",
      "_view_module_version": "1.5.0",
      "_view_name": "ToggleButtonView",
      "button_style": "",
      "description": "",
      "description_tooltip": null,
      "disabled": false,
      "icon": "globe",
      "layout": "IPY_MODEL_e309470379644ddda638c4413ac66688",
      "style": "IPY_MODEL_74c3dfb6696547a1b4217d5358e54034",
      "tooltip": "Search location/data",
      "value": false
     }
    },
    "8eac7c8730274547801235ed01cb94be": {
     "model_module": "jupyter-leaflet",
     "model_module_version": "^0.17",
     "model_name": "LeafletMapModel",
     "state": {
      "_dom_classes": [],
      "_model_module": "jupyter-leaflet",
      "_model_module_version": "^0.17",
      "_model_name": "LeafletMapModel",
      "_view_count": null,
      "_view_module": "jupyter-leaflet",
      "_view_module_version": "^0.17",
      "_view_name": "LeafletMapView",
      "bottom": 432315,
      "bounce_at_zoom_limits": true,
      "box_zoom": true,
      "center": [
       30.178670100631035,
       -85.39278030395509
      ],
      "close_popup_on_click": true,
      "controls": [
       "IPY_MODEL_5430285ded044282b22c160b1211fe58",
       "IPY_MODEL_caae665d010e4ff79859f17110ac574b",
       "IPY_MODEL_1106cc01acd049fabf73fad788b278c4",
       "IPY_MODEL_f27f8f9d689947f9ad0ea928474d7950",
       "IPY_MODEL_2a070909070c473fa0d835b719f13d8d",
       "IPY_MODEL_3768442ae4ba46c58a84809a4442e9d7",
       "IPY_MODEL_f2801ec8634148d7aca23ec6b4d8c4ef",
       "IPY_MODEL_0db12e7936f8483ca80639b76b7b79a4",
       "IPY_MODEL_ec0988bd9b4f4ca98d8b364ae7009e78"
      ],
      "crs": {
       "custom": false,
       "name": "EPSG3857"
      },
      "default_style": "IPY_MODEL_c84b735af856485c8d6a1c440ebee8f1",
      "double_click_zoom": true,
      "dragging": true,
      "dragging_style": "IPY_MODEL_d1f780d58962428ea7060827a1c804c4",
      "east": -85.02662658691408,
      "fullscreen": false,
      "inertia": true,
      "inertia_deceleration": 3000,
      "inertia_max_speed": 1500,
      "interpolation": "bilinear",
      "keyboard": true,
      "keyboard_pan_offset": 80,
      "keyboard_zoom_offset": 1,
      "layers": [
       "IPY_MODEL_c8bd1dc128894cf79c5d8000cc752ebc",
       "IPY_MODEL_9999149b8e0940a0a77176d1f66ac32a",
       "IPY_MODEL_22bdb65ef4b2441aa96b3fb506fbf5fb",
       "IPY_MODEL_6ea6de6b26fc435f87ae8cc089a1afea",
       "IPY_MODEL_ee08022502694217aceedfc57169eff9",
       "IPY_MODEL_d76f1be06e5c4b558752c27ab40ab49f"
      ],
      "layout": "IPY_MODEL_f5edbf6b53504503a894e220b6d16c81",
      "left": 274497,
      "max_zoom": 24,
      "min_zoom": null,
      "modisdate": "2023-09-14",
      "north": 30.267666689956158,
      "options": [
       "bounce_at_zoom_limits",
       "box_zoom",
       "center",
       "close_popup_on_click",
       "double_click_zoom",
       "dragging",
       "fullscreen",
       "inertia",
       "inertia_deceleration",
       "inertia_max_speed",
       "interpolation",
       "keyboard",
       "keyboard_pan_offset",
       "keyboard_zoom_offset",
       "max_zoom",
       "min_zoom",
       "prefer_canvas",
       "scroll_wheel_zoom",
       "tap",
       "tap_tolerance",
       "touch_zoom",
       "world_copy_jump",
       "zoom",
       "zoom_animation_threshold",
       "zoom_delta",
       "zoom_snap"
      ],
      "panes": {},
      "prefer_canvas": false,
      "right": 276630,
      "scroll_wheel_zoom": true,
      "south": 30.089593051709105,
      "style": "IPY_MODEL_c84b735af856485c8d6a1c440ebee8f1",
      "tap": true,
      "tap_tolerance": 15,
      "top": 431715,
      "touch_zoom": true,
      "west": -85.7589340209961,
      "window_url": "https://0yfe0deel58f-496ff2e9c6d22116-0-colab.googleusercontent.com/outputframe.html?vrz=colab_20230914-060107_RC00_565327706",
      "world_copy_jump": false,
      "zoom": 12,
      "zoom_animation_threshold": 4,
      "zoom_delta": 1,
      "zoom_snap": 1
     }
    },
    "8f122eaa06ba438dadb194a9ac1adfad": {
     "model_module": "jupyter-leaflet",
     "model_module_version": "^0.17",
     "model_name": "LeafletWidgetControlModel",
     "state": {
      "_model_module": "jupyter-leaflet",
      "_model_module_version": "^0.17",
      "_model_name": "LeafletWidgetControlModel",
      "_view_count": null,
      "_view_module": "jupyter-leaflet",
      "_view_module_version": "^0.17",
      "_view_name": "LeafletWidgetControlView",
      "max_height": null,
      "max_width": null,
      "min_height": null,
      "min_width": null,
      "options": [
       "position",
       "transparent_bg"
      ],
      "position": "topleft",
      "transparent_bg": false,
      "widget": "IPY_MODEL_c761e2243e7b4d83a1969fdaf4b93a24"
     }
    },
    "8f33ddb38eee4c9a9696ec5874f985e6": {
     "model_module": "jupyter-leaflet",
     "model_module_version": "^0.17",
     "model_name": "LeafletTileLayerModel",
     "state": {
      "_model_module": "jupyter-leaflet",
      "_model_module_version": "^0.17",
      "_model_name": "LeafletTileLayerModel",
      "_view_count": null,
      "_view_module": "jupyter-leaflet",
      "_view_module_version": "^0.17",
      "_view_name": "LeafletTileLayerView",
      "attribution": "&copy; <a href=\"https://www.openstreetmap.org/copyright\">OpenStreetMap</a> contributors",
      "base": true,
      "bottom": true,
      "bounds": null,
      "detect_retina": false,
      "loading": false,
      "max_native_zoom": null,
      "max_zoom": 19,
      "min_native_zoom": null,
      "min_zoom": 1,
      "name": "OpenStreetMap.Mapnik",
      "no_wrap": false,
      "opacity": 1,
      "options": [
       "attribution",
       "bounds",
       "detect_retina",
       "max_native_zoom",
       "max_zoom",
       "min_native_zoom",
       "min_zoom",
       "no_wrap",
       "tile_size",
       "tms",
       "zoom_offset"
      ],
      "pane": "",
      "popup": null,
      "popup_max_height": null,
      "popup_max_width": 300,
      "popup_min_width": 50,
      "show_loading": false,
      "subitems": [],
      "tile_size": 256,
      "tms": false,
      "url": "https://tile.openstreetmap.org/{z}/{x}/{y}.png",
      "visible": true,
      "zoom_offset": 0
     }
    },
    "903031c55f11412c85c5f419f9340bd3": {
     "model_module": "@jupyter-widgets/base",
     "model_module_version": "1.2.0",
     "model_name": "LayoutModel",
     "state": {
      "_model_module": "@jupyter-widgets/base",
      "_model_module_version": "1.2.0",
      "_model_name": "LayoutModel",
      "_view_count": null,
      "_view_module": "@jupyter-widgets/base",
      "_view_module_version": "1.2.0",
      "_view_name": "LayoutView",
      "align_content": null,
      "align_items": null,
      "align_self": null,
      "border": null,
      "bottom": null,
      "display": null,
      "flex": null,
      "flex_flow": null,
      "grid_area": null,
      "grid_auto_columns": null,
      "grid_auto_flow": null,
      "grid_auto_rows": null,
      "grid_column": null,
      "grid_gap": null,
      "grid_row": null,
      "grid_template_areas": null,
      "grid_template_columns": null,
      "grid_template_rows": null,
      "height": null,
      "justify_content": null,
      "justify_items": null,
      "left": null,
      "margin": null,
      "max_height": null,
      "max_width": null,
      "min_height": null,
      "min_width": null,
      "object_fit": null,
      "object_position": null,
      "order": null,
      "overflow": null,
      "overflow_x": null,
      "overflow_y": null,
      "padding": null,
      "right": null,
      "top": null,
      "visibility": null,
      "width": null
     }
    },
    "90c24ba9f8314b2dafb944896306a3aa": {
     "model_module": "@jupyter-widgets/controls",
     "model_module_version": "1.5.0",
     "model_name": "ToggleButtonModel",
     "state": {
      "_dom_classes": [],
      "_model_module": "@jupyter-widgets/controls",
      "_model_module_version": "1.5.0",
      "_model_name": "ToggleButtonModel",
      "_view_count": null,
      "_view_module": "@jupyter-widgets/controls",
      "_view_module_version": "1.5.0",
      "_view_name": "ToggleButtonView",
      "button_style": "",
      "description": "",
      "description_tooltip": null,
      "disabled": false,
      "icon": "wrench",
      "layout": "IPY_MODEL_c703e1cd35a744809fb731528118d40f",
      "style": "IPY_MODEL_2e509ecb52904d1bb228fba441183a6d",
      "tooltip": "Toolbar",
      "value": false
     }
    },
    "90c86d56b323498eb774488596b8b0e1": {
     "model_module": "jupyter-leaflet",
     "model_module_version": "^0.17",
     "model_name": "LeafletTileLayerModel",
     "state": {
      "_model_module": "jupyter-leaflet",
      "_model_module_version": "^0.17",
      "_model_name": "LeafletTileLayerModel",
      "_view_count": null,
      "_view_module": "jupyter-leaflet",
      "_view_module_version": "^0.17",
      "_view_name": "LeafletTileLayerView",
      "attribution": "&copy; <a href=\"https://www.openstreetmap.org/copyright\">OpenStreetMap</a> contributors",
      "base": true,
      "bottom": true,
      "bounds": null,
      "detect_retina": false,
      "loading": false,
      "max_native_zoom": null,
      "max_zoom": 19,
      "min_native_zoom": null,
      "min_zoom": 1,
      "name": "OpenStreetMap.Mapnik",
      "no_wrap": false,
      "opacity": 1,
      "options": [
       "attribution",
       "bounds",
       "detect_retina",
       "max_native_zoom",
       "max_zoom",
       "min_native_zoom",
       "min_zoom",
       "no_wrap",
       "tile_size",
       "tms",
       "zoom_offset"
      ],
      "pane": "",
      "popup": null,
      "popup_max_height": null,
      "popup_max_width": 300,
      "popup_min_width": 50,
      "show_loading": false,
      "subitems": [],
      "tile_size": 256,
      "tms": false,
      "url": "https://tile.openstreetmap.org/{z}/{x}/{y}.png",
      "visible": true,
      "zoom_offset": 0
     }
    },
    "90e3de7fee0c41529ffa815abdb77f85": {
     "model_module": "jupyter-leaflet",
     "model_module_version": "^0.17",
     "model_name": "LeafletLayersControlModel",
     "state": {
      "_model_module": "jupyter-leaflet",
      "_model_module_version": "^0.17",
      "_model_name": "LeafletLayersControlModel",
      "_view_count": null,
      "_view_module": "jupyter-leaflet",
      "_view_module_version": "^0.17",
      "_view_name": "LeafletLayersControlView",
      "options": [
       "position"
      ],
      "position": "topright"
     }
    },
    "92520206748247ab84a405673559cb61": {
     "model_module": "jupyter-leaflet",
     "model_module_version": "^0.17",
     "model_name": "LeafletMapModel",
     "state": {
      "_dom_classes": [],
      "_model_module": "jupyter-leaflet",
      "_model_module_version": "^0.17",
      "_model_name": "LeafletMapModel",
      "_view_count": null,
      "_view_module": "jupyter-leaflet",
      "_view_module_version": "^0.17",
      "_view_name": "LeafletMapView",
      "bottom": 6913681,
      "bounce_at_zoom_limits": true,
      "box_zoom": true,
      "center": [
       30.157498389904134,
       -85.66015899181367
      ],
      "close_popup_on_click": true,
      "controls": [
       "IPY_MODEL_fc8b2fb8ad834943b91a51f1ca666e7d",
       "IPY_MODEL_9998526c4ebc47dda316b47523b25b04",
       "IPY_MODEL_7339eb16e0b841c9be0250a992194e97",
       "IPY_MODEL_dc17ea32b7f64d3fb867c2d8c5dc212c",
       "IPY_MODEL_23153677e13e4e5b8071f96cfb1b8aee",
       "IPY_MODEL_16c0af3a21134fe7913e4922b3fcfb6a",
       "IPY_MODEL_184260d296ed4dba9deb68a9b71d1ae2",
       "IPY_MODEL_b0a1456b6aca4871aaae06625ebe33d6",
       "IPY_MODEL_eceffdd0088f42d3a2efac0dd410fddd"
      ],
      "crs": {
       "custom": false,
       "name": "EPSG3857"
      },
      "default_style": "IPY_MODEL_01cd1d5856dc43f9af169ef309aedd71",
      "double_click_zoom": true,
      "dragging": true,
      "dragging_style": "IPY_MODEL_1319b34553dc4626a9e35625f2a2c148",
      "east": -85.63726902008058,
      "fullscreen": false,
      "inertia": true,
      "inertia_deceleration": 3000,
      "inertia_max_speed": 1500,
      "interpolation": "bilinear",
      "keyboard": true,
      "keyboard_pan_offset": 80,
      "keyboard_zoom_offset": 1,
      "layers": [
       "IPY_MODEL_add07dd823714a25a1821c1d7b8749e4",
       "IPY_MODEL_ee4dc65bd6384d789ac3348a771da2fb",
       "IPY_MODEL_f486ad123ba04214aba5bd3ae0a20ed8",
       "IPY_MODEL_17beb225a5ac4d9cba0033091009871a",
       "IPY_MODEL_6450d734a541483f8f7d5292bc2667f2"
      ],
      "layout": "IPY_MODEL_a214ad74d0f140b9b8b6e3fb9cdd51e1",
      "left": 4395489,
      "max_zoom": 24,
      "min_zoom": null,
      "modisdate": "2023-09-14",
      "north": 30.163068868945324,
      "options": [
       "bounce_at_zoom_limits",
       "box_zoom",
       "center",
       "close_popup_on_click",
       "double_click_zoom",
       "dragging",
       "fullscreen",
       "inertia",
       "inertia_deceleration",
       "inertia_max_speed",
       "interpolation",
       "keyboard",
       "keyboard_pan_offset",
       "keyboard_zoom_offset",
       "max_zoom",
       "min_zoom",
       "prefer_canvas",
       "scroll_wheel_zoom",
       "tap",
       "tap_tolerance",
       "touch_zoom",
       "world_copy_jump",
       "zoom",
       "zoom_animation_threshold",
       "zoom_delta",
       "zoom_snap"
      ],
      "panes": {},
      "prefer_canvas": false,
      "right": 4397622,
      "scroll_wheel_zoom": true,
      "south": 30.15193687336279,
      "style": "IPY_MODEL_01cd1d5856dc43f9af169ef309aedd71",
      "tap": true,
      "tap_tolerance": 15,
      "top": 6913081,
      "touch_zoom": true,
      "west": -85.68303823471071,
      "window_url": "https://0yfe0deel58f-496ff2e9c6d22116-0-colab.googleusercontent.com/outputframe.html?vrz=colab_20230914-060107_RC00_565327706",
      "world_copy_jump": false,
      "zoom": 16,
      "zoom_animation_threshold": 4,
      "zoom_delta": 1,
      "zoom_snap": 1
     }
    },
    "92f87ee36eef4910bc75eaa595949fdb": {
     "model_module": "jupyter-leaflet",
     "model_module_version": "^0.17",
     "model_name": "LeafletMapStyleModel",
     "state": {
      "_model_module": "jupyter-leaflet",
      "_model_module_version": "^0.17",
      "_model_name": "LeafletMapStyleModel",
      "_view_count": null,
      "_view_module": "@jupyter-widgets/base",
      "_view_module_version": "1.2.0",
      "_view_name": "StyleView",
      "cursor": "grab"
     }
    },
    "936932d4bcb94952818e92e87d1901f9": {
     "model_module": "jupyter-leaflet",
     "model_module_version": "^0.17",
     "model_name": "LeafletLayersControlModel",
     "state": {
      "_model_module": "jupyter-leaflet",
      "_model_module_version": "^0.17",
      "_model_name": "LeafletLayersControlModel",
      "_view_count": null,
      "_view_module": "jupyter-leaflet",
      "_view_module_version": "^0.17",
      "_view_name": "LeafletLayersControlView",
      "options": [
       "position"
      ],
      "position": "topright"
     }
    },
    "9657eef3c9cc49258f3529fad2001820": {
     "model_module": "@jupyter-widgets/base",
     "model_module_version": "1.2.0",
     "model_name": "LayoutModel",
     "state": {
      "_model_module": "@jupyter-widgets/base",
      "_model_module_version": "1.2.0",
      "_model_name": "LayoutModel",
      "_view_count": null,
      "_view_module": "@jupyter-widgets/base",
      "_view_module_version": "1.2.0",
      "_view_name": "LayoutView",
      "align_content": null,
      "align_items": null,
      "align_self": null,
      "border": null,
      "bottom": null,
      "display": null,
      "flex": null,
      "flex_flow": null,
      "grid_area": null,
      "grid_auto_columns": null,
      "grid_auto_flow": null,
      "grid_auto_rows": null,
      "grid_column": null,
      "grid_gap": null,
      "grid_row": null,
      "grid_template_areas": null,
      "grid_template_columns": null,
      "grid_template_rows": null,
      "height": null,
      "justify_content": null,
      "justify_items": null,
      "left": null,
      "margin": null,
      "max_height": null,
      "max_width": null,
      "min_height": null,
      "min_width": null,
      "object_fit": null,
      "object_position": null,
      "order": null,
      "overflow": null,
      "overflow_x": null,
      "overflow_y": null,
      "padding": null,
      "right": null,
      "top": null,
      "visibility": null,
      "width": null
     }
    },
    "987a2dd14f9242e2857bab5aba7bcc93": {
     "model_module": "@jupyter-widgets/controls",
     "model_module_version": "1.5.0",
     "model_name": "DescriptionStyleModel",
     "state": {
      "_model_module": "@jupyter-widgets/controls",
      "_model_module_version": "1.5.0",
      "_model_name": "DescriptionStyleModel",
      "_view_count": null,
      "_view_module": "@jupyter-widgets/base",
      "_view_module_version": "1.2.0",
      "_view_name": "StyleView",
      "description_width": ""
     }
    },
    "9998526c4ebc47dda316b47523b25b04": {
     "model_module": "jupyter-leaflet",
     "model_module_version": "^0.17",
     "model_name": "LeafletZoomControlModel",
     "state": {
      "_model_module": "jupyter-leaflet",
      "_model_module_version": "^0.17",
      "_model_name": "LeafletZoomControlModel",
      "_view_count": null,
      "_view_module": "jupyter-leaflet",
      "_view_module_version": "^0.17",
      "_view_name": "LeafletZoomControlView",
      "options": [
       "position",
       "zoom_in_text",
       "zoom_in_title",
       "zoom_out_text",
       "zoom_out_title"
      ],
      "position": "topleft",
      "zoom_in_text": "+",
      "zoom_in_title": "Zoom in",
      "zoom_out_text": "-",
      "zoom_out_title": "Zoom out"
     }
    },
    "9999149b8e0940a0a77176d1f66ac32a": {
     "model_module": "jupyter-leaflet",
     "model_module_version": "^0.17",
     "model_name": "LeafletTileLayerModel",
     "state": {
      "_model_module": "jupyter-leaflet",
      "_model_module_version": "^0.17",
      "_model_name": "LeafletTileLayerModel",
      "_view_count": null,
      "_view_module": "jupyter-leaflet",
      "_view_module_version": "^0.17",
      "_view_name": "LeafletTileLayerView",
      "attribution": "Google Earth Engine",
      "base": false,
      "bottom": true,
      "bounds": null,
      "detect_retina": false,
      "loading": false,
      "max_native_zoom": null,
      "max_zoom": 24,
      "min_native_zoom": null,
      "min_zoom": 0,
      "name": "preFire",
      "no_wrap": false,
      "opacity": 1,
      "options": [
       "attribution",
       "bounds",
       "detect_retina",
       "max_native_zoom",
       "max_zoom",
       "min_native_zoom",
       "min_zoom",
       "no_wrap",
       "tile_size",
       "tms",
       "zoom_offset"
      ],
      "pane": "",
      "popup": null,
      "popup_max_height": null,
      "popup_max_width": 300,
      "popup_min_width": 50,
      "show_loading": false,
      "subitems": [],
      "tile_size": 256,
      "tms": false,
      "url": "https://earthengine.googleapis.com/v1/projects/earthengine-legacy/maps/d1a0c5bb75bd6d934f48431c5f454e7f-1907444374c93b2067ca3afbafc39079/tiles/{z}/{x}/{y}",
      "visible": true,
      "zoom_offset": 0
     }
    },
    "99bd336918ae42efb6fb88650b8d6ade": {
     "model_module": "@jupyter-widgets/base",
     "model_module_version": "1.2.0",
     "model_name": "LayoutModel",
     "state": {
      "_model_module": "@jupyter-widgets/base",
      "_model_module_version": "1.2.0",
      "_model_name": "LayoutModel",
      "_view_count": null,
      "_view_module": "@jupyter-widgets/base",
      "_view_module_version": "1.2.0",
      "_view_name": "LayoutView",
      "align_content": null,
      "align_items": null,
      "align_self": null,
      "border": null,
      "bottom": null,
      "display": null,
      "flex": null,
      "flex_flow": null,
      "grid_area": null,
      "grid_auto_columns": null,
      "grid_auto_flow": null,
      "grid_auto_rows": null,
      "grid_column": null,
      "grid_gap": null,
      "grid_row": null,
      "grid_template_areas": null,
      "grid_template_columns": null,
      "grid_template_rows": null,
      "height": null,
      "justify_content": null,
      "justify_items": null,
      "left": null,
      "margin": null,
      "max_height": null,
      "max_width": null,
      "min_height": null,
      "min_width": null,
      "object_fit": null,
      "object_position": null,
      "order": null,
      "overflow": null,
      "overflow_x": null,
      "overflow_y": null,
      "padding": null,
      "right": null,
      "top": null,
      "visibility": null,
      "width": null
     }
    },
    "9a20647d62034e238eb276e879f710f6": {
     "model_module": "jupyter-leaflet",
     "model_module_version": "^0.17",
     "model_name": "LeafletTileLayerModel",
     "state": {
      "_model_module": "jupyter-leaflet",
      "_model_module_version": "^0.17",
      "_model_name": "LeafletTileLayerModel",
      "_view_count": null,
      "_view_module": "jupyter-leaflet",
      "_view_module_version": "^0.17",
      "_view_name": "LeafletTileLayerView",
      "attribution": "Google Earth Engine",
      "base": false,
      "bottom": true,
      "bounds": null,
      "detect_retina": false,
      "loading": false,
      "max_native_zoom": null,
      "max_zoom": 24,
      "min_native_zoom": null,
      "min_zoom": 0,
      "name": "corR",
      "no_wrap": false,
      "opacity": 1,
      "options": [
       "attribution",
       "bounds",
       "detect_retina",
       "max_native_zoom",
       "max_zoom",
       "min_native_zoom",
       "min_zoom",
       "no_wrap",
       "tile_size",
       "tms",
       "zoom_offset"
      ],
      "pane": "",
      "popup": null,
      "popup_max_height": null,
      "popup_max_width": 300,
      "popup_min_width": 50,
      "show_loading": false,
      "subitems": [],
      "tile_size": 256,
      "tms": false,
      "url": "https://earthengine.googleapis.com/v1/projects/earthengine-legacy/maps/516e9451832379ef864b3ba36131cfe2-fcfe93eb90af80e1d412700bbf727ccf/tiles/{z}/{x}/{y}",
      "visible": true,
      "zoom_offset": 0
     }
    },
    "9af0166774ce4c9a890bb99fa06ae345": {
     "model_module": "@jupyter-widgets/base",
     "model_module_version": "1.2.0",
     "model_name": "LayoutModel",
     "state": {
      "_model_module": "@jupyter-widgets/base",
      "_model_module_version": "1.2.0",
      "_model_name": "LayoutModel",
      "_view_count": null,
      "_view_module": "@jupyter-widgets/base",
      "_view_module_version": "1.2.0",
      "_view_name": "LayoutView",
      "align_content": null,
      "align_items": null,
      "align_self": null,
      "border": null,
      "bottom": null,
      "display": null,
      "flex": null,
      "flex_flow": null,
      "grid_area": null,
      "grid_auto_columns": null,
      "grid_auto_flow": null,
      "grid_auto_rows": null,
      "grid_column": null,
      "grid_gap": null,
      "grid_row": null,
      "grid_template_areas": null,
      "grid_template_columns": null,
      "grid_template_rows": null,
      "height": null,
      "justify_content": null,
      "justify_items": null,
      "left": null,
      "margin": null,
      "max_height": null,
      "max_width": null,
      "min_height": null,
      "min_width": null,
      "object_fit": null,
      "object_position": null,
      "order": null,
      "overflow": null,
      "overflow_x": null,
      "overflow_y": null,
      "padding": null,
      "right": null,
      "top": null,
      "visibility": null,
      "width": null
     }
    },
    "9da6e8ca15c64b9cb2a2e161fe528d75": {
     "model_module": "jupyter-leaflet",
     "model_module_version": "^0.17",
     "model_name": "LeafletMeasureControlModel",
     "state": {
      "_custom_units": {},
      "_model_module": "jupyter-leaflet",
      "_model_module_version": "^0.17",
      "_model_name": "LeafletMeasureControlModel",
      "_view_count": null,
      "_view_module": "jupyter-leaflet",
      "_view_module_version": "^0.17",
      "_view_name": "LeafletMeasureControlView",
      "active_color": "orange",
      "capture_z_index": 10000,
      "completed_color": "#C8F2BE",
      "options": [
       "active_color",
       "capture_z_index",
       "completed_color",
       "popup_options",
       "position",
       "primary_area_unit",
       "primary_length_unit",
       "secondary_area_unit",
       "secondary_length_unit"
      ],
      "popup_options": {
       "autoPanPadding": [
        10,
        10
       ],
       "className": "leaflet-measure-resultpopup"
      },
      "position": "bottomleft",
      "primary_area_unit": "acres",
      "primary_length_unit": "kilometers",
      "secondary_area_unit": null,
      "secondary_length_unit": null
     }
    },
    "a054e5a249ee496d9a08ce1a0fc57cae": {
     "model_module": "@jupyter-widgets/base",
     "model_module_version": "1.2.0",
     "model_name": "LayoutModel",
     "state": {
      "_model_module": "@jupyter-widgets/base",
      "_model_module_version": "1.2.0",
      "_model_name": "LayoutModel",
      "_view_count": null,
      "_view_module": "@jupyter-widgets/base",
      "_view_module_version": "1.2.0",
      "_view_name": "LayoutView",
      "align_content": null,
      "align_items": null,
      "align_self": null,
      "border": null,
      "bottom": null,
      "display": null,
      "flex": null,
      "flex_flow": null,
      "grid_area": null,
      "grid_auto_columns": null,
      "grid_auto_flow": null,
      "grid_auto_rows": null,
      "grid_column": null,
      "grid_gap": null,
      "grid_row": null,
      "grid_template_areas": null,
      "grid_template_columns": null,
      "grid_template_rows": null,
      "height": "28px",
      "justify_content": null,
      "justify_items": null,
      "left": null,
      "margin": null,
      "max_height": null,
      "max_width": null,
      "min_height": null,
      "min_width": null,
      "object_fit": null,
      "object_position": null,
      "order": null,
      "overflow": null,
      "overflow_x": null,
      "overflow_y": null,
      "padding": "0px 0px 0px 4px",
      "right": null,
      "top": null,
      "visibility": null,
      "width": "28px"
     }
    },
    "a05f4a6cf152423f88f215cf487ca04d": {
     "model_module": "jupyter-leaflet",
     "model_module_version": "^0.17",
     "model_name": "LeafletTileLayerModel",
     "state": {
      "_model_module": "jupyter-leaflet",
      "_model_module_version": "^0.17",
      "_model_name": "LeafletTileLayerModel",
      "_view_count": null,
      "_view_module": "jupyter-leaflet",
      "_view_module_version": "^0.17",
      "_view_name": "LeafletTileLayerView",
      "attribution": "Google Earth Engine",
      "base": false,
      "bottom": true,
      "bounds": null,
      "detect_retina": false,
      "loading": false,
      "max_native_zoom": null,
      "max_zoom": 24,
      "min_native_zoom": null,
      "min_zoom": 0,
      "name": "train",
      "no_wrap": false,
      "opacity": 1,
      "options": [
       "attribution",
       "bounds",
       "detect_retina",
       "max_native_zoom",
       "max_zoom",
       "min_native_zoom",
       "min_zoom",
       "no_wrap",
       "tile_size",
       "tms",
       "zoom_offset"
      ],
      "pane": "",
      "popup": null,
      "popup_max_height": null,
      "popup_max_width": 300,
      "popup_min_width": 50,
      "show_loading": false,
      "subitems": [],
      "tile_size": 256,
      "tms": false,
      "url": "https://earthengine.googleapis.com/v1/projects/earthengine-legacy/maps/3e61532ff59bb6395a4f7182713e6599-cf3baac8918a38635dfdfdc3306ac446/tiles/{z}/{x}/{y}",
      "visible": true,
      "zoom_offset": 0
     }
    },
    "a1a95a0bf8244328aefea9c0b6d96d6c": {
     "model_module": "@jupyter-widgets/controls",
     "model_module_version": "1.5.0",
     "model_name": "VBoxModel",
     "state": {
      "_dom_classes": [],
      "_model_module": "@jupyter-widgets/controls",
      "_model_module_version": "1.5.0",
      "_model_name": "VBoxModel",
      "_view_count": null,
      "_view_module": "@jupyter-widgets/controls",
      "_view_module_version": "1.5.0",
      "_view_name": "VBoxView",
      "box_style": "",
      "children": [
       "IPY_MODEL_781cb590019e4ab790d529f9adca8db0"
      ],
      "layout": "IPY_MODEL_863e929a3d0641cba7d1b518d1da17a0"
     }
    },
    "a1b7669cf289404689f00b27aaffb833": {
     "model_module": "@jupyter-widgets/base",
     "model_module_version": "1.2.0",
     "model_name": "LayoutModel",
     "state": {
      "_model_module": "@jupyter-widgets/base",
      "_model_module_version": "1.2.0",
      "_model_name": "LayoutModel",
      "_view_count": null,
      "_view_module": "@jupyter-widgets/base",
      "_view_module_version": "1.2.0",
      "_view_name": "LayoutView",
      "align_content": null,
      "align_items": null,
      "align_self": null,
      "border": null,
      "bottom": null,
      "display": null,
      "flex": null,
      "flex_flow": null,
      "grid_area": null,
      "grid_auto_columns": null,
      "grid_auto_flow": null,
      "grid_auto_rows": null,
      "grid_column": null,
      "grid_gap": null,
      "grid_row": null,
      "grid_template_areas": null,
      "grid_template_columns": null,
      "grid_template_rows": null,
      "height": null,
      "justify_content": null,
      "justify_items": null,
      "left": null,
      "margin": null,
      "max_height": null,
      "max_width": null,
      "min_height": null,
      "min_width": null,
      "object_fit": null,
      "object_position": null,
      "order": null,
      "overflow": null,
      "overflow_x": null,
      "overflow_y": null,
      "padding": null,
      "right": null,
      "top": null,
      "visibility": null,
      "width": null
     }
    },
    "a214ad74d0f140b9b8b6e3fb9cdd51e1": {
     "model_module": "@jupyter-widgets/base",
     "model_module_version": "1.2.0",
     "model_name": "LayoutModel",
     "state": {
      "_model_module": "@jupyter-widgets/base",
      "_model_module_version": "1.2.0",
      "_model_name": "LayoutModel",
      "_view_count": null,
      "_view_module": "@jupyter-widgets/base",
      "_view_module_version": "1.2.0",
      "_view_name": "LayoutView",
      "align_content": null,
      "align_items": null,
      "align_self": null,
      "border": null,
      "bottom": null,
      "display": null,
      "flex": null,
      "flex_flow": null,
      "grid_area": null,
      "grid_auto_columns": null,
      "grid_auto_flow": null,
      "grid_auto_rows": null,
      "grid_column": null,
      "grid_gap": null,
      "grid_row": null,
      "grid_template_areas": null,
      "grid_template_columns": null,
      "grid_template_rows": null,
      "height": "600px",
      "justify_content": null,
      "justify_items": null,
      "left": null,
      "margin": null,
      "max_height": null,
      "max_width": null,
      "min_height": null,
      "min_width": null,
      "object_fit": null,
      "object_position": null,
      "order": null,
      "overflow": null,
      "overflow_x": null,
      "overflow_y": null,
      "padding": null,
      "right": null,
      "top": null,
      "visibility": null,
      "width": null
     }
    },
    "a36209ce79354e059382e0dc57a12692": {
     "model_module": "@jupyter-widgets/controls",
     "model_module_version": "1.5.0",
     "model_name": "ToggleButtonModel",
     "state": {
      "_dom_classes": [],
      "_model_module": "@jupyter-widgets/controls",
      "_model_module_version": "1.5.0",
      "_model_name": "ToggleButtonModel",
      "_view_count": null,
      "_view_module": "@jupyter-widgets/controls",
      "_view_module_version": "1.5.0",
      "_view_name": "ToggleButtonView",
      "button_style": "",
      "description": "",
      "description_tooltip": null,
      "disabled": false,
      "icon": "wrench",
      "layout": "IPY_MODEL_7b50e007a4af4c09b194389ff22fdc29",
      "style": "IPY_MODEL_717fc84f422d4f3786e13b887680f800",
      "tooltip": "Toolbar",
      "value": false
     }
    },
    "a457fa9c3d6444bb9e8b58d52e9bd52c": {
     "model_module": "@jupyter-widgets/base",
     "model_module_version": "1.2.0",
     "model_name": "LayoutModel",
     "state": {
      "_model_module": "@jupyter-widgets/base",
      "_model_module_version": "1.2.0",
      "_model_name": "LayoutModel",
      "_view_count": null,
      "_view_module": "@jupyter-widgets/base",
      "_view_module_version": "1.2.0",
      "_view_name": "LayoutView",
      "align_content": null,
      "align_items": null,
      "align_self": null,
      "border": null,
      "bottom": null,
      "display": null,
      "flex": null,
      "flex_flow": null,
      "grid_area": null,
      "grid_auto_columns": null,
      "grid_auto_flow": null,
      "grid_auto_rows": null,
      "grid_column": null,
      "grid_gap": null,
      "grid_row": null,
      "grid_template_areas": null,
      "grid_template_columns": null,
      "grid_template_rows": null,
      "height": "28px",
      "justify_content": null,
      "justify_items": null,
      "left": null,
      "margin": null,
      "max_height": null,
      "max_width": null,
      "min_height": null,
      "min_width": null,
      "object_fit": null,
      "object_position": null,
      "order": null,
      "overflow": null,
      "overflow_x": null,
      "overflow_y": null,
      "padding": "0px 0px 0px 4px",
      "right": null,
      "top": null,
      "visibility": null,
      "width": "28px"
     }
    },
    "a66cdecebf8f46fea3da5bf87898916c": {
     "model_module": "jupyter-leaflet",
     "model_module_version": "^0.17",
     "model_name": "LeafletTileLayerModel",
     "state": {
      "_model_module": "jupyter-leaflet",
      "_model_module_version": "^0.17",
      "_model_name": "LeafletTileLayerModel",
      "_view_count": null,
      "_view_module": "jupyter-leaflet",
      "_view_module_version": "^0.17",
      "_view_name": "LeafletTileLayerView",
      "attribution": "Esri",
      "base": false,
      "bottom": true,
      "bounds": null,
      "detect_retina": false,
      "loading": false,
      "max_native_zoom": null,
      "max_zoom": 24,
      "min_native_zoom": null,
      "min_zoom": 0,
      "name": "Esri.WorldTopoMap",
      "no_wrap": false,
      "opacity": 1,
      "options": [
       "attribution",
       "bounds",
       "detect_retina",
       "max_native_zoom",
       "max_zoom",
       "min_native_zoom",
       "min_zoom",
       "no_wrap",
       "tile_size",
       "tms",
       "zoom_offset"
      ],
      "pane": "",
      "popup": null,
      "popup_max_height": null,
      "popup_max_width": 300,
      "popup_min_width": 50,
      "show_loading": false,
      "subitems": [],
      "tile_size": 256,
      "tms": false,
      "url": "https://server.arcgisonline.com/ArcGIS/rest/services/World_Topo_Map/MapServer/tile/{z}/{y}/{x}",
      "visible": true,
      "zoom_offset": 0
     }
    },
    "a7e2b23309ed453b912c53a02b1384a3": {
     "model_module": "@jupyter-widgets/base",
     "model_module_version": "1.2.0",
     "model_name": "LayoutModel",
     "state": {
      "_model_module": "@jupyter-widgets/base",
      "_model_module_version": "1.2.0",
      "_model_name": "LayoutModel",
      "_view_count": null,
      "_view_module": "@jupyter-widgets/base",
      "_view_module_version": "1.2.0",
      "_view_name": "LayoutView",
      "align_content": null,
      "align_items": null,
      "align_self": null,
      "border": null,
      "bottom": null,
      "display": null,
      "flex": null,
      "flex_flow": null,
      "grid_area": null,
      "grid_auto_columns": null,
      "grid_auto_flow": null,
      "grid_auto_rows": null,
      "grid_column": null,
      "grid_gap": null,
      "grid_row": null,
      "grid_template_areas": null,
      "grid_template_columns": null,
      "grid_template_rows": null,
      "height": "28px",
      "justify_content": null,
      "justify_items": null,
      "left": null,
      "margin": null,
      "max_height": null,
      "max_width": null,
      "min_height": null,
      "min_width": null,
      "object_fit": null,
      "object_position": null,
      "order": null,
      "overflow": null,
      "overflow_x": null,
      "overflow_y": null,
      "padding": "0px 0px 0px 4px",
      "right": null,
      "top": null,
      "visibility": null,
      "width": "28px"
     }
    },
    "a8827492c987477c91d516742e60fc86": {
     "model_module": "jupyter-leaflet",
     "model_module_version": "^0.17",
     "model_name": "LeafletWidgetControlModel",
     "state": {
      "_model_module": "jupyter-leaflet",
      "_model_module_version": "^0.17",
      "_model_name": "LeafletWidgetControlModel",
      "_view_count": null,
      "_view_module": "jupyter-leaflet",
      "_view_module_version": "^0.17",
      "_view_name": "LeafletWidgetControlView",
      "max_height": null,
      "max_width": null,
      "min_height": null,
      "min_width": null,
      "options": [
       "position",
       "transparent_bg"
      ],
      "position": "topleft",
      "transparent_bg": false,
      "widget": "IPY_MODEL_bd551caf7f014d2995c00fb24313ffb9"
     }
    },
    "a88fea8915744d55a95658d3000ffad2": {
     "model_module": "jupyter-leaflet",
     "model_module_version": "^0.17",
     "model_name": "LeafletMapModel",
     "state": {
      "_dom_classes": [],
      "_model_module": "jupyter-leaflet",
      "_model_module_version": "^0.17",
      "_model_name": "LeafletMapModel",
      "_view_count": null,
      "_view_module": "jupyter-leaflet",
      "_view_module_version": "^0.17",
      "_view_name": "LeafletMapView",
      "bottom": 216341,
      "bounce_at_zoom_limits": true,
      "box_zoom": true,
      "center": [
       30.1588,
       -85.6602
      ],
      "close_popup_on_click": true,
      "controls": [
       "IPY_MODEL_510856fc22414daeb7b19f7b9a087f6d",
       "IPY_MODEL_65d6758914e14778b09a0e3595b27feb",
       "IPY_MODEL_5a568597813547ca95dd370790a66316",
       "IPY_MODEL_6b4b0c1b7f8e4015b3ae01f2c62942d6",
       "IPY_MODEL_7706d089a6b141019a37f44f370ec70a",
       "IPY_MODEL_abe7ce99eff64d269e5a5969946e956b",
       "IPY_MODEL_3392c398b1c84d59bb57357561225bc3",
       "IPY_MODEL_498aac1c478d44db9b96c5eb0f7ae40e",
       "IPY_MODEL_54ed6ef00be949638b5ffc79f266b8ca"
      ],
      "crs": {
       "custom": false,
       "name": "EPSG3857"
      },
      "default_style": "IPY_MODEL_69e7eb91072248ccbb28739427bd022a",
      "double_click_zoom": true,
      "dragging": true,
      "dragging_style": "IPY_MODEL_01b09054c95244078cec61a947429067",
      "east": -84.92774963378906,
      "fullscreen": false,
      "inertia": true,
      "inertia_deceleration": 3000,
      "inertia_max_speed": 1500,
      "interpolation": "bilinear",
      "keyboard": true,
      "keyboard_pan_offset": 80,
      "keyboard_zoom_offset": 1,
      "layers": [
       "IPY_MODEL_594862fb00a0483eb53201c67cd08572",
       "IPY_MODEL_a66cdecebf8f46fea3da5bf87898916c",
       "IPY_MODEL_499687036bb4491bb6bc15746d3c1448",
       "IPY_MODEL_05f8165000294a598ec881692f6b1c64",
       "IPY_MODEL_3bb0060a696848f0b4576634b1d80f67",
       "IPY_MODEL_a05f4a6cf152423f88f215cf487ca04d"
      ],
      "layout": "IPY_MODEL_36dbeb7b553c4ff5a97c5715dec8adf2",
      "left": 136326,
      "max_zoom": 24,
      "min_zoom": null,
      "modisdate": "2023-09-14",
      "north": 30.336731771512106,
      "options": [
       "bounce_at_zoom_limits",
       "box_zoom",
       "center",
       "close_popup_on_click",
       "double_click_zoom",
       "dragging",
       "fullscreen",
       "inertia",
       "inertia_deceleration",
       "inertia_max_speed",
       "interpolation",
       "keyboard",
       "keyboard_pan_offset",
       "keyboard_zoom_offset",
       "max_zoom",
       "min_zoom",
       "prefer_canvas",
       "scroll_wheel_zoom",
       "tap",
       "tap_tolerance",
       "touch_zoom",
       "world_copy_jump",
       "zoom",
       "zoom_animation_threshold",
       "zoom_delta",
       "zoom_snap"
      ],
      "panes": {},
      "prefer_canvas": false,
      "right": 138459,
      "scroll_wheel_zoom": true,
      "south": 29.98051291706061,
      "style": "IPY_MODEL_e8d833df8396441f9c38ceca00e71b7b",
      "tap": true,
      "tap_tolerance": 15,
      "top": 215741,
      "touch_zoom": true,
      "west": -86.39236450195312,
      "window_url": "https://0yfe0deel58f-496ff2e9c6d22116-0-colab.googleusercontent.com/outputframe.html?vrz=colab_20230914-060107_RC00_565327706",
      "world_copy_jump": false,
      "zoom": 11,
      "zoom_animation_threshold": 4,
      "zoom_delta": 1,
      "zoom_snap": 1
     }
    },
    "a96c18c555f145169c3dcdef14471637": {
     "model_module": "@jupyter-widgets/base",
     "model_module_version": "1.2.0",
     "model_name": "LayoutModel",
     "state": {
      "_model_module": "@jupyter-widgets/base",
      "_model_module_version": "1.2.0",
      "_model_name": "LayoutModel",
      "_view_count": null,
      "_view_module": "@jupyter-widgets/base",
      "_view_module_version": "1.2.0",
      "_view_name": "LayoutView",
      "align_content": null,
      "align_items": null,
      "align_self": null,
      "border": null,
      "bottom": null,
      "display": null,
      "flex": null,
      "flex_flow": null,
      "grid_area": null,
      "grid_auto_columns": null,
      "grid_auto_flow": null,
      "grid_auto_rows": null,
      "grid_column": null,
      "grid_gap": null,
      "grid_row": null,
      "grid_template_areas": null,
      "grid_template_columns": null,
      "grid_template_rows": null,
      "height": "28px",
      "justify_content": null,
      "justify_items": null,
      "left": null,
      "margin": null,
      "max_height": null,
      "max_width": null,
      "min_height": null,
      "min_width": null,
      "object_fit": null,
      "object_position": null,
      "order": null,
      "overflow": null,
      "overflow_x": null,
      "overflow_y": null,
      "padding": "0px 0px 0px 4px",
      "right": null,
      "top": null,
      "visibility": null,
      "width": "28px"
     }
    },
    "a9a0452a3ef04f19b97c9c3d5cf3c0b3": {
     "model_module": "jupyter-leaflet",
     "model_module_version": "^0.17",
     "model_name": "LeafletMapModel",
     "state": {
      "_dom_classes": [],
      "_model_module": "jupyter-leaflet",
      "_model_module_version": "^0.17",
      "_model_name": "LeafletMapModel",
      "_view_count": null,
      "_view_module": "jupyter-leaflet",
      "_view_module_version": "^0.17",
      "_view_name": "LeafletMapView",
      "bottom": 55306931,
      "bounce_at_zoom_limits": true,
      "box_zoom": true,
      "center": [
       30.158470115610783,
       -85.66008523106575
      ],
      "close_popup_on_click": true,
      "controls": [
       "IPY_MODEL_e6250fe80d0f4c06842b34e9cc31da40",
       "IPY_MODEL_ac36b08122ad4b1c97236069e4ba8b33",
       "IPY_MODEL_456038505ca3480d8482c5c1627c99aa",
       "IPY_MODEL_e75dec623e2a429db1dfc1618802c7a0",
       "IPY_MODEL_fd5c87405e554777b9b20ac0230ec616",
       "IPY_MODEL_c4e240e6d92d4248aab0738209246742",
       "IPY_MODEL_646484192a814379b9891d69728f76b4",
       "IPY_MODEL_77b6fc98acaa41f384f49719988811c3",
       "IPY_MODEL_fa6b513fc24e46e3b5269a6b6bbe7602"
      ],
      "crs": {
       "custom": false,
       "name": "EPSG3857"
      },
      "default_style": "IPY_MODEL_6ab35f78c7504376933127a3f65ab734",
      "double_click_zoom": true,
      "dragging": true,
      "dragging_style": "IPY_MODEL_b444ed96923043829a5ac5f85d333d1c",
      "east": -85.65722465515138,
      "fullscreen": false,
      "inertia": true,
      "inertia_deceleration": 3000,
      "inertia_max_speed": 1500,
      "interpolation": "bilinear",
      "keyboard": true,
      "keyboard_pan_offset": 80,
      "keyboard_zoom_offset": 1,
      "layers": [
       "IPY_MODEL_90c86d56b323498eb774488596b8b0e1",
       "IPY_MODEL_fde71d3bf3a64bb69697f07e7a9080e7",
       "IPY_MODEL_da0b04838f1e49f283fc729a60bcc086",
       "IPY_MODEL_1b3a57ec18ed4b59b5148656d7cc99df",
       "IPY_MODEL_294958c9b32b4c3db86884456d9e2c6a"
      ],
      "layout": "IPY_MODEL_6598f3905f614a93b21084f690367073",
      "left": 35171403,
      "max_zoom": 24,
      "min_zoom": null,
      "modisdate": "2023-09-14",
      "north": 30.15916585605768,
      "options": [
       "bounce_at_zoom_limits",
       "box_zoom",
       "center",
       "close_popup_on_click",
       "double_click_zoom",
       "dragging",
       "fullscreen",
       "inertia",
       "inertia_deceleration",
       "inertia_max_speed",
       "interpolation",
       "keyboard",
       "keyboard_pan_offset",
       "keyboard_zoom_offset",
       "max_zoom",
       "min_zoom",
       "prefer_canvas",
       "scroll_wheel_zoom",
       "tap",
       "tap_tolerance",
       "touch_zoom",
       "world_copy_jump",
       "zoom",
       "zoom_animation_threshold",
       "zoom_delta",
       "zoom_snap"
      ],
      "panes": {},
      "prefer_canvas": false,
      "right": 35173536,
      "scroll_wheel_zoom": true,
      "south": 30.15777437025502,
      "style": "IPY_MODEL_6ab35f78c7504376933127a3f65ab734",
      "tap": true,
      "tap_tolerance": 15,
      "top": 55306331,
      "touch_zoom": true,
      "west": -85.66294580698015,
      "window_url": "https://0yfe0deel58f-496ff2e9c6d22116-0-colab.googleusercontent.com/outputframe.html?vrz=colab_20230914-060107_RC00_565327706",
      "world_copy_jump": false,
      "zoom": 19,
      "zoom_animation_threshold": 4,
      "zoom_delta": 1,
      "zoom_snap": 1
     }
    },
    "aaae66cbf92943b39f4c7d80da6c7765": {
     "model_module": "jupyter-leaflet",
     "model_module_version": "^0.17",
     "model_name": "LeafletMapStyleModel",
     "state": {
      "_model_module": "jupyter-leaflet",
      "_model_module_version": "^0.17",
      "_model_name": "LeafletMapStyleModel",
      "_view_count": null,
      "_view_module": "@jupyter-widgets/base",
      "_view_module_version": "1.2.0",
      "_view_name": "StyleView",
      "cursor": "move"
     }
    },
    "aad8d5ec9a7e4561894118f068f04cf2": {
     "model_module": "@jupyter-widgets/controls",
     "model_module_version": "1.5.0",
     "model_name": "DescriptionStyleModel",
     "state": {
      "_model_module": "@jupyter-widgets/controls",
      "_model_module_version": "1.5.0",
      "_model_name": "DescriptionStyleModel",
      "_view_count": null,
      "_view_module": "@jupyter-widgets/base",
      "_view_module_version": "1.2.0",
      "_view_name": "StyleView",
      "description_width": ""
     }
    },
    "abe7ce99eff64d269e5a5969946e956b": {
     "model_module": "jupyter-leaflet",
     "model_module_version": "^0.17",
     "model_name": "LeafletMeasureControlModel",
     "state": {
      "_custom_units": {},
      "_model_module": "jupyter-leaflet",
      "_model_module_version": "^0.17",
      "_model_name": "LeafletMeasureControlModel",
      "_view_count": null,
      "_view_module": "jupyter-leaflet",
      "_view_module_version": "^0.17",
      "_view_name": "LeafletMeasureControlView",
      "active_color": "orange",
      "capture_z_index": 10000,
      "completed_color": "#C8F2BE",
      "options": [
       "active_color",
       "capture_z_index",
       "completed_color",
       "popup_options",
       "position",
       "primary_area_unit",
       "primary_length_unit",
       "secondary_area_unit",
       "secondary_length_unit"
      ],
      "popup_options": {
       "autoPanPadding": [
        10,
        10
       ],
       "className": "leaflet-measure-resultpopup"
      },
      "position": "bottomleft",
      "primary_area_unit": "acres",
      "primary_length_unit": "kilometers",
      "secondary_area_unit": null,
      "secondary_length_unit": null
     }
    },
    "ac36b08122ad4b1c97236069e4ba8b33": {
     "model_module": "jupyter-leaflet",
     "model_module_version": "^0.17",
     "model_name": "LeafletZoomControlModel",
     "state": {
      "_model_module": "jupyter-leaflet",
      "_model_module_version": "^0.17",
      "_model_name": "LeafletZoomControlModel",
      "_view_count": null,
      "_view_module": "jupyter-leaflet",
      "_view_module_version": "^0.17",
      "_view_name": "LeafletZoomControlView",
      "options": [
       "position",
       "zoom_in_text",
       "zoom_in_title",
       "zoom_out_text",
       "zoom_out_title"
      ],
      "position": "topleft",
      "zoom_in_text": "+",
      "zoom_in_title": "Zoom in",
      "zoom_out_text": "-",
      "zoom_out_title": "Zoom out"
     }
    },
    "add07dd823714a25a1821c1d7b8749e4": {
     "model_module": "jupyter-leaflet",
     "model_module_version": "^0.17",
     "model_name": "LeafletTileLayerModel",
     "state": {
      "_model_module": "jupyter-leaflet",
      "_model_module_version": "^0.17",
      "_model_name": "LeafletTileLayerModel",
      "_view_count": null,
      "_view_module": "jupyter-leaflet",
      "_view_module_version": "^0.17",
      "_view_name": "LeafletTileLayerView",
      "attribution": "&copy; <a href=\"https://www.openstreetmap.org/copyright\">OpenStreetMap</a> contributors",
      "base": true,
      "bottom": true,
      "bounds": null,
      "detect_retina": false,
      "loading": false,
      "max_native_zoom": null,
      "max_zoom": 19,
      "min_native_zoom": null,
      "min_zoom": 1,
      "name": "OpenStreetMap.Mapnik",
      "no_wrap": false,
      "opacity": 1,
      "options": [
       "attribution",
       "bounds",
       "detect_retina",
       "max_native_zoom",
       "max_zoom",
       "min_native_zoom",
       "min_zoom",
       "no_wrap",
       "tile_size",
       "tms",
       "zoom_offset"
      ],
      "pane": "",
      "popup": null,
      "popup_max_height": null,
      "popup_max_width": 300,
      "popup_min_width": 50,
      "show_loading": false,
      "subitems": [],
      "tile_size": 256,
      "tms": false,
      "url": "https://tile.openstreetmap.org/{z}/{x}/{y}.png",
      "visible": true,
      "zoom_offset": 0
     }
    },
    "ae6c0fdc9bce43e5a49f7ef5eef0fa31": {
     "model_module": "@jupyter-widgets/controls",
     "model_module_version": "1.5.0",
     "model_name": "HBoxModel",
     "state": {
      "_dom_classes": [],
      "_model_module": "@jupyter-widgets/controls",
      "_model_module_version": "1.5.0",
      "_model_name": "HBoxModel",
      "_view_count": null,
      "_view_module": "@jupyter-widgets/controls",
      "_view_module_version": "1.5.0",
      "_view_name": "HBoxView",
      "box_style": "",
      "children": [
       "IPY_MODEL_757dbbc7079941f3b32d825c13d75cff"
      ],
      "layout": "IPY_MODEL_d1ba51c445234d3c9054941bb65efedd"
     }
    },
    "afb11b52121143768eda9b78b6fee94f": {
     "model_module": "@jupyter-widgets/controls",
     "model_module_version": "1.5.0",
     "model_name": "ToggleButtonModel",
     "state": {
      "_dom_classes": [],
      "_model_module": "@jupyter-widgets/controls",
      "_model_module_version": "1.5.0",
      "_model_name": "ToggleButtonModel",
      "_view_count": null,
      "_view_module": "@jupyter-widgets/controls",
      "_view_module_version": "1.5.0",
      "_view_name": "ToggleButtonView",
      "button_style": "",
      "description": "",
      "description_tooltip": null,
      "disabled": false,
      "icon": "globe",
      "layout": "IPY_MODEL_8a6838ea07b5415993247236856ed7e5",
      "style": "IPY_MODEL_1ac06520db094b78a3f14f62659fc6e3",
      "tooltip": "Search location/data",
      "value": false
     }
    },
    "b0a1456b6aca4871aaae06625ebe33d6": {
     "model_module": "jupyter-leaflet",
     "model_module_version": "^0.17",
     "model_name": "LeafletAttributionControlModel",
     "state": {
      "_model_module": "jupyter-leaflet",
      "_model_module_version": "^0.17",
      "_model_name": "LeafletAttributionControlModel",
      "_view_count": null,
      "_view_module": "jupyter-leaflet",
      "_view_module_version": "^0.17",
      "_view_name": "LeafletAttributionControlView",
      "options": [
       "position",
       "prefix"
      ],
      "position": "bottomright",
      "prefix": "ipyleaflet"
     }
    },
    "b10bb7cc21b3458f80173e1c8389b1a5": {
     "model_module": "jupyter-leaflet",
     "model_module_version": "^0.17",
     "model_name": "LeafletFullScreenControlModel",
     "state": {
      "_model_module": "jupyter-leaflet",
      "_model_module_version": "^0.17",
      "_model_name": "LeafletFullScreenControlModel",
      "_view_count": null,
      "_view_module": "jupyter-leaflet",
      "_view_module_version": "^0.17",
      "_view_name": "LeafletFullScreenControlView",
      "options": [
       "position"
      ],
      "position": "topleft"
     }
    },
    "b3104878232146b6a2a4fd588d75d043": {
     "model_module": "@jupyter-widgets/base",
     "model_module_version": "1.2.0",
     "model_name": "LayoutModel",
     "state": {
      "_model_module": "@jupyter-widgets/base",
      "_model_module_version": "1.2.0",
      "_model_name": "LayoutModel",
      "_view_count": null,
      "_view_module": "@jupyter-widgets/base",
      "_view_module_version": "1.2.0",
      "_view_name": "LayoutView",
      "align_content": null,
      "align_items": null,
      "align_self": null,
      "border": null,
      "bottom": null,
      "display": null,
      "flex": null,
      "flex_flow": null,
      "grid_area": null,
      "grid_auto_columns": null,
      "grid_auto_flow": null,
      "grid_auto_rows": null,
      "grid_column": null,
      "grid_gap": null,
      "grid_row": null,
      "grid_template_areas": null,
      "grid_template_columns": null,
      "grid_template_rows": null,
      "height": "28px",
      "justify_content": null,
      "justify_items": null,
      "left": null,
      "margin": null,
      "max_height": null,
      "max_width": null,
      "min_height": null,
      "min_width": null,
      "object_fit": null,
      "object_position": null,
      "order": null,
      "overflow": null,
      "overflow_x": null,
      "overflow_y": null,
      "padding": "0px 0px 0px 4px",
      "right": null,
      "top": null,
      "visibility": null,
      "width": "28px"
     }
    },
    "b3930fe36143494bb278497981b8b2a0": {
     "model_module": "@jupyter-widgets/base",
     "model_module_version": "1.2.0",
     "model_name": "LayoutModel",
     "state": {
      "_model_module": "@jupyter-widgets/base",
      "_model_module_version": "1.2.0",
      "_model_name": "LayoutModel",
      "_view_count": null,
      "_view_module": "@jupyter-widgets/base",
      "_view_module_version": "1.2.0",
      "_view_name": "LayoutView",
      "align_content": null,
      "align_items": null,
      "align_self": null,
      "border": null,
      "bottom": null,
      "display": null,
      "flex": null,
      "flex_flow": null,
      "grid_area": null,
      "grid_auto_columns": null,
      "grid_auto_flow": null,
      "grid_auto_rows": null,
      "grid_column": null,
      "grid_gap": null,
      "grid_row": null,
      "grid_template_areas": null,
      "grid_template_columns": null,
      "grid_template_rows": null,
      "height": null,
      "justify_content": null,
      "justify_items": null,
      "left": null,
      "margin": null,
      "max_height": null,
      "max_width": null,
      "min_height": null,
      "min_width": null,
      "object_fit": null,
      "object_position": null,
      "order": null,
      "overflow": null,
      "overflow_x": null,
      "overflow_y": null,
      "padding": null,
      "right": null,
      "top": null,
      "visibility": null,
      "width": null
     }
    },
    "b444ed96923043829a5ac5f85d333d1c": {
     "model_module": "jupyter-leaflet",
     "model_module_version": "^0.17",
     "model_name": "LeafletMapStyleModel",
     "state": {
      "_model_module": "jupyter-leaflet",
      "_model_module_version": "^0.17",
      "_model_name": "LeafletMapStyleModel",
      "_view_count": null,
      "_view_module": "@jupyter-widgets/base",
      "_view_module_version": "1.2.0",
      "_view_name": "StyleView",
      "cursor": "move"
     }
    },
    "b7150b13a8804c969064edbf221ba340": {
     "model_module": "@jupyter-widgets/base",
     "model_module_version": "1.2.0",
     "model_name": "LayoutModel",
     "state": {
      "_model_module": "@jupyter-widgets/base",
      "_model_module_version": "1.2.0",
      "_model_name": "LayoutModel",
      "_view_count": null,
      "_view_module": "@jupyter-widgets/base",
      "_view_module_version": "1.2.0",
      "_view_name": "LayoutView",
      "align_content": null,
      "align_items": null,
      "align_self": null,
      "border": null,
      "bottom": null,
      "display": null,
      "flex": null,
      "flex_flow": null,
      "grid_area": null,
      "grid_auto_columns": null,
      "grid_auto_flow": null,
      "grid_auto_rows": null,
      "grid_column": null,
      "grid_gap": null,
      "grid_row": null,
      "grid_template_areas": null,
      "grid_template_columns": null,
      "grid_template_rows": null,
      "height": "28px",
      "justify_content": null,
      "justify_items": null,
      "left": null,
      "margin": null,
      "max_height": null,
      "max_width": null,
      "min_height": null,
      "min_width": null,
      "object_fit": null,
      "object_position": null,
      "order": null,
      "overflow": null,
      "overflow_x": null,
      "overflow_y": null,
      "padding": "0px 0px 0px 4px",
      "right": null,
      "top": null,
      "visibility": null,
      "width": "28px"
     }
    },
    "b8e71c4b44c04c038395d94c98b67319": {
     "model_module": "@jupyter-widgets/controls",
     "model_module_version": "1.5.0",
     "model_name": "VBoxModel",
     "state": {
      "_dom_classes": [],
      "_model_module": "@jupyter-widgets/controls",
      "_model_module_version": "1.5.0",
      "_model_name": "VBoxModel",
      "_view_count": null,
      "_view_module": "@jupyter-widgets/controls",
      "_view_module_version": "1.5.0",
      "_view_name": "VBoxView",
      "box_style": "",
      "children": [
       "IPY_MODEL_dde7f71511d14952a1fc95ae260302a4"
      ],
      "layout": "IPY_MODEL_b3930fe36143494bb278497981b8b2a0"
     }
    },
    "bbe386888be749eeaac405fb3d3fcf34": {
     "model_module": "jupyter-leaflet",
     "model_module_version": "^0.17",
     "model_name": "LeafletTileLayerModel",
     "state": {
      "_model_module": "jupyter-leaflet",
      "_model_module_version": "^0.17",
      "_model_name": "LeafletTileLayerModel",
      "_view_count": null,
      "_view_module": "jupyter-leaflet",
      "_view_module_version": "^0.17",
      "_view_name": "LeafletTileLayerView",
      "attribution": "Google Earth Engine",
      "base": false,
      "bottom": true,
      "bounds": null,
      "detect_retina": false,
      "loading": false,
      "max_native_zoom": null,
      "max_zoom": 24,
      "min_native_zoom": null,
      "min_zoom": 0,
      "name": "post_clusters",
      "no_wrap": false,
      "opacity": 0.6,
      "options": [
       "attribution",
       "bounds",
       "detect_retina",
       "max_native_zoom",
       "max_zoom",
       "min_native_zoom",
       "min_zoom",
       "no_wrap",
       "tile_size",
       "tms",
       "zoom_offset"
      ],
      "pane": "",
      "popup": null,
      "popup_max_height": null,
      "popup_max_width": 300,
      "popup_min_width": 50,
      "show_loading": false,
      "subitems": [],
      "tile_size": 256,
      "tms": false,
      "url": "https://earthengine.googleapis.com/v1/projects/earthengine-legacy/maps/fa081baff726bd24d5ecca541eb9c1d7-a7d232edcc8f07aba9aa359c06655a04/tiles/{z}/{x}/{y}",
      "visible": true,
      "zoom_offset": 0
     }
    },
    "bc022d0185ce4e469bf6261a1cd080b8": {
     "model_module": "jupyter-leaflet",
     "model_module_version": "^0.17",
     "model_name": "LeafletTileLayerModel",
     "state": {
      "_model_module": "jupyter-leaflet",
      "_model_module_version": "^0.17",
      "_model_name": "LeafletTileLayerModel",
      "_view_count": null,
      "_view_module": "jupyter-leaflet",
      "_view_module_version": "^0.17",
      "_view_name": "LeafletTileLayerView",
      "attribution": "&copy; <a href=\"https://www.openstreetmap.org/copyright\">OpenStreetMap</a> contributors",
      "base": true,
      "bottom": true,
      "bounds": null,
      "detect_retina": false,
      "loading": false,
      "max_native_zoom": null,
      "max_zoom": 19,
      "min_native_zoom": null,
      "min_zoom": 1,
      "name": "OpenStreetMap.Mapnik",
      "no_wrap": false,
      "opacity": 1,
      "options": [
       "attribution",
       "bounds",
       "detect_retina",
       "max_native_zoom",
       "max_zoom",
       "min_native_zoom",
       "min_zoom",
       "no_wrap",
       "tile_size",
       "tms",
       "zoom_offset"
      ],
      "pane": "",
      "popup": null,
      "popup_max_height": null,
      "popup_max_width": 300,
      "popup_min_width": 50,
      "show_loading": false,
      "subitems": [],
      "tile_size": 256,
      "tms": false,
      "url": "https://tile.openstreetmap.org/{z}/{x}/{y}.png",
      "visible": true,
      "zoom_offset": 0
     }
    },
    "bd551caf7f014d2995c00fb24313ffb9": {
     "model_module": "@jupyter-widgets/controls",
     "model_module_version": "1.5.0",
     "model_name": "HBoxModel",
     "state": {
      "_dom_classes": [],
      "_model_module": "@jupyter-widgets/controls",
      "_model_module_version": "1.5.0",
      "_model_name": "HBoxModel",
      "_view_count": null,
      "_view_module": "@jupyter-widgets/controls",
      "_view_module_version": "1.5.0",
      "_view_name": "HBoxView",
      "box_style": "",
      "children": [
       "IPY_MODEL_5f4ebc0df23a43f8b6bc84db364c9b65"
      ],
      "layout": "IPY_MODEL_99bd336918ae42efb6fb88650b8d6ade"
     }
    },
    "be8be9bca22c4b9281b9f86cf0675d89": {
     "model_module": "jupyter-leaflet",
     "model_module_version": "^0.17",
     "model_name": "LeafletScaleControlModel",
     "state": {
      "_model_module": "jupyter-leaflet",
      "_model_module_version": "^0.17",
      "_model_name": "LeafletScaleControlModel",
      "_view_count": null,
      "_view_module": "jupyter-leaflet",
      "_view_module_version": "^0.17",
      "_view_name": "LeafletScaleControlView",
      "imperial": true,
      "max_width": 100,
      "metric": true,
      "options": [
       "imperial",
       "max_width",
       "metric",
       "position",
       "update_when_idle"
      ],
      "position": "bottomleft",
      "update_when_idle": false
     }
    },
    "bf07b0e824e64d1c8ec604d5c4328316": {
     "model_module": "jupyter-leaflet",
     "model_module_version": "^0.17",
     "model_name": "LeafletMapStyleModel",
     "state": {
      "_model_module": "jupyter-leaflet",
      "_model_module_version": "^0.17",
      "_model_name": "LeafletMapStyleModel",
      "_view_count": null,
      "_view_module": "@jupyter-widgets/base",
      "_view_module_version": "1.2.0",
      "_view_name": "StyleView",
      "cursor": "grab"
     }
    },
    "bfe0064656e44e3f974b7d96d0eea400": {
     "model_module": "@jupyter-widgets/controls",
     "model_module_version": "1.5.0",
     "model_name": "HBoxModel",
     "state": {
      "_dom_classes": [],
      "_model_module": "@jupyter-widgets/controls",
      "_model_module_version": "1.5.0",
      "_model_name": "HBoxModel",
      "_view_count": null,
      "_view_module": "@jupyter-widgets/controls",
      "_view_module_version": "1.5.0",
      "_view_name": "HBoxView",
      "box_style": "",
      "children": [
       "IPY_MODEL_7e1a53acbf2e49d4b76df7cc815c7059"
      ],
      "layout": "IPY_MODEL_9657eef3c9cc49258f3529fad2001820"
     }
    },
    "c0f67cd19010433d8edebf0bd7afcadb": {
     "model_module": "jupyter-leaflet",
     "model_module_version": "^0.17",
     "model_name": "LeafletZoomControlModel",
     "state": {
      "_model_module": "jupyter-leaflet",
      "_model_module_version": "^0.17",
      "_model_name": "LeafletZoomControlModel",
      "_view_count": null,
      "_view_module": "jupyter-leaflet",
      "_view_module_version": "^0.17",
      "_view_name": "LeafletZoomControlView",
      "options": [
       "position",
       "zoom_in_text",
       "zoom_in_title",
       "zoom_out_text",
       "zoom_out_title"
      ],
      "position": "topleft",
      "zoom_in_text": "+",
      "zoom_in_title": "Zoom in",
      "zoom_out_text": "-",
      "zoom_out_title": "Zoom out"
     }
    },
    "c1cb867e70e84b4792e9ad81e6541058": {
     "model_module": "@jupyter-widgets/controls",
     "model_module_version": "1.5.0",
     "model_name": "DescriptionStyleModel",
     "state": {
      "_model_module": "@jupyter-widgets/controls",
      "_model_module_version": "1.5.0",
      "_model_name": "DescriptionStyleModel",
      "_view_count": null,
      "_view_module": "@jupyter-widgets/base",
      "_view_module_version": "1.2.0",
      "_view_name": "StyleView",
      "description_width": ""
     }
    },
    "c4e240e6d92d4248aab0738209246742": {
     "model_module": "jupyter-leaflet",
     "model_module_version": "^0.17",
     "model_name": "LeafletMeasureControlModel",
     "state": {
      "_custom_units": {},
      "_model_module": "jupyter-leaflet",
      "_model_module_version": "^0.17",
      "_model_name": "LeafletMeasureControlModel",
      "_view_count": null,
      "_view_module": "jupyter-leaflet",
      "_view_module_version": "^0.17",
      "_view_name": "LeafletMeasureControlView",
      "active_color": "orange",
      "capture_z_index": 10000,
      "completed_color": "#C8F2BE",
      "options": [
       "active_color",
       "capture_z_index",
       "completed_color",
       "popup_options",
       "position",
       "primary_area_unit",
       "primary_length_unit",
       "secondary_area_unit",
       "secondary_length_unit"
      ],
      "popup_options": {
       "autoPanPadding": [
        10,
        10
       ],
       "className": "leaflet-measure-resultpopup"
      },
      "position": "bottomleft",
      "primary_area_unit": "acres",
      "primary_length_unit": "kilometers",
      "secondary_area_unit": null,
      "secondary_length_unit": null
     }
    },
    "c50068e5391b4754bd6fff2e3cf5fe9f": {
     "model_module": "jupyter-leaflet",
     "model_module_version": "^0.17",
     "model_name": "LeafletWidgetControlModel",
     "state": {
      "_model_module": "jupyter-leaflet",
      "_model_module_version": "^0.17",
      "_model_name": "LeafletWidgetControlModel",
      "_view_count": null,
      "_view_module": "jupyter-leaflet",
      "_view_module_version": "^0.17",
      "_view_name": "LeafletWidgetControlView",
      "max_height": null,
      "max_width": null,
      "min_height": null,
      "min_width": null,
      "options": [
       "position",
       "transparent_bg"
      ],
      "position": "topleft",
      "transparent_bg": false,
      "widget": "IPY_MODEL_36e85a2332354f538d3c2b264948d0cc"
     }
    },
    "c53a7c073e4e49a6860548fee0a17fa4": {
     "model_module": "jupyter-leaflet",
     "model_module_version": "^0.17",
     "model_name": "LeafletTileLayerModel",
     "state": {
      "_model_module": "jupyter-leaflet",
      "_model_module_version": "^0.17",
      "_model_name": "LeafletTileLayerModel",
      "_view_count": null,
      "_view_module": "jupyter-leaflet",
      "_view_module_version": "^0.17",
      "_view_name": "LeafletTileLayerView",
      "attribution": "Google Earth Engine",
      "base": false,
      "bottom": true,
      "bounds": null,
      "detect_retina": false,
      "loading": false,
      "max_native_zoom": null,
      "max_zoom": 24,
      "min_native_zoom": null,
      "min_zoom": 0,
      "name": "training",
      "no_wrap": false,
      "opacity": 1,
      "options": [
       "attribution",
       "bounds",
       "detect_retina",
       "max_native_zoom",
       "max_zoom",
       "min_native_zoom",
       "min_zoom",
       "no_wrap",
       "tile_size",
       "tms",
       "zoom_offset"
      ],
      "pane": "",
      "popup": null,
      "popup_max_height": null,
      "popup_max_width": 300,
      "popup_min_width": 50,
      "show_loading": false,
      "subitems": [],
      "tile_size": 256,
      "tms": false,
      "url": "https://earthengine.googleapis.com/v1/projects/earthengine-legacy/maps/e56d80250a2a003cc19318760402a01e-5ece9777e3005033bc5e7d56283bbb3e/tiles/{z}/{x}/{y}",
      "visible": true,
      "zoom_offset": 0
     }
    },
    "c5e5cc538af84384b8430dab33dcb161": {
     "model_module": "jupyter-leaflet",
     "model_module_version": "^0.17",
     "model_name": "LeafletMapStyleModel",
     "state": {
      "_model_module": "jupyter-leaflet",
      "_model_module_version": "^0.17",
      "_model_name": "LeafletMapStyleModel",
      "_view_count": null,
      "_view_module": "@jupyter-widgets/base",
      "_view_module_version": "1.2.0",
      "_view_name": "StyleView",
      "cursor": "grab"
     }
    },
    "c703e1cd35a744809fb731528118d40f": {
     "model_module": "@jupyter-widgets/base",
     "model_module_version": "1.2.0",
     "model_name": "LayoutModel",
     "state": {
      "_model_module": "@jupyter-widgets/base",
      "_model_module_version": "1.2.0",
      "_model_name": "LayoutModel",
      "_view_count": null,
      "_view_module": "@jupyter-widgets/base",
      "_view_module_version": "1.2.0",
      "_view_name": "LayoutView",
      "align_content": null,
      "align_items": null,
      "align_self": null,
      "border": null,
      "bottom": null,
      "display": null,
      "flex": null,
      "flex_flow": null,
      "grid_area": null,
      "grid_auto_columns": null,
      "grid_auto_flow": null,
      "grid_auto_rows": null,
      "grid_column": null,
      "grid_gap": null,
      "grid_row": null,
      "grid_template_areas": null,
      "grid_template_columns": null,
      "grid_template_rows": null,
      "height": "28px",
      "justify_content": null,
      "justify_items": null,
      "left": null,
      "margin": null,
      "max_height": null,
      "max_width": null,
      "min_height": null,
      "min_width": null,
      "object_fit": null,
      "object_position": null,
      "order": null,
      "overflow": null,
      "overflow_x": null,
      "overflow_y": null,
      "padding": "0px 0px 0px 4px",
      "right": null,
      "top": null,
      "visibility": null,
      "width": "28px"
     }
    },
    "c761e2243e7b4d83a1969fdaf4b93a24": {
     "model_module": "@jupyter-widgets/controls",
     "model_module_version": "1.5.0",
     "model_name": "HBoxModel",
     "state": {
      "_dom_classes": [],
      "_model_module": "@jupyter-widgets/controls",
      "_model_module_version": "1.5.0",
      "_model_name": "HBoxModel",
      "_view_count": null,
      "_view_module": "@jupyter-widgets/controls",
      "_view_module_version": "1.5.0",
      "_view_name": "HBoxView",
      "box_style": "",
      "children": [
       "IPY_MODEL_8b22d7b13bef4bd3b011cccdb5a29eb2"
      ],
      "layout": "IPY_MODEL_a1b7669cf289404689f00b27aaffb833"
     }
    },
    "c7806e38f2334958a9d95db9dc68e6ae": {
     "model_module": "jupyter-leaflet",
     "model_module_version": "^0.17",
     "model_name": "LeafletMapStyleModel",
     "state": {
      "_model_module": "jupyter-leaflet",
      "_model_module_version": "^0.17",
      "_model_name": "LeafletMapStyleModel",
      "_view_count": null,
      "_view_module": "@jupyter-widgets/base",
      "_view_module_version": "1.2.0",
      "_view_name": "StyleView",
      "cursor": "grab"
     }
    },
    "c7897d004b4343508123f52974f1678f": {
     "model_module": "jupyter-leaflet",
     "model_module_version": "^0.17",
     "model_name": "LeafletWidgetControlModel",
     "state": {
      "_model_module": "jupyter-leaflet",
      "_model_module_version": "^0.17",
      "_model_name": "LeafletWidgetControlModel",
      "_view_count": null,
      "_view_module": "jupyter-leaflet",
      "_view_module_version": "^0.17",
      "_view_name": "LeafletWidgetControlView",
      "max_height": null,
      "max_width": null,
      "min_height": null,
      "min_width": null,
      "options": [
       "position",
       "transparent_bg"
      ],
      "position": "topright",
      "transparent_bg": false,
      "widget": "IPY_MODEL_a1a95a0bf8244328aefea9c0b6d96d6c"
     }
    },
    "c84b735af856485c8d6a1c440ebee8f1": {
     "model_module": "jupyter-leaflet",
     "model_module_version": "^0.17",
     "model_name": "LeafletMapStyleModel",
     "state": {
      "_model_module": "jupyter-leaflet",
      "_model_module_version": "^0.17",
      "_model_name": "LeafletMapStyleModel",
      "_view_count": null,
      "_view_module": "@jupyter-widgets/base",
      "_view_module_version": "1.2.0",
      "_view_name": "StyleView",
      "cursor": "grab"
     }
    },
    "c8bd1dc128894cf79c5d8000cc752ebc": {
     "model_module": "jupyter-leaflet",
     "model_module_version": "^0.17",
     "model_name": "LeafletTileLayerModel",
     "state": {
      "_model_module": "jupyter-leaflet",
      "_model_module_version": "^0.17",
      "_model_name": "LeafletTileLayerModel",
      "_view_count": null,
      "_view_module": "jupyter-leaflet",
      "_view_module_version": "^0.17",
      "_view_name": "LeafletTileLayerView",
      "attribution": "&copy; <a href=\"https://www.openstreetmap.org/copyright\">OpenStreetMap</a> contributors",
      "base": true,
      "bottom": true,
      "bounds": null,
      "detect_retina": false,
      "loading": false,
      "max_native_zoom": null,
      "max_zoom": 19,
      "min_native_zoom": null,
      "min_zoom": 1,
      "name": "OpenStreetMap.Mapnik",
      "no_wrap": false,
      "opacity": 1,
      "options": [
       "attribution",
       "bounds",
       "detect_retina",
       "max_native_zoom",
       "max_zoom",
       "min_native_zoom",
       "min_zoom",
       "no_wrap",
       "tile_size",
       "tms",
       "zoom_offset"
      ],
      "pane": "",
      "popup": null,
      "popup_max_height": null,
      "popup_max_width": 300,
      "popup_min_width": 50,
      "show_loading": false,
      "subitems": [],
      "tile_size": 256,
      "tms": false,
      "url": "https://tile.openstreetmap.org/{z}/{x}/{y}.png",
      "visible": true,
      "zoom_offset": 0
     }
    },
    "c99ae595fb6f48bb951e8765034c1401": {
     "model_module": "@jupyter-widgets/controls",
     "model_module_version": "1.5.0",
     "model_name": "HBoxModel",
     "state": {
      "_dom_classes": [],
      "_model_module": "@jupyter-widgets/controls",
      "_model_module_version": "1.5.0",
      "_model_name": "HBoxModel",
      "_view_count": null,
      "_view_module": "@jupyter-widgets/controls",
      "_view_module_version": "1.5.0",
      "_view_name": "HBoxView",
      "box_style": "",
      "children": [
       "IPY_MODEL_8cfce8b96a164882baeb732da8d92a7a"
      ],
      "layout": "IPY_MODEL_fe75a589c48242d9a319e7a60d04c540"
     }
    },
    "ca18d05e9abf4cb59eecdc0edc942db8": {
     "model_module": "@jupyter-widgets/base",
     "model_module_version": "1.2.0",
     "model_name": "LayoutModel",
     "state": {
      "_model_module": "@jupyter-widgets/base",
      "_model_module_version": "1.2.0",
      "_model_name": "LayoutModel",
      "_view_count": null,
      "_view_module": "@jupyter-widgets/base",
      "_view_module_version": "1.2.0",
      "_view_name": "LayoutView",
      "align_content": null,
      "align_items": null,
      "align_self": null,
      "border": null,
      "bottom": null,
      "display": null,
      "flex": null,
      "flex_flow": null,
      "grid_area": null,
      "grid_auto_columns": null,
      "grid_auto_flow": null,
      "grid_auto_rows": null,
      "grid_column": null,
      "grid_gap": null,
      "grid_row": null,
      "grid_template_areas": null,
      "grid_template_columns": null,
      "grid_template_rows": null,
      "height": null,
      "justify_content": null,
      "justify_items": null,
      "left": null,
      "margin": null,
      "max_height": null,
      "max_width": null,
      "min_height": null,
      "min_width": null,
      "object_fit": null,
      "object_position": null,
      "order": null,
      "overflow": null,
      "overflow_x": null,
      "overflow_y": null,
      "padding": null,
      "right": null,
      "top": null,
      "visibility": null,
      "width": null
     }
    },
    "ca8a28a0545a47bfb12d78163bcf2753": {
     "model_module": "jupyter-leaflet",
     "model_module_version": "^0.17",
     "model_name": "LeafletTileLayerModel",
     "state": {
      "_model_module": "jupyter-leaflet",
      "_model_module_version": "^0.17",
      "_model_name": "LeafletTileLayerModel",
      "_view_count": null,
      "_view_module": "jupyter-leaflet",
      "_view_module_version": "^0.17",
      "_view_name": "LeafletTileLayerView",
      "attribution": "Google Earth Engine",
      "base": false,
      "bottom": true,
      "bounds": null,
      "detect_retina": false,
      "loading": false,
      "max_native_zoom": null,
      "max_zoom": 24,
      "min_native_zoom": null,
      "min_zoom": 0,
      "name": "shadeN",
      "no_wrap": false,
      "opacity": 1,
      "options": [
       "attribution",
       "bounds",
       "detect_retina",
       "max_native_zoom",
       "max_zoom",
       "min_native_zoom",
       "min_zoom",
       "no_wrap",
       "tile_size",
       "tms",
       "zoom_offset"
      ],
      "pane": "",
      "popup": null,
      "popup_max_height": null,
      "popup_max_width": 300,
      "popup_min_width": 50,
      "show_loading": false,
      "subitems": [],
      "tile_size": 256,
      "tms": false,
      "url": "https://earthengine.googleapis.com/v1/projects/earthengine-legacy/maps/a23840a0b7bc640eb4dba7df317f6c93-ccf8f825a552cc37ac3b1d39f6e31241/tiles/{z}/{x}/{y}",
      "visible": true,
      "zoom_offset": 0
     }
    },
    "ca96b2695d4945dd888356d57bc1ff12": {
     "model_module": "jupyter-leaflet",
     "model_module_version": "^0.17",
     "model_name": "LeafletFullScreenControlModel",
     "state": {
      "_model_module": "jupyter-leaflet",
      "_model_module_version": "^0.17",
      "_model_name": "LeafletFullScreenControlModel",
      "_view_count": null,
      "_view_module": "jupyter-leaflet",
      "_view_module_version": "^0.17",
      "_view_name": "LeafletFullScreenControlView",
      "options": [
       "position"
      ],
      "position": "topleft"
     }
    },
    "caae665d010e4ff79859f17110ac574b": {
     "model_module": "jupyter-leaflet",
     "model_module_version": "^0.17",
     "model_name": "LeafletZoomControlModel",
     "state": {
      "_model_module": "jupyter-leaflet",
      "_model_module_version": "^0.17",
      "_model_name": "LeafletZoomControlModel",
      "_view_count": null,
      "_view_module": "jupyter-leaflet",
      "_view_module_version": "^0.17",
      "_view_name": "LeafletZoomControlView",
      "options": [
       "position",
       "zoom_in_text",
       "zoom_in_title",
       "zoom_out_text",
       "zoom_out_title"
      ],
      "position": "topleft",
      "zoom_in_text": "+",
      "zoom_in_title": "Zoom in",
      "zoom_out_text": "-",
      "zoom_out_title": "Zoom out"
     }
    },
    "d04b8aa3c7da4a26993b6200c3a54aba": {
     "model_module": "@jupyter-widgets/controls",
     "model_module_version": "1.5.0",
     "model_name": "DescriptionStyleModel",
     "state": {
      "_model_module": "@jupyter-widgets/controls",
      "_model_module_version": "1.5.0",
      "_model_name": "DescriptionStyleModel",
      "_view_count": null,
      "_view_module": "@jupyter-widgets/base",
      "_view_module_version": "1.2.0",
      "_view_name": "StyleView",
      "description_width": ""
     }
    },
    "d115f3540f1848e389c4e76147c9326f": {
     "model_module": "@jupyter-widgets/controls",
     "model_module_version": "1.5.0",
     "model_name": "ToggleButtonModel",
     "state": {
      "_dom_classes": [],
      "_model_module": "@jupyter-widgets/controls",
      "_model_module_version": "1.5.0",
      "_model_name": "ToggleButtonModel",
      "_view_count": null,
      "_view_module": "@jupyter-widgets/controls",
      "_view_module_version": "1.5.0",
      "_view_name": "ToggleButtonView",
      "button_style": "",
      "description": "",
      "description_tooltip": null,
      "disabled": false,
      "icon": "globe",
      "layout": "IPY_MODEL_b7150b13a8804c969064edbf221ba340",
      "style": "IPY_MODEL_5e9c6e2da81d429f9e18ea059ce9df6a",
      "tooltip": "Search location/data",
      "value": false
     }
    },
    "d1ba51c445234d3c9054941bb65efedd": {
     "model_module": "@jupyter-widgets/base",
     "model_module_version": "1.2.0",
     "model_name": "LayoutModel",
     "state": {
      "_model_module": "@jupyter-widgets/base",
      "_model_module_version": "1.2.0",
      "_model_name": "LayoutModel",
      "_view_count": null,
      "_view_module": "@jupyter-widgets/base",
      "_view_module_version": "1.2.0",
      "_view_name": "LayoutView",
      "align_content": null,
      "align_items": null,
      "align_self": null,
      "border": null,
      "bottom": null,
      "display": null,
      "flex": null,
      "flex_flow": null,
      "grid_area": null,
      "grid_auto_columns": null,
      "grid_auto_flow": null,
      "grid_auto_rows": null,
      "grid_column": null,
      "grid_gap": null,
      "grid_row": null,
      "grid_template_areas": null,
      "grid_template_columns": null,
      "grid_template_rows": null,
      "height": null,
      "justify_content": null,
      "justify_items": null,
      "left": null,
      "margin": null,
      "max_height": null,
      "max_width": null,
      "min_height": null,
      "min_width": null,
      "object_fit": null,
      "object_position": null,
      "order": null,
      "overflow": null,
      "overflow_x": null,
      "overflow_y": null,
      "padding": null,
      "right": null,
      "top": null,
      "visibility": null,
      "width": null
     }
    },
    "d1f780d58962428ea7060827a1c804c4": {
     "model_module": "jupyter-leaflet",
     "model_module_version": "^0.17",
     "model_name": "LeafletMapStyleModel",
     "state": {
      "_model_module": "jupyter-leaflet",
      "_model_module_version": "^0.17",
      "_model_name": "LeafletMapStyleModel",
      "_view_count": null,
      "_view_module": "@jupyter-widgets/base",
      "_view_module_version": "1.2.0",
      "_view_name": "StyleView",
      "cursor": "move"
     }
    },
    "d2cd36f82ec54616b3ced26bb709a35b": {
     "model_module": "jupyter-leaflet",
     "model_module_version": "^0.17",
     "model_name": "LeafletTileLayerModel",
     "state": {
      "_model_module": "jupyter-leaflet",
      "_model_module_version": "^0.17",
      "_model_name": "LeafletTileLayerModel",
      "_view_count": null,
      "_view_module": "jupyter-leaflet",
      "_view_module_version": "^0.17",
      "_view_name": "LeafletTileLayerView",
      "attribution": "Google Earth Engine",
      "base": false,
      "bottom": true,
      "bounds": null,
      "detect_retina": false,
      "loading": false,
      "max_native_zoom": null,
      "max_zoom": 24,
      "min_native_zoom": null,
      "min_zoom": 0,
      "name": "corB",
      "no_wrap": false,
      "opacity": 1,
      "options": [
       "attribution",
       "bounds",
       "detect_retina",
       "max_native_zoom",
       "max_zoom",
       "min_native_zoom",
       "min_zoom",
       "no_wrap",
       "tile_size",
       "tms",
       "zoom_offset"
      ],
      "pane": "",
      "popup": null,
      "popup_max_height": null,
      "popup_max_width": 300,
      "popup_min_width": 50,
      "show_loading": false,
      "subitems": [],
      "tile_size": 256,
      "tms": false,
      "url": "https://earthengine.googleapis.com/v1/projects/earthengine-legacy/maps/dcc8b284285fe850d69ee5716cb2acf0-2f1cd4a6ffb988201ae22b62678add31/tiles/{z}/{x}/{y}",
      "visible": true,
      "zoom_offset": 0
     }
    },
    "d2eec675f6ab4c44a77d0752bd7418e7": {
     "model_module": "@jupyter-widgets/controls",
     "model_module_version": "1.5.0",
     "model_name": "VBoxModel",
     "state": {
      "_dom_classes": [],
      "_model_module": "@jupyter-widgets/controls",
      "_model_module_version": "1.5.0",
      "_model_name": "VBoxModel",
      "_view_count": null,
      "_view_module": "@jupyter-widgets/controls",
      "_view_module_version": "1.5.0",
      "_view_name": "VBoxView",
      "box_style": "",
      "children": [
       "IPY_MODEL_66fc9e4d39a44a668d092ab30cf127c6"
      ],
      "layout": "IPY_MODEL_1ff4248465f9472b9cd66b196204473d"
     }
    },
    "d76f1be06e5c4b558752c27ab40ab49f": {
     "model_module": "jupyter-leaflet",
     "model_module_version": "^0.17",
     "model_name": "LeafletTileLayerModel",
     "state": {
      "_model_module": "jupyter-leaflet",
      "_model_module_version": "^0.17",
      "_model_name": "LeafletTileLayerModel",
      "_view_count": null,
      "_view_module": "jupyter-leaflet",
      "_view_module_version": "^0.17",
      "_view_name": "LeafletTileLayerView",
      "attribution": "Google Earth Engine",
      "base": false,
      "bottom": true,
      "bounds": null,
      "detect_retina": false,
      "loading": false,
      "max_native_zoom": null,
      "max_zoom": 24,
      "min_native_zoom": null,
      "min_zoom": 0,
      "name": "training",
      "no_wrap": false,
      "opacity": 0.4,
      "options": [
       "attribution",
       "bounds",
       "detect_retina",
       "max_native_zoom",
       "max_zoom",
       "min_native_zoom",
       "min_zoom",
       "no_wrap",
       "tile_size",
       "tms",
       "zoom_offset"
      ],
      "pane": "",
      "popup": null,
      "popup_max_height": null,
      "popup_max_width": 300,
      "popup_min_width": 50,
      "show_loading": false,
      "subitems": [],
      "tile_size": 256,
      "tms": false,
      "url": "https://earthengine.googleapis.com/v1/projects/earthengine-legacy/maps/e56d80250a2a003cc19318760402a01e-84b343723e35c8b8ea01b9ba95f382de/tiles/{z}/{x}/{y}",
      "visible": true,
      "zoom_offset": 0
     }
    },
    "d8e7c00ed99d41fd8f1b0d80b43b1d78": {
     "model_module": "jupyter-leaflet",
     "model_module_version": "^0.17",
     "model_name": "LeafletScaleControlModel",
     "state": {
      "_model_module": "jupyter-leaflet",
      "_model_module_version": "^0.17",
      "_model_name": "LeafletScaleControlModel",
      "_view_count": null,
      "_view_module": "jupyter-leaflet",
      "_view_module_version": "^0.17",
      "_view_name": "LeafletScaleControlView",
      "imperial": true,
      "max_width": 100,
      "metric": true,
      "options": [
       "imperial",
       "max_width",
       "metric",
       "position",
       "update_when_idle"
      ],
      "position": "bottomleft",
      "update_when_idle": false
     }
    },
    "da0b04838f1e49f283fc729a60bcc086": {
     "model_module": "jupyter-leaflet",
     "model_module_version": "^0.17",
     "model_name": "LeafletTileLayerModel",
     "state": {
      "_model_module": "jupyter-leaflet",
      "_model_module_version": "^0.17",
      "_model_name": "LeafletTileLayerModel",
      "_view_count": null,
      "_view_module": "jupyter-leaflet",
      "_view_module_version": "^0.17",
      "_view_name": "LeafletTileLayerView",
      "attribution": "Google Earth Engine",
      "base": false,
      "bottom": true,
      "bounds": null,
      "detect_retina": false,
      "loading": false,
      "max_native_zoom": null,
      "max_zoom": 24,
      "min_native_zoom": null,
      "min_zoom": 0,
      "name": "postFire_SNIC",
      "no_wrap": false,
      "opacity": 0.6,
      "options": [
       "attribution",
       "bounds",
       "detect_retina",
       "max_native_zoom",
       "max_zoom",
       "min_native_zoom",
       "min_zoom",
       "no_wrap",
       "tile_size",
       "tms",
       "zoom_offset"
      ],
      "pane": "",
      "popup": null,
      "popup_max_height": null,
      "popup_max_width": 300,
      "popup_min_width": 50,
      "show_loading": false,
      "subitems": [],
      "tile_size": 256,
      "tms": false,
      "url": "https://earthengine.googleapis.com/v1/projects/earthengine-legacy/maps/798d9b238e7c524749c66973e0953c50-3ec53dbb126a95e46dc0a45fb16939cc/tiles/{z}/{x}/{y}",
      "visible": true,
      "zoom_offset": 0
     }
    },
    "dc17ea32b7f64d3fb867c2d8c5dc212c": {
     "model_module": "jupyter-leaflet",
     "model_module_version": "^0.17",
     "model_name": "LeafletDrawControlModel",
     "state": {
      "_model_module": "jupyter-leaflet",
      "_model_module_version": "^0.17",
      "_model_name": "LeafletDrawControlModel",
      "_view_count": null,
      "_view_module": "jupyter-leaflet",
      "_view_module_version": "^0.17",
      "_view_name": "LeafletDrawControlView",
      "circle": {},
      "circlemarker": {},
      "data": [],
      "edit": true,
      "marker": {
       "shapeOptions": {
        "color": "#3388ff"
       }
      },
      "options": [
       "position"
      ],
      "polygon": {
       "shapeOptions": {}
      },
      "polyline": {
       "shapeOptions": {}
      },
      "position": "topleft",
      "rectangle": {
       "shapeOptions": {
        "color": "#3388ff"
       }
      },
      "remove": true
     }
    },
    "dc51401f037344e1b742855ea6648d42": {
     "model_module": "@jupyter-widgets/base",
     "model_module_version": "1.2.0",
     "model_name": "LayoutModel",
     "state": {
      "_model_module": "@jupyter-widgets/base",
      "_model_module_version": "1.2.0",
      "_model_name": "LayoutModel",
      "_view_count": null,
      "_view_module": "@jupyter-widgets/base",
      "_view_module_version": "1.2.0",
      "_view_name": "LayoutView",
      "align_content": null,
      "align_items": null,
      "align_self": null,
      "border": null,
      "bottom": null,
      "display": null,
      "flex": null,
      "flex_flow": null,
      "grid_area": null,
      "grid_auto_columns": null,
      "grid_auto_flow": null,
      "grid_auto_rows": null,
      "grid_column": null,
      "grid_gap": null,
      "grid_row": null,
      "grid_template_areas": null,
      "grid_template_columns": null,
      "grid_template_rows": null,
      "height": "600px",
      "justify_content": null,
      "justify_items": null,
      "left": null,
      "margin": null,
      "max_height": null,
      "max_width": null,
      "min_height": null,
      "min_width": null,
      "object_fit": null,
      "object_position": null,
      "order": null,
      "overflow": null,
      "overflow_x": null,
      "overflow_y": null,
      "padding": null,
      "right": null,
      "top": null,
      "visibility": null,
      "width": null
     }
    },
    "dd21ff1cd54b4749b2db136d2c0bf37d": {
     "model_module": "@jupyter-widgets/controls",
     "model_module_version": "1.5.0",
     "model_name": "VBoxModel",
     "state": {
      "_dom_classes": [],
      "_model_module": "@jupyter-widgets/controls",
      "_model_module_version": "1.5.0",
      "_model_name": "VBoxModel",
      "_view_count": null,
      "_view_module": "@jupyter-widgets/controls",
      "_view_module_version": "1.5.0",
      "_view_name": "VBoxView",
      "box_style": "",
      "children": [
       "IPY_MODEL_90c24ba9f8314b2dafb944896306a3aa"
      ],
      "layout": "IPY_MODEL_903031c55f11412c85c5f419f9340bd3"
     }
    },
    "dde7f71511d14952a1fc95ae260302a4": {
     "model_module": "@jupyter-widgets/controls",
     "model_module_version": "1.5.0",
     "model_name": "ToggleButtonModel",
     "state": {
      "_dom_classes": [],
      "_model_module": "@jupyter-widgets/controls",
      "_model_module_version": "1.5.0",
      "_model_name": "ToggleButtonModel",
      "_view_count": null,
      "_view_module": "@jupyter-widgets/controls",
      "_view_module_version": "1.5.0",
      "_view_name": "ToggleButtonView",
      "button_style": "",
      "description": "",
      "description_tooltip": null,
      "disabled": false,
      "icon": "wrench",
      "layout": "IPY_MODEL_a96c18c555f145169c3dcdef14471637",
      "style": "IPY_MODEL_987a2dd14f9242e2857bab5aba7bcc93",
      "tooltip": "Toolbar",
      "value": false
     }
    },
    "de4a335fdb2c4f3f94fb08e786a73253": {
     "model_module": "jupyter-leaflet",
     "model_module_version": "^0.17",
     "model_name": "LeafletTileLayerModel",
     "state": {
      "_model_module": "jupyter-leaflet",
      "_model_module_version": "^0.17",
      "_model_name": "LeafletTileLayerModel",
      "_view_count": null,
      "_view_module": "jupyter-leaflet",
      "_view_module_version": "^0.17",
      "_view_name": "LeafletTileLayerView",
      "attribution": "Google Earth Engine",
      "base": false,
      "bottom": true,
      "bounds": null,
      "detect_retina": false,
      "loading": false,
      "max_native_zoom": null,
      "max_zoom": 24,
      "min_native_zoom": null,
      "min_zoom": 0,
      "name": "postFire",
      "no_wrap": false,
      "opacity": 1,
      "options": [
       "attribution",
       "bounds",
       "detect_retina",
       "max_native_zoom",
       "max_zoom",
       "min_native_zoom",
       "min_zoom",
       "no_wrap",
       "tile_size",
       "tms",
       "zoom_offset"
      ],
      "pane": "",
      "popup": null,
      "popup_max_height": null,
      "popup_max_width": 300,
      "popup_min_width": 50,
      "show_loading": false,
      "subitems": [],
      "tile_size": 256,
      "tms": false,
      "url": "https://earthengine.googleapis.com/v1/projects/earthengine-legacy/maps/549bb5f9d6aa6ead8ce71c80b5914bef-1e15e3cd83014a90f88c9fec51ceaf97/tiles/{z}/{x}/{y}",
      "visible": true,
      "zoom_offset": 0
     }
    },
    "e13d0bdd95a14dadb6e3dc4944ca3ad5": {
     "model_module": "jupyter-leaflet",
     "model_module_version": "^0.17",
     "model_name": "LeafletMapStyleModel",
     "state": {
      "_model_module": "jupyter-leaflet",
      "_model_module_version": "^0.17",
      "_model_name": "LeafletMapStyleModel",
      "_view_count": null,
      "_view_module": "@jupyter-widgets/base",
      "_view_module_version": "1.2.0",
      "_view_name": "StyleView",
      "cursor": "move"
     }
    },
    "e309470379644ddda638c4413ac66688": {
     "model_module": "@jupyter-widgets/base",
     "model_module_version": "1.2.0",
     "model_name": "LayoutModel",
     "state": {
      "_model_module": "@jupyter-widgets/base",
      "_model_module_version": "1.2.0",
      "_model_name": "LayoutModel",
      "_view_count": null,
      "_view_module": "@jupyter-widgets/base",
      "_view_module_version": "1.2.0",
      "_view_name": "LayoutView",
      "align_content": null,
      "align_items": null,
      "align_self": null,
      "border": null,
      "bottom": null,
      "display": null,
      "flex": null,
      "flex_flow": null,
      "grid_area": null,
      "grid_auto_columns": null,
      "grid_auto_flow": null,
      "grid_auto_rows": null,
      "grid_column": null,
      "grid_gap": null,
      "grid_row": null,
      "grid_template_areas": null,
      "grid_template_columns": null,
      "grid_template_rows": null,
      "height": "28px",
      "justify_content": null,
      "justify_items": null,
      "left": null,
      "margin": null,
      "max_height": null,
      "max_width": null,
      "min_height": null,
      "min_width": null,
      "object_fit": null,
      "object_position": null,
      "order": null,
      "overflow": null,
      "overflow_x": null,
      "overflow_y": null,
      "padding": "0px 0px 0px 4px",
      "right": null,
      "top": null,
      "visibility": null,
      "width": "28px"
     }
    },
    "e5c818051d034abbac6364859c2a9450": {
     "model_module": "jupyter-leaflet",
     "model_module_version": "^0.17",
     "model_name": "LeafletMeasureControlModel",
     "state": {
      "_custom_units": {},
      "_model_module": "jupyter-leaflet",
      "_model_module_version": "^0.17",
      "_model_name": "LeafletMeasureControlModel",
      "_view_count": null,
      "_view_module": "jupyter-leaflet",
      "_view_module_version": "^0.17",
      "_view_name": "LeafletMeasureControlView",
      "active_color": "orange",
      "capture_z_index": 10000,
      "completed_color": "#C8F2BE",
      "options": [
       "active_color",
       "capture_z_index",
       "completed_color",
       "popup_options",
       "position",
       "primary_area_unit",
       "primary_length_unit",
       "secondary_area_unit",
       "secondary_length_unit"
      ],
      "popup_options": {
       "autoPanPadding": [
        10,
        10
       ],
       "className": "leaflet-measure-resultpopup"
      },
      "position": "bottomleft",
      "primary_area_unit": "acres",
      "primary_length_unit": "kilometers",
      "secondary_area_unit": null,
      "secondary_length_unit": null
     }
    },
    "e6250fe80d0f4c06842b34e9cc31da40": {
     "model_module": "jupyter-leaflet",
     "model_module_version": "^0.17",
     "model_name": "LeafletWidgetControlModel",
     "state": {
      "_model_module": "jupyter-leaflet",
      "_model_module_version": "^0.17",
      "_model_name": "LeafletWidgetControlModel",
      "_view_count": null,
      "_view_module": "jupyter-leaflet",
      "_view_module_version": "^0.17",
      "_view_name": "LeafletWidgetControlView",
      "max_height": null,
      "max_width": null,
      "min_height": null,
      "min_width": null,
      "options": [
       "position",
       "transparent_bg"
      ],
      "position": "topleft",
      "transparent_bg": false,
      "widget": "IPY_MODEL_bfe0064656e44e3f974b7d96d0eea400"
     }
    },
    "e75dec623e2a429db1dfc1618802c7a0": {
     "model_module": "jupyter-leaflet",
     "model_module_version": "^0.17",
     "model_name": "LeafletDrawControlModel",
     "state": {
      "_model_module": "jupyter-leaflet",
      "_model_module_version": "^0.17",
      "_model_name": "LeafletDrawControlModel",
      "_view_count": null,
      "_view_module": "jupyter-leaflet",
      "_view_module_version": "^0.17",
      "_view_name": "LeafletDrawControlView",
      "circle": {},
      "circlemarker": {},
      "data": [],
      "edit": true,
      "marker": {
       "shapeOptions": {
        "color": "#3388ff"
       }
      },
      "options": [
       "position"
      ],
      "polygon": {
       "shapeOptions": {}
      },
      "polyline": {
       "shapeOptions": {}
      },
      "position": "topleft",
      "rectangle": {
       "shapeOptions": {
        "color": "#3388ff"
       }
      },
      "remove": true
     }
    },
    "e8d833df8396441f9c38ceca00e71b7b": {
     "model_module": "jupyter-leaflet",
     "model_module_version": "^0.17",
     "model_name": "LeafletMapStyleModel",
     "state": {
      "_model_module": "jupyter-leaflet",
      "_model_module_version": "^0.17",
      "_model_name": "LeafletMapStyleModel",
      "_view_count": null,
      "_view_module": "@jupyter-widgets/base",
      "_view_module_version": "1.2.0",
      "_view_name": "StyleView",
      "cursor": "grab"
     }
    },
    "eb454b004c27400aafad054ef640bb64": {
     "model_module": "@jupyter-widgets/controls",
     "model_module_version": "1.5.0",
     "model_name": "ToggleButtonModel",
     "state": {
      "_dom_classes": [],
      "_model_module": "@jupyter-widgets/controls",
      "_model_module_version": "1.5.0",
      "_model_name": "ToggleButtonModel",
      "_view_count": null,
      "_view_module": "@jupyter-widgets/controls",
      "_view_module_version": "1.5.0",
      "_view_name": "ToggleButtonView",
      "button_style": "",
      "description": "",
      "description_tooltip": null,
      "disabled": false,
      "icon": "wrench",
      "layout": "IPY_MODEL_a7e2b23309ed453b912c53a02b1384a3",
      "style": "IPY_MODEL_5ae3c170301246e18ce1343664a44ba3",
      "tooltip": "Toolbar",
      "value": false
     }
    },
    "ec0988bd9b4f4ca98d8b364ae7009e78": {
     "model_module": "jupyter-leaflet",
     "model_module_version": "^0.17",
     "model_name": "LeafletLayersControlModel",
     "state": {
      "_model_module": "jupyter-leaflet",
      "_model_module_version": "^0.17",
      "_model_name": "LeafletLayersControlModel",
      "_view_count": null,
      "_view_module": "jupyter-leaflet",
      "_view_module_version": "^0.17",
      "_view_name": "LeafletLayersControlView",
      "options": [
       "position"
      ],
      "position": "topright"
     }
    },
    "ec6e031f093e4980b94351dc0438f335": {
     "model_module": "jupyter-leaflet",
     "model_module_version": "^0.17",
     "model_name": "LeafletZoomControlModel",
     "state": {
      "_model_module": "jupyter-leaflet",
      "_model_module_version": "^0.17",
      "_model_name": "LeafletZoomControlModel",
      "_view_count": null,
      "_view_module": "jupyter-leaflet",
      "_view_module_version": "^0.17",
      "_view_name": "LeafletZoomControlView",
      "options": [
       "position",
       "zoom_in_text",
       "zoom_in_title",
       "zoom_out_text",
       "zoom_out_title"
      ],
      "position": "topleft",
      "zoom_in_text": "+",
      "zoom_in_title": "Zoom in",
      "zoom_out_text": "-",
      "zoom_out_title": "Zoom out"
     }
    },
    "eceffdd0088f42d3a2efac0dd410fddd": {
     "model_module": "jupyter-leaflet",
     "model_module_version": "^0.17",
     "model_name": "LeafletLayersControlModel",
     "state": {
      "_model_module": "jupyter-leaflet",
      "_model_module_version": "^0.17",
      "_model_name": "LeafletLayersControlModel",
      "_view_count": null,
      "_view_module": "jupyter-leaflet",
      "_view_module_version": "^0.17",
      "_view_name": "LeafletLayersControlView",
      "options": [
       "position"
      ],
      "position": "topright"
     }
    },
    "ed8c17843c2c4d12bd703f775b108901": {
     "model_module": "@jupyter-widgets/controls",
     "model_module_version": "1.5.0",
     "model_name": "VBoxModel",
     "state": {
      "_dom_classes": [],
      "_model_module": "@jupyter-widgets/controls",
      "_model_module_version": "1.5.0",
      "_model_name": "VBoxModel",
      "_view_count": null,
      "_view_module": "@jupyter-widgets/controls",
      "_view_module_version": "1.5.0",
      "_view_name": "VBoxView",
      "box_style": "",
      "children": [
       "IPY_MODEL_687f1a7a8fb74f4cb07a82349e56aa12"
      ],
      "layout": "IPY_MODEL_8b25406c388d42e1bca61dcac8380c3a"
     }
    },
    "edacdec63c4a44169d99fe94bcd8faad": {
     "model_module": "jupyter-leaflet",
     "model_module_version": "^0.17",
     "model_name": "LeafletTileLayerModel",
     "state": {
      "_model_module": "jupyter-leaflet",
      "_model_module_version": "^0.17",
      "_model_name": "LeafletTileLayerModel",
      "_view_count": null,
      "_view_module": "jupyter-leaflet",
      "_view_module_version": "^0.17",
      "_view_name": "LeafletTileLayerView",
      "attribution": "Google Earth Engine",
      "base": false,
      "bottom": true,
      "bounds": null,
      "detect_retina": false,
      "loading": false,
      "max_native_zoom": null,
      "max_zoom": 24,
      "min_native_zoom": null,
      "min_zoom": 0,
      "name": "texture",
      "no_wrap": false,
      "opacity": 1,
      "options": [
       "attribution",
       "bounds",
       "detect_retina",
       "max_native_zoom",
       "max_zoom",
       "min_native_zoom",
       "min_zoom",
       "no_wrap",
       "tile_size",
       "tms",
       "zoom_offset"
      ],
      "pane": "",
      "popup": null,
      "popup_max_height": null,
      "popup_max_width": 300,
      "popup_min_width": 50,
      "show_loading": false,
      "subitems": [],
      "tile_size": 256,
      "tms": false,
      "url": "https://earthengine.googleapis.com/v1/projects/earthengine-legacy/maps/1bbfc9f4f8c424fb62ec11e70eebed17-b5c5cb10ac2ec1164a33dc987bbd9adc/tiles/{z}/{x}/{y}",
      "visible": true,
      "zoom_offset": 0
     }
    },
    "ee08022502694217aceedfc57169eff9": {
     "model_module": "jupyter-leaflet",
     "model_module_version": "^0.17",
     "model_name": "LeafletTileLayerModel",
     "state": {
      "_model_module": "jupyter-leaflet",
      "_model_module_version": "^0.17",
      "_model_name": "LeafletTileLayerModel",
      "_view_count": null,
      "_view_module": "jupyter-leaflet",
      "_view_module_version": "^0.17",
      "_view_name": "LeafletTileLayerView",
      "attribution": "Google Earth Engine",
      "base": false,
      "bottom": true,
      "bounds": null,
      "detect_retina": false,
      "loading": false,
      "max_native_zoom": null,
      "max_zoom": 24,
      "min_native_zoom": null,
      "min_zoom": 0,
      "name": "preFire_Kmeans",
      "no_wrap": false,
      "opacity": 0.6,
      "options": [
       "attribution",
       "bounds",
       "detect_retina",
       "max_native_zoom",
       "max_zoom",
       "min_native_zoom",
       "min_zoom",
       "no_wrap",
       "tile_size",
       "tms",
       "zoom_offset"
      ],
      "pane": "",
      "popup": null,
      "popup_max_height": null,
      "popup_max_width": 300,
      "popup_min_width": 50,
      "show_loading": false,
      "subitems": [],
      "tile_size": 256,
      "tms": false,
      "url": "https://earthengine.googleapis.com/v1/projects/earthengine-legacy/maps/94e54c646ce5cd21678b4287ce9d162d-66d3ec17661a4354534a2ad1dcc71d5a/tiles/{z}/{x}/{y}",
      "visible": true,
      "zoom_offset": 0
     }
    },
    "ee08d42dfebb4b82ae1d474701e7e788": {
     "model_module": "@jupyter-widgets/base",
     "model_module_version": "1.2.0",
     "model_name": "LayoutModel",
     "state": {
      "_model_module": "@jupyter-widgets/base",
      "_model_module_version": "1.2.0",
      "_model_name": "LayoutModel",
      "_view_count": null,
      "_view_module": "@jupyter-widgets/base",
      "_view_module_version": "1.2.0",
      "_view_name": "LayoutView",
      "align_content": null,
      "align_items": null,
      "align_self": null,
      "border": null,
      "bottom": null,
      "display": null,
      "flex": null,
      "flex_flow": null,
      "grid_area": null,
      "grid_auto_columns": null,
      "grid_auto_flow": null,
      "grid_auto_rows": null,
      "grid_column": null,
      "grid_gap": null,
      "grid_row": null,
      "grid_template_areas": null,
      "grid_template_columns": null,
      "grid_template_rows": null,
      "height": null,
      "justify_content": null,
      "justify_items": null,
      "left": null,
      "margin": null,
      "max_height": null,
      "max_width": null,
      "min_height": null,
      "min_width": null,
      "object_fit": null,
      "object_position": null,
      "order": null,
      "overflow": null,
      "overflow_x": null,
      "overflow_y": null,
      "padding": null,
      "right": null,
      "top": null,
      "visibility": null,
      "width": null
     }
    },
    "ee4dc65bd6384d789ac3348a771da2fb": {
     "model_module": "jupyter-leaflet",
     "model_module_version": "^0.17",
     "model_name": "LeafletTileLayerModel",
     "state": {
      "_model_module": "jupyter-leaflet",
      "_model_module_version": "^0.17",
      "_model_name": "LeafletTileLayerModel",
      "_view_count": null,
      "_view_module": "jupyter-leaflet",
      "_view_module_version": "^0.17",
      "_view_name": "LeafletTileLayerView",
      "attribution": "Google Earth Engine",
      "base": false,
      "bottom": true,
      "bounds": null,
      "detect_retina": false,
      "loading": false,
      "max_native_zoom": null,
      "max_zoom": 24,
      "min_native_zoom": null,
      "min_zoom": 0,
      "name": "postFire",
      "no_wrap": false,
      "opacity": 1,
      "options": [
       "attribution",
       "bounds",
       "detect_retina",
       "max_native_zoom",
       "max_zoom",
       "min_native_zoom",
       "min_zoom",
       "no_wrap",
       "tile_size",
       "tms",
       "zoom_offset"
      ],
      "pane": "",
      "popup": null,
      "popup_max_height": null,
      "popup_max_width": 300,
      "popup_min_width": 50,
      "show_loading": false,
      "subitems": [],
      "tile_size": 256,
      "tms": false,
      "url": "https://earthengine.googleapis.com/v1/projects/earthengine-legacy/maps/671f3c2ee0fb532ef96bccf7d1511a0d-abe3436f909580a9f13b0ff042d13057/tiles/{z}/{x}/{y}",
      "visible": true,
      "zoom_offset": 0
     }
    },
    "ef592c46b9ec4efd9c92cdd2dc8fba7e": {
     "model_module": "jupyter-leaflet",
     "model_module_version": "^0.17",
     "model_name": "LeafletMapModel",
     "state": {
      "_dom_classes": [],
      "_model_module": "jupyter-leaflet",
      "_model_module_version": "^0.17",
      "_model_name": "LeafletMapModel",
      "_view_count": null,
      "_view_module": "jupyter-leaflet",
      "_view_module_version": "^0.17",
      "_view_name": "LeafletMapView",
      "bottom": 13827012,
      "bounce_at_zoom_limits": true,
      "box_zoom": true,
      "center": [
       30.157966860294653,
       -85.66035211086273
      ],
      "close_popup_on_click": true,
      "controls": [
       "IPY_MODEL_c50068e5391b4754bd6fff2e3cf5fe9f",
       "IPY_MODEL_ec6e031f093e4980b94351dc0438f335",
       "IPY_MODEL_b10bb7cc21b3458f80173e1c8389b1a5",
       "IPY_MODEL_fdde928df0174803a028e9202befb70b",
       "IPY_MODEL_136c8b89d7dc4546b105458c7f088e4d",
       "IPY_MODEL_74d999d7d24347bc8b3d512329336a76",
       "IPY_MODEL_783128da1be8462aa17ad9039de61b9d",
       "IPY_MODEL_5cf7e5b3a1844abb95b4572c14a95407",
       "IPY_MODEL_7b9b67ca79774e57880465e4a72014ea"
      ],
      "crs": {
       "custom": false,
       "name": "EPSG3857"
      },
      "default_style": "IPY_MODEL_2b9169728d3c40258395f1459fab83fa",
      "double_click_zoom": true,
      "dragging": true,
      "dragging_style": "IPY_MODEL_1a208577de4a4f039ec4399a6074dc15",
      "east": -85.64890980720521,
      "fullscreen": false,
      "inertia": true,
      "inertia_deceleration": 3000,
      "inertia_max_speed": 1500,
      "interpolation": "bilinear",
      "keyboard": true,
      "keyboard_pan_offset": 80,
      "keyboard_zoom_offset": 1,
      "layers": [
       "IPY_MODEL_bc022d0185ce4e469bf6261a1cd080b8",
       "IPY_MODEL_f7908188cb0243b1980bf42b692422c6",
       "IPY_MODEL_fd6e4d4b19814013beb5f8d560600460",
       "IPY_MODEL_494797fb77ad47ccac72c1c596758b8e",
       "IPY_MODEL_bbe386888be749eeaac405fb3d3fcf34",
       "IPY_MODEL_f3fea32fcb7242ab8bf0f8d71be0b001"
      ],
      "layout": "IPY_MODEL_32718714ea854064a9ff0dfc0bbdf3d9",
      "left": 8792026,
      "max_zoom": 24,
      "min_zoom": null,
      "modisdate": "2023-09-14",
      "north": 30.16074980683145,
      "options": [
       "bounce_at_zoom_limits",
       "box_zoom",
       "center",
       "close_popup_on_click",
       "double_click_zoom",
       "dragging",
       "fullscreen",
       "inertia",
       "inertia_deceleration",
       "inertia_max_speed",
       "interpolation",
       "keyboard",
       "keyboard_pan_offset",
       "keyboard_zoom_offset",
       "max_zoom",
       "min_zoom",
       "prefer_canvas",
       "scroll_wheel_zoom",
       "tap",
       "tap_tolerance",
       "touch_zoom",
       "world_copy_jump",
       "zoom",
       "zoom_animation_threshold",
       "zoom_delta",
       "zoom_snap"
      ],
      "panes": {},
      "prefer_canvas": false,
      "right": 8794159,
      "scroll_wheel_zoom": true,
      "south": 30.15518383521625,
      "style": "IPY_MODEL_2b9169728d3c40258395f1459fab83fa",
      "tap": true,
      "tap_tolerance": 15,
      "top": 13826412,
      "touch_zoom": true,
      "west": -85.67179441452028,
      "window_url": "https://0yfe0deel58f-496ff2e9c6d22116-0-colab.googleusercontent.com/outputframe.html?vrz=colab_20230914-060107_RC00_565327706",
      "world_copy_jump": false,
      "zoom": 17,
      "zoom_animation_threshold": 4,
      "zoom_delta": 1,
      "zoom_snap": 1
     }
    },
    "f27f8f9d689947f9ad0ea928474d7950": {
     "model_module": "jupyter-leaflet",
     "model_module_version": "^0.17",
     "model_name": "LeafletDrawControlModel",
     "state": {
      "_model_module": "jupyter-leaflet",
      "_model_module_version": "^0.17",
      "_model_name": "LeafletDrawControlModel",
      "_view_count": null,
      "_view_module": "jupyter-leaflet",
      "_view_module_version": "^0.17",
      "_view_name": "LeafletDrawControlView",
      "circle": {},
      "circlemarker": {},
      "data": [],
      "edit": true,
      "marker": {
       "shapeOptions": {
        "color": "#3388ff"
       }
      },
      "options": [
       "position"
      ],
      "polygon": {
       "shapeOptions": {}
      },
      "polyline": {
       "shapeOptions": {}
      },
      "position": "topleft",
      "rectangle": {
       "shapeOptions": {
        "color": "#3388ff"
       }
      },
      "remove": true
     }
    },
    "f2801ec8634148d7aca23ec6b4d8c4ef": {
     "model_module": "jupyter-leaflet",
     "model_module_version": "^0.17",
     "model_name": "LeafletWidgetControlModel",
     "state": {
      "_model_module": "jupyter-leaflet",
      "_model_module_version": "^0.17",
      "_model_name": "LeafletWidgetControlModel",
      "_view_count": null,
      "_view_module": "jupyter-leaflet",
      "_view_module_version": "^0.17",
      "_view_name": "LeafletWidgetControlView",
      "max_height": null,
      "max_width": null,
      "min_height": null,
      "min_width": null,
      "options": [
       "position",
       "transparent_bg"
      ],
      "position": "topright",
      "transparent_bg": false,
      "widget": "IPY_MODEL_b8e71c4b44c04c038395d94c98b67319"
     }
    },
    "f3fea32fcb7242ab8bf0f8d71be0b001": {
     "model_module": "jupyter-leaflet",
     "model_module_version": "^0.17",
     "model_name": "LeafletTileLayerModel",
     "state": {
      "_model_module": "jupyter-leaflet",
      "_model_module_version": "^0.17",
      "_model_name": "LeafletTileLayerModel",
      "_view_count": null,
      "_view_module": "jupyter-leaflet",
      "_view_module_version": "^0.17",
      "_view_name": "LeafletTileLayerView",
      "attribution": "Google Earth Engine",
      "base": false,
      "bottom": true,
      "bounds": null,
      "detect_retina": false,
      "loading": false,
      "max_native_zoom": null,
      "max_zoom": 24,
      "min_native_zoom": null,
      "min_zoom": 0,
      "name": "training",
      "no_wrap": false,
      "opacity": 0.4,
      "options": [
       "attribution",
       "bounds",
       "detect_retina",
       "max_native_zoom",
       "max_zoom",
       "min_native_zoom",
       "min_zoom",
       "no_wrap",
       "tile_size",
       "tms",
       "zoom_offset"
      ],
      "pane": "",
      "popup": null,
      "popup_max_height": null,
      "popup_max_width": 300,
      "popup_min_width": 50,
      "show_loading": false,
      "subitems": [],
      "tile_size": 256,
      "tms": false,
      "url": "https://earthengine.googleapis.com/v1/projects/earthengine-legacy/maps/e56d80250a2a003cc19318760402a01e-e019a97ce5597716557aec233fd7ed8e/tiles/{z}/{x}/{y}",
      "visible": true,
      "zoom_offset": 0
     }
    },
    "f486ad123ba04214aba5bd3ae0a20ed8": {
     "model_module": "jupyter-leaflet",
     "model_module_version": "^0.17",
     "model_name": "LeafletTileLayerModel",
     "state": {
      "_model_module": "jupyter-leaflet",
      "_model_module_version": "^0.17",
      "_model_name": "LeafletTileLayerModel",
      "_view_count": null,
      "_view_module": "jupyter-leaflet",
      "_view_module_version": "^0.17",
      "_view_name": "LeafletTileLayerView",
      "attribution": "Google Earth Engine",
      "base": false,
      "bottom": true,
      "bounds": null,
      "detect_retina": false,
      "loading": false,
      "max_native_zoom": null,
      "max_zoom": 24,
      "min_native_zoom": null,
      "min_zoom": 0,
      "name": "postFire_LVQ",
      "no_wrap": false,
      "opacity": 0.6,
      "options": [
       "attribution",
       "bounds",
       "detect_retina",
       "max_native_zoom",
       "max_zoom",
       "min_native_zoom",
       "min_zoom",
       "no_wrap",
       "tile_size",
       "tms",
       "zoom_offset"
      ],
      "pane": "",
      "popup": null,
      "popup_max_height": null,
      "popup_max_width": 300,
      "popup_min_width": 50,
      "show_loading": false,
      "subitems": [],
      "tile_size": 256,
      "tms": false,
      "url": "https://earthengine.googleapis.com/v1/projects/earthengine-legacy/maps/1cb145f006ac0a591d674724224f352d-8752f3d2d600b38e032189c281f634c5/tiles/{z}/{x}/{y}",
      "visible": true,
      "zoom_offset": 0
     }
    },
    "f53733f621c043b48ce4da33925ce566": {
     "model_module": "jupyter-leaflet",
     "model_module_version": "^0.17",
     "model_name": "LeafletAttributionControlModel",
     "state": {
      "_model_module": "jupyter-leaflet",
      "_model_module_version": "^0.17",
      "_model_name": "LeafletAttributionControlModel",
      "_view_count": null,
      "_view_module": "jupyter-leaflet",
      "_view_module_version": "^0.17",
      "_view_name": "LeafletAttributionControlView",
      "options": [
       "position",
       "prefix"
      ],
      "position": "bottomright",
      "prefix": "ipyleaflet"
     }
    },
    "f5edbf6b53504503a894e220b6d16c81": {
     "model_module": "@jupyter-widgets/base",
     "model_module_version": "1.2.0",
     "model_name": "LayoutModel",
     "state": {
      "_model_module": "@jupyter-widgets/base",
      "_model_module_version": "1.2.0",
      "_model_name": "LayoutModel",
      "_view_count": null,
      "_view_module": "@jupyter-widgets/base",
      "_view_module_version": "1.2.0",
      "_view_name": "LayoutView",
      "align_content": null,
      "align_items": null,
      "align_self": null,
      "border": null,
      "bottom": null,
      "display": null,
      "flex": null,
      "flex_flow": null,
      "grid_area": null,
      "grid_auto_columns": null,
      "grid_auto_flow": null,
      "grid_auto_rows": null,
      "grid_column": null,
      "grid_gap": null,
      "grid_row": null,
      "grid_template_areas": null,
      "grid_template_columns": null,
      "grid_template_rows": null,
      "height": "600px",
      "justify_content": null,
      "justify_items": null,
      "left": null,
      "margin": null,
      "max_height": null,
      "max_width": null,
      "min_height": null,
      "min_width": null,
      "object_fit": null,
      "object_position": null,
      "order": null,
      "overflow": null,
      "overflow_x": null,
      "overflow_y": null,
      "padding": null,
      "right": null,
      "top": null,
      "visibility": null,
      "width": null
     }
    },
    "f7908188cb0243b1980bf42b692422c6": {
     "model_module": "jupyter-leaflet",
     "model_module_version": "^0.17",
     "model_name": "LeafletTileLayerModel",
     "state": {
      "_model_module": "jupyter-leaflet",
      "_model_module_version": "^0.17",
      "_model_name": "LeafletTileLayerModel",
      "_view_count": null,
      "_view_module": "jupyter-leaflet",
      "_view_module_version": "^0.17",
      "_view_name": "LeafletTileLayerView",
      "attribution": "Google Earth Engine",
      "base": false,
      "bottom": true,
      "bounds": null,
      "detect_retina": false,
      "loading": false,
      "max_native_zoom": null,
      "max_zoom": 24,
      "min_native_zoom": null,
      "min_zoom": 0,
      "name": "preFire",
      "no_wrap": false,
      "opacity": 1,
      "options": [
       "attribution",
       "bounds",
       "detect_retina",
       "max_native_zoom",
       "max_zoom",
       "min_native_zoom",
       "min_zoom",
       "no_wrap",
       "tile_size",
       "tms",
       "zoom_offset"
      ],
      "pane": "",
      "popup": null,
      "popup_max_height": null,
      "popup_max_width": 300,
      "popup_min_width": 50,
      "show_loading": false,
      "subitems": [],
      "tile_size": 256,
      "tms": false,
      "url": "https://earthengine.googleapis.com/v1/projects/earthengine-legacy/maps/fc4f0fa457ec41ba147c28c9d726476f-2e1eec0bd66835801f2360bbb704fc93/tiles/{z}/{x}/{y}",
      "visible": true,
      "zoom_offset": 0
     }
    },
    "f8c36804d0fa436b91cd98bd691359ac": {
     "model_module": "@jupyter-widgets/controls",
     "model_module_version": "1.5.0",
     "model_name": "ToggleButtonModel",
     "state": {
      "_dom_classes": [],
      "_model_module": "@jupyter-widgets/controls",
      "_model_module_version": "1.5.0",
      "_model_name": "ToggleButtonModel",
      "_view_count": null,
      "_view_module": "@jupyter-widgets/controls",
      "_view_module_version": "1.5.0",
      "_view_name": "ToggleButtonView",
      "button_style": "",
      "description": "",
      "description_tooltip": null,
      "disabled": false,
      "icon": "globe",
      "layout": "IPY_MODEL_015e5b6712184278897f683e3db4828c",
      "style": "IPY_MODEL_ffea14964fbd4da2a7989eb4caf6a170",
      "tooltip": "Search location/data",
      "value": false
     }
    },
    "f9eb8293a96a4dd5bfc002fc18de6350": {
     "model_module": "@jupyter-widgets/controls",
     "model_module_version": "1.5.0",
     "model_name": "VBoxModel",
     "state": {
      "_dom_classes": [],
      "_model_module": "@jupyter-widgets/controls",
      "_model_module_version": "1.5.0",
      "_model_name": "VBoxModel",
      "_view_count": null,
      "_view_module": "@jupyter-widgets/controls",
      "_view_module_version": "1.5.0",
      "_view_name": "VBoxView",
      "box_style": "",
      "children": [
       "IPY_MODEL_fd93ebf3b6684cad8ed6b5963850ec99"
      ],
      "layout": "IPY_MODEL_ca18d05e9abf4cb59eecdc0edc942db8"
     }
    },
    "fa6b513fc24e46e3b5269a6b6bbe7602": {
     "model_module": "jupyter-leaflet",
     "model_module_version": "^0.17",
     "model_name": "LeafletLayersControlModel",
     "state": {
      "_model_module": "jupyter-leaflet",
      "_model_module_version": "^0.17",
      "_model_name": "LeafletLayersControlModel",
      "_view_count": null,
      "_view_module": "jupyter-leaflet",
      "_view_module_version": "^0.17",
      "_view_name": "LeafletLayersControlView",
      "options": [
       "position"
      ],
      "position": "topright"
     }
    },
    "fbcbc9c5bf19430f8d1a2d41301925cf": {
     "model_module": "@jupyter-widgets/base",
     "model_module_version": "1.2.0",
     "model_name": "LayoutModel",
     "state": {
      "_model_module": "@jupyter-widgets/base",
      "_model_module_version": "1.2.0",
      "_model_name": "LayoutModel",
      "_view_count": null,
      "_view_module": "@jupyter-widgets/base",
      "_view_module_version": "1.2.0",
      "_view_name": "LayoutView",
      "align_content": null,
      "align_items": null,
      "align_self": null,
      "border": null,
      "bottom": null,
      "display": null,
      "flex": null,
      "flex_flow": null,
      "grid_area": null,
      "grid_auto_columns": null,
      "grid_auto_flow": null,
      "grid_auto_rows": null,
      "grid_column": null,
      "grid_gap": null,
      "grid_row": null,
      "grid_template_areas": null,
      "grid_template_columns": null,
      "grid_template_rows": null,
      "height": "28px",
      "justify_content": null,
      "justify_items": null,
      "left": null,
      "margin": null,
      "max_height": null,
      "max_width": null,
      "min_height": null,
      "min_width": null,
      "object_fit": null,
      "object_position": null,
      "order": null,
      "overflow": null,
      "overflow_x": null,
      "overflow_y": null,
      "padding": "0px 0px 0px 4px",
      "right": null,
      "top": null,
      "visibility": null,
      "width": "28px"
     }
    },
    "fc8b2fb8ad834943b91a51f1ca666e7d": {
     "model_module": "jupyter-leaflet",
     "model_module_version": "^0.17",
     "model_name": "LeafletWidgetControlModel",
     "state": {
      "_model_module": "jupyter-leaflet",
      "_model_module_version": "^0.17",
      "_model_name": "LeafletWidgetControlModel",
      "_view_count": null,
      "_view_module": "jupyter-leaflet",
      "_view_module_version": "^0.17",
      "_view_name": "LeafletWidgetControlView",
      "max_height": null,
      "max_width": null,
      "min_height": null,
      "min_width": null,
      "options": [
       "position",
       "transparent_bg"
      ],
      "position": "topleft",
      "transparent_bg": false,
      "widget": "IPY_MODEL_023246ab0d0142ceb5501e61cafcccb9"
     }
    },
    "fd280af874464168a06a7ed19dbc6707": {
     "model_module": "jupyter-leaflet",
     "model_module_version": "^0.17",
     "model_name": "LeafletMeasureControlModel",
     "state": {
      "_custom_units": {},
      "_model_module": "jupyter-leaflet",
      "_model_module_version": "^0.17",
      "_model_name": "LeafletMeasureControlModel",
      "_view_count": null,
      "_view_module": "jupyter-leaflet",
      "_view_module_version": "^0.17",
      "_view_name": "LeafletMeasureControlView",
      "active_color": "orange",
      "capture_z_index": 10000,
      "completed_color": "#C8F2BE",
      "options": [
       "active_color",
       "capture_z_index",
       "completed_color",
       "popup_options",
       "position",
       "primary_area_unit",
       "primary_length_unit",
       "secondary_area_unit",
       "secondary_length_unit"
      ],
      "popup_options": {
       "autoPanPadding": [
        10,
        10
       ],
       "className": "leaflet-measure-resultpopup"
      },
      "position": "bottomleft",
      "primary_area_unit": "acres",
      "primary_length_unit": "kilometers",
      "secondary_area_unit": null,
      "secondary_length_unit": null
     }
    },
    "fd5c87405e554777b9b20ac0230ec616": {
     "model_module": "jupyter-leaflet",
     "model_module_version": "^0.17",
     "model_name": "LeafletScaleControlModel",
     "state": {
      "_model_module": "jupyter-leaflet",
      "_model_module_version": "^0.17",
      "_model_name": "LeafletScaleControlModel",
      "_view_count": null,
      "_view_module": "jupyter-leaflet",
      "_view_module_version": "^0.17",
      "_view_name": "LeafletScaleControlView",
      "imperial": true,
      "max_width": 100,
      "metric": true,
      "options": [
       "imperial",
       "max_width",
       "metric",
       "position",
       "update_when_idle"
      ],
      "position": "bottomleft",
      "update_when_idle": false
     }
    },
    "fd6e4d4b19814013beb5f8d560600460": {
     "model_module": "jupyter-leaflet",
     "model_module_version": "^0.17",
     "model_name": "LeafletTileLayerModel",
     "state": {
      "_model_module": "jupyter-leaflet",
      "_model_module_version": "^0.17",
      "_model_name": "LeafletTileLayerModel",
      "_view_count": null,
      "_view_module": "jupyter-leaflet",
      "_view_module_version": "^0.17",
      "_view_name": "LeafletTileLayerView",
      "attribution": "Google Earth Engine",
      "base": false,
      "bottom": true,
      "bounds": null,
      "detect_retina": false,
      "loading": false,
      "max_native_zoom": null,
      "max_zoom": 24,
      "min_native_zoom": null,
      "min_zoom": 0,
      "name": "postFire",
      "no_wrap": false,
      "opacity": 1,
      "options": [
       "attribution",
       "bounds",
       "detect_retina",
       "max_native_zoom",
       "max_zoom",
       "min_native_zoom",
       "min_zoom",
       "no_wrap",
       "tile_size",
       "tms",
       "zoom_offset"
      ],
      "pane": "",
      "popup": null,
      "popup_max_height": null,
      "popup_max_width": 300,
      "popup_min_width": 50,
      "show_loading": false,
      "subitems": [],
      "tile_size": 256,
      "tms": false,
      "url": "https://earthengine.googleapis.com/v1/projects/earthengine-legacy/maps/fd481c523e37a01afbb4e5a850aa2cb8-1a3139a3c920c5b8ba194214fb4aeb09/tiles/{z}/{x}/{y}",
      "visible": true,
      "zoom_offset": 0
     }
    },
    "fd93ebf3b6684cad8ed6b5963850ec99": {
     "model_module": "@jupyter-widgets/controls",
     "model_module_version": "1.5.0",
     "model_name": "ToggleButtonModel",
     "state": {
      "_dom_classes": [],
      "_model_module": "@jupyter-widgets/controls",
      "_model_module_version": "1.5.0",
      "_model_name": "ToggleButtonModel",
      "_view_count": null,
      "_view_module": "@jupyter-widgets/controls",
      "_view_module_version": "1.5.0",
      "_view_name": "ToggleButtonView",
      "button_style": "",
      "description": "",
      "description_tooltip": null,
      "disabled": false,
      "icon": "wrench",
      "layout": "IPY_MODEL_32f8617932db4f3da9d0c34577e004fc",
      "style": "IPY_MODEL_24f7740b7fae446fa3e53920c4c9da13",
      "tooltip": "Toolbar",
      "value": false
     }
    },
    "fdde928df0174803a028e9202befb70b": {
     "model_module": "jupyter-leaflet",
     "model_module_version": "^0.17",
     "model_name": "LeafletDrawControlModel",
     "state": {
      "_model_module": "jupyter-leaflet",
      "_model_module_version": "^0.17",
      "_model_name": "LeafletDrawControlModel",
      "_view_count": null,
      "_view_module": "jupyter-leaflet",
      "_view_module_version": "^0.17",
      "_view_name": "LeafletDrawControlView",
      "circle": {},
      "circlemarker": {},
      "data": [],
      "edit": true,
      "marker": {
       "shapeOptions": {
        "color": "#3388ff"
       }
      },
      "options": [
       "position"
      ],
      "polygon": {
       "shapeOptions": {}
      },
      "polyline": {
       "shapeOptions": {}
      },
      "position": "topleft",
      "rectangle": {
       "shapeOptions": {
        "color": "#3388ff"
       }
      },
      "remove": true
     }
    },
    "fde71d3bf3a64bb69697f07e7a9080e7": {
     "model_module": "jupyter-leaflet",
     "model_module_version": "^0.17",
     "model_name": "LeafletTileLayerModel",
     "state": {
      "_model_module": "jupyter-leaflet",
      "_model_module_version": "^0.17",
      "_model_name": "LeafletTileLayerModel",
      "_view_count": null,
      "_view_module": "jupyter-leaflet",
      "_view_module_version": "^0.17",
      "_view_name": "LeafletTileLayerView",
      "attribution": "Google Earth Engine",
      "base": false,
      "bottom": true,
      "bounds": null,
      "detect_retina": false,
      "loading": false,
      "max_native_zoom": null,
      "max_zoom": 24,
      "min_native_zoom": null,
      "min_zoom": 0,
      "name": "clusters",
      "no_wrap": false,
      "opacity": 1,
      "options": [
       "attribution",
       "bounds",
       "detect_retina",
       "max_native_zoom",
       "max_zoom",
       "min_native_zoom",
       "min_zoom",
       "no_wrap",
       "tile_size",
       "tms",
       "zoom_offset"
      ],
      "pane": "",
      "popup": null,
      "popup_max_height": null,
      "popup_max_width": 300,
      "popup_min_width": 50,
      "show_loading": false,
      "subitems": [],
      "tile_size": 256,
      "tms": false,
      "url": "https://earthengine.googleapis.com/v1/projects/earthengine-legacy/maps/74fe50e555afba624939713ad1c08243-3f91b2be70d5261fcf54021cdcb646f3/tiles/{z}/{x}/{y}",
      "visible": true,
      "zoom_offset": 0
     }
    },
    "fe75a589c48242d9a319e7a60d04c540": {
     "model_module": "@jupyter-widgets/base",
     "model_module_version": "1.2.0",
     "model_name": "LayoutModel",
     "state": {
      "_model_module": "@jupyter-widgets/base",
      "_model_module_version": "1.2.0",
      "_model_name": "LayoutModel",
      "_view_count": null,
      "_view_module": "@jupyter-widgets/base",
      "_view_module_version": "1.2.0",
      "_view_name": "LayoutView",
      "align_content": null,
      "align_items": null,
      "align_self": null,
      "border": null,
      "bottom": null,
      "display": null,
      "flex": null,
      "flex_flow": null,
      "grid_area": null,
      "grid_auto_columns": null,
      "grid_auto_flow": null,
      "grid_auto_rows": null,
      "grid_column": null,
      "grid_gap": null,
      "grid_row": null,
      "grid_template_areas": null,
      "grid_template_columns": null,
      "grid_template_rows": null,
      "height": null,
      "justify_content": null,
      "justify_items": null,
      "left": null,
      "margin": null,
      "max_height": null,
      "max_width": null,
      "min_height": null,
      "min_width": null,
      "object_fit": null,
      "object_position": null,
      "order": null,
      "overflow": null,
      "overflow_x": null,
      "overflow_y": null,
      "padding": null,
      "right": null,
      "top": null,
      "visibility": null,
      "width": null
     }
    },
    "ffea14964fbd4da2a7989eb4caf6a170": {
     "model_module": "@jupyter-widgets/controls",
     "model_module_version": "1.5.0",
     "model_name": "DescriptionStyleModel",
     "state": {
      "_model_module": "@jupyter-widgets/controls",
      "_model_module_version": "1.5.0",
      "_model_name": "DescriptionStyleModel",
      "_view_count": null,
      "_view_module": "@jupyter-widgets/base",
      "_view_module_version": "1.2.0",
      "_view_name": "StyleView",
      "description_width": ""
     }
    }
   }
  }
 },
 "nbformat": 4,
 "nbformat_minor": 4
}
